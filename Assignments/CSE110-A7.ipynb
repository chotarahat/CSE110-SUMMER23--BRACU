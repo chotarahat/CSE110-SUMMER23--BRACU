{
  "nbformat": 4,
  "nbformat_minor": 0,
  "metadata": {
    "colab": {
      "provenance": []
    },
    "kernelspec": {
      "name": "python3",
      "display_name": "Python 3"
    },
    "language_info": {
      "name": "python"
    }
  },
  "cells": [
    {
      "cell_type": "markdown",
      "source": [
        "**TASK 1**"
      ],
      "metadata": {
        "id": "vAyWvyPbSS0h"
      }
    },
    {
      "cell_type": "code",
      "execution_count": null,
      "metadata": {
        "colab": {
          "base_uri": "https://localhost:8080/"
        },
        "id": "LwnSHO9ow5Hs",
        "outputId": "677fd783-6e16-494f-b0fb-dc19de949dd1"
      },
      "outputs": [
        {
          "output_type": "stream",
          "name": "stdout",
          "text": [
            "Even!!\n"
          ]
        }
      ],
      "source": [
        "def even_checker(number):\n",
        "  if number % 2==0:\n",
        "    print(\"Even!!\")\n",
        "  else:\n",
        "    print(\"Odd!!\")\n",
        "even_checker(2)"
      ]
    },
    {
      "cell_type": "markdown",
      "source": [
        "**TASK 2**"
      ],
      "metadata": {
        "id": "Cxyh4I8RSa0e"
      }
    },
    {
      "cell_type": "code",
      "source": [
        "def fibonacci(limit):\n",
        "  a,b =0, 1\n",
        "  for i in range(0,limit+1):\n",
        "    if a>limit:\n",
        "      break\n",
        "    print(a, end=' ')\n",
        "    a ,b =b,a + b\n",
        "fibonacci(5)"
      ],
      "metadata": {
        "colab": {
          "base_uri": "https://localhost:8080/"
        },
        "id": "lVipK99Q7tnD",
        "outputId": "d8bf1b50-e31c-46c3-8f74-909ad9cf7efd"
      },
      "execution_count": null,
      "outputs": [
        {
          "output_type": "stream",
          "name": "stdout",
          "text": [
            "0 1 1 2 3 5 "
          ]
        }
      ]
    },
    {
      "cell_type": "markdown",
      "source": [
        "**TASK 3**"
      ],
      "metadata": {
        "id": "C1n_lxHqS6Ya"
      }
    },
    {
      "cell_type": "code",
      "source": [
        "def foo_moo(number):\n",
        "  if number%2 == 0:\n",
        "    return \"Foo\"\n",
        "  elif number%3 == 0:\n",
        "    return 'Moo'\n",
        "  elif number%2==0 and number%3==0:\n",
        "    return 'FooMoo'\n",
        "  else:\n",
        "    return \"Boo\"\n",
        "#foo_moo(5)\n",
        "foo_moo(4)\n",
        "#foo_moo(6)"
      ],
      "metadata": {
        "colab": {
          "base_uri": "https://localhost:8080/",
          "height": 36
        },
        "id": "j5s8xDeM_Cqw",
        "outputId": "23120b20-b23d-45f0-f879-896c0322af9a"
      },
      "execution_count": null,
      "outputs": [
        {
          "output_type": "execute_result",
          "data": {
            "text/plain": [
              "'Foo'"
            ],
            "application/vnd.google.colaboratory.intrinsic+json": {
              "type": "string"
            }
          },
          "metadata": {},
          "execution_count": 6
        }
      ]
    },
    {
      "cell_type": "code",
      "source": [
        "def foo_moo(number):\n",
        "    if number % 2 == 0 and number % 3 == 0:\n",
        "        return 'FooMoo'\n",
        "    elif number % 2 == 0:\n",
        "        return 'Foo'\n",
        "    elif number % 3 == 0:\n",
        "        return 'Moo'\n",
        "    else:\n",
        "        return 'Boo'\n",
        "print(foo_moo(5))\n",
        "print(foo_moo(4))\n",
        "print(foo_moo(6))"
      ],
      "metadata": {
        "colab": {
          "base_uri": "https://localhost:8080/"
        },
        "id": "x8QT41qOCnP6",
        "outputId": "b8dbf3b4-a765-471c-d93a-8e933a885aa2"
      },
      "execution_count": null,
      "outputs": [
        {
          "output_type": "stream",
          "name": "stdout",
          "text": [
            "Boo\n",
            "Foo\n",
            "FooMoo\n"
          ]
        }
      ]
    },
    {
      "cell_type": "code",
      "source": [
        "def calculate(string):\n",
        "  uppercase = 0\n",
        "  lowercase = 0\n",
        "  for i in string:\n",
        "    if 65<=ord(i)<=90:\n",
        "      uppercase+=1\n",
        "    elif 97<=ord(i)<=122:\n",
        "      lowercase+=1\n",
        "  print(\"No. of Uppercase Characters : \",uppercase)\n",
        "  print(\"No. of Lowercase Characters : \",lowercase)\n",
        "calculate('The quick Sand Man')\n"
      ],
      "metadata": {
        "colab": {
          "base_uri": "https://localhost:8080/"
        },
        "id": "WOjithQFDuZq",
        "outputId": "dee223c3-2651-435b-b3e9-0b1e4be0d84d"
      },
      "execution_count": null,
      "outputs": [
        {
          "output_type": "stream",
          "name": "stdout",
          "text": [
            "No. of Uppercase Characters :  3\n",
            "No. of Lowercase Characters :  12\n"
          ]
        }
      ]
    },
    {
      "cell_type": "code",
      "source": [
        "print(chr(78))\n",
        "print(ord(\"A\"))\n",
        "print(chr(ord(\"a\")-32))\n",
        "print(chr(ord(\"A\")+32))"
      ],
      "metadata": {
        "colab": {
          "base_uri": "https://localhost:8080/"
        },
        "id": "qHoMZ1jJD_NZ",
        "outputId": "99999622-c258-4b65-ec38-c87defb4cdb3"
      },
      "execution_count": null,
      "outputs": [
        {
          "output_type": "stream",
          "name": "stdout",
          "text": [
            "N\n",
            "65\n",
            "A\n",
            "a\n"
          ]
        }
      ]
    },
    {
      "cell_type": "code",
      "source": [
        "def calculate_tax(age,salary,job):\n",
        "  if age<18:\n",
        "    return 0\n",
        "  elif job==\"president\":\n",
        "    return 0\n",
        "  elif salary<10000:\n",
        "    return 0\n",
        "  elif 10000<=salary<=20000:\n",
        "    tax = salary*(5/100)\n",
        "    return tax\n",
        "  elif salary>20000:\n",
        "    tax = salary*(10/100)\n",
        "    return tax\n",
        "print(calculate_tax(int(input()),int(input()),input()))"
      ],
      "metadata": {
        "colab": {
          "base_uri": "https://localhost:8080/"
        },
        "id": "5L5BTe21GRpJ",
        "outputId": "e0a0e468-9772-4c6c-9bb0-eb2b6c3352e2"
      },
      "execution_count": null,
      "outputs": [
        {
          "output_type": "stream",
          "name": "stdout",
          "text": [
            "20\n",
            "122000\n",
            "president\n",
            "0\n"
          ]
        }
      ]
    },
    {
      "cell_type": "markdown",
      "source": [
        "**TASK 6**"
      ],
      "metadata": {
        "id": "1IA3g5NuOSYv"
      }
    },
    {
      "cell_type": "code",
      "source": [
        "def num_of_days(number):\n",
        "  year = number//365\n",
        "  months1 = number%365\n",
        "  months = months1//30\n",
        "  days = months1%30\n",
        "  print(year,\"years,\",months,\"months\",\"and\",days,\"days\")\n",
        "num_of_days(int(input()))"
      ],
      "metadata": {
        "colab": {
          "base_uri": "https://localhost:8080/"
        },
        "id": "Nf5iZmF0JqBq",
        "outputId": "ae3215bd-804a-4312-e5d6-c4e4da933eb0"
      },
      "execution_count": null,
      "outputs": [
        {
          "output_type": "stream",
          "name": "stdout",
          "text": [
            "2250\n",
            "6 years, 2 months and 0 days\n"
          ]
        }
      ]
    },
    {
      "cell_type": "code",
      "source": [
        "number = int(input())\n",
        "hours = number//3600\n",
        "seconds1 = number%3600\n",
        "minutes = seconds1//60\n",
        "seconds = seconds1%60\n",
        "if number>0:\n",
        "  print(\"Hours :\",hours,\"Minutes :\",minutes,\"Seconds :\",seconds)\n"
      ],
      "metadata": {
        "id": "EAIr15dfMTFp",
        "colab": {
          "base_uri": "https://localhost:8080/"
        },
        "outputId": "6a1af579-1fde-4e20-e5f5-56c6acb3199c"
      },
      "execution_count": null,
      "outputs": [
        {
          "output_type": "stream",
          "name": "stdout",
          "text": [
            "4330\n",
            "Hours : 1 Minutes : 12 Seconds : 10\n"
          ]
        }
      ]
    },
    {
      "cell_type": "code",
      "source": [
        "print(4330//365)\n",
        "\n",
        "print((4330%365)//30)\n",
        "\n",
        "print(((4330%365)/30)%30)"
      ],
      "metadata": {
        "colab": {
          "base_uri": "https://localhost:8080/"
        },
        "id": "eC-okeaoMZTJ",
        "outputId": "a593c19a-ce45-4987-ea72-18d0882a6bc5"
      },
      "execution_count": null,
      "outputs": [
        {
          "output_type": "stream",
          "name": "stdout",
          "text": [
            "11\n",
            "10\n",
            "10.5\n"
          ]
        }
      ]
    },
    {
      "cell_type": "code",
      "source": [
        "def show_palindrome(number):\n",
        "  result = \"\"\n",
        "  for i in range(1,number+1):\n",
        "    result += str(i)\n",
        "  for i in range(number-1,0,-1):\n",
        "    result += str(i)\n",
        "  return result\n",
        "print(show_palindrome(3))"
      ],
      "metadata": {
        "colab": {
          "base_uri": "https://localhost:8080/"
        },
        "id": "ws1-eW8wPYMu",
        "outputId": "d3bc1bee-8f8e-41a8-d2df-9bf331944d00"
      },
      "execution_count": null,
      "outputs": [
        {
          "output_type": "stream",
          "name": "stdout",
          "text": [
            "12321\n"
          ]
        }
      ]
    },
    {
      "cell_type": "code",
      "source": [
        "def show_palindromic_triangle(number):\n",
        "  result = \"\"\n",
        "  for i in range(1,number+1):\n",
        "    for j in range(number-1,0,-1):\n",
        "      result += str(i)\n",
        "  print(result)\n",
        "  print()\n",
        "show_palindromic_triangle(5)\n"
      ],
      "metadata": {
        "colab": {
          "base_uri": "https://localhost:8080/"
        },
        "id": "4jiAJQCNRznV",
        "outputId": "909c406c-e72b-4f2a-81d7-def6538158c5"
      },
      "execution_count": null,
      "outputs": [
        {
          "output_type": "stream",
          "name": "stdout",
          "text": [
            "11112222333344445555\n",
            "\n"
          ]
        }
      ]
    },
    {
      "cell_type": "code",
      "source": [
        "N = int(input())\n",
        "for i in range(N):\n",
        "    print(' '*(N-i- 1) + '+'*(2*i+1))"
      ],
      "metadata": {
        "colab": {
          "base_uri": "https://localhost:8080/"
        },
        "id": "S_r5BCuyejyB",
        "outputId": "27f0e58d-ad0b-4eda-f9e5-4af2483fe683"
      },
      "execution_count": null,
      "outputs": [
        {
          "output_type": "stream",
          "name": "stdout",
          "text": [
            "5\n",
            "    N\n",
            "   NNN\n",
            "  NNNNN\n",
            " NNNNNNN\n",
            "NNNNNNNNN\n"
          ]
        }
      ]
    },
    {
      "cell_type": "code",
      "source": [
        "N = int(input())\n",
        "\n",
        "for i in range(N):\n",
        "    for j in range(N-i-1):\n",
        "        print(' ', end='')\n",
        "    for j in range(2*i+1):\n",
        "        if j == 0 or j == 2*i or i == N-1:\n",
        "            print('+', end='')\n",
        "        else:\n",
        "            print(' ', end='')\n",
        "    print()\n"
      ],
      "metadata": {
        "colab": {
          "base_uri": "https://localhost:8080/"
        },
        "id": "lUsiIF-Yenfe",
        "outputId": "5cf49dbe-8c2f-4d9a-aae1-a6c6015cd021"
      },
      "execution_count": null,
      "outputs": [
        {
          "output_type": "stream",
          "name": "stdout",
          "text": [
            "5\n",
            "    +\n",
            "   + +\n",
            "  +   +\n",
            " +     +\n",
            "+++++++++\n"
          ]
        }
      ]
    },
    {
      "cell_type": "markdown",
      "source": [
        "**TASK 8**"
      ],
      "metadata": {
        "id": "ygTZ3lwGZQIi"
      }
    },
    {
      "cell_type": "code",
      "source": [
        "def show_palindromic_triangle(number):\n",
        "    for i in range(1, number + 1):\n",
        "        for j in range(number - i):\n",
        "            print(' ', end=' ')\n",
        "        for j in range(1, i + 1):\n",
        "            print(j, end=' ')\n",
        "        for j in range(i - 1, 0, -1):\n",
        "            print(j, end=' ')\n",
        "        print()\n",
        "show_palindromic_triangle(5)"
      ],
      "metadata": {
        "colab": {
          "base_uri": "https://localhost:8080/"
        },
        "id": "OzJRs27bf-TR",
        "outputId": "b351aab4-ab7f-48ac-9401-34802d30b77c"
      },
      "execution_count": null,
      "outputs": [
        {
          "output_type": "stream",
          "name": "stdout",
          "text": [
            "        1 \n",
            "      1 2 1 \n",
            "    1 2 3 2 1 \n",
            "  1 2 3 4 3 2 1 \n",
            "1 2 3 4 5 4 3 2 1 \n"
          ]
        }
      ]
    },
    {
      "cell_type": "code",
      "source": [
        "def show_palindrome(row):\n",
        "  for i in range(1,row+1):\n",
        "    print(((row-i)*2*\" \"),end =\"\")\n",
        "    print(i)\n",
        "show_palindrome(5)\n"
      ],
      "metadata": {
        "colab": {
          "base_uri": "https://localhost:8080/"
        },
        "id": "oFuCuLmtAyPe",
        "outputId": "7c2b7b43-0830-4fb1-886e-8f62c4b2e0e5"
      },
      "execution_count": null,
      "outputs": [
        {
          "output_type": "stream",
          "name": "stdout",
          "text": [
            "        1\n",
            "      2\n",
            "    3\n",
            "  4\n",
            "5\n"
          ]
        }
      ]
    },
    {
      "cell_type": "code",
      "source": [
        "def show_palindrome(row):\n",
        "  for i in range(1, row + 1):\n",
        "    print(((row - i) * 2 * \" \"), end=\"\")\n",
        "    for j in range(1, i + 1):\n",
        "        print(j, end=' ')\n",
        "    for j in range(i - 1, 0, -1):\n",
        "        print(j, end=' ')\n",
        "    print()\n",
        "show_palindrome(3)\n"
      ],
      "metadata": {
        "colab": {
          "base_uri": "https://localhost:8080/"
        },
        "id": "6uexT8l3rbGt",
        "outputId": "af1b8dac-3d53-4686-f118-f85e79a0319f"
      },
      "execution_count": null,
      "outputs": [
        {
          "output_type": "stream",
          "name": "stdout",
          "text": [
            "    1 \n",
            "  1 2 1 \n",
            "1 2 3 2 1 \n"
          ]
        }
      ]
    },
    {
      "cell_type": "markdown",
      "source": [
        "**TASK 9**"
      ],
      "metadata": {
        "id": "hbnYlvq4BYvF"
      }
    },
    {
      "cell_type": "code",
      "source": [
        "def area_circumference_generator(radius_of_circle):\n",
        "  import math\n",
        "  area_of_the_circle = math.pi * math.pow(radius_of_circle,2)\n",
        "  circumference_of_circle = 2 * math.pi * radius_of_circle\n",
        "  my_tuple = (area_of_the_circle, circumference_of_circle)\n",
        "  print(my_tuple)\n",
        "\n",
        "  print(f\"Area of the circle is {area_of_the_circle} and circumference is {circumference_of_circle}\")\n",
        "area_circumference_generator(2.5)\n",
        "  #return 0\n",
        "\n",
        "#answer = area_circumference_generator(1.5)\n",
        "#print(answer)"
      ],
      "metadata": {
        "colab": {
          "base_uri": "https://localhost:8080/"
        },
        "id": "Ng5XvFffg8Rd",
        "outputId": "ccb6d789-592a-4e19-fb21-3ffcbf4b7b7e"
      },
      "execution_count": null,
      "outputs": [
        {
          "output_type": "stream",
          "name": "stdout",
          "text": [
            "(19.634954084936208, 15.707963267948966)\n",
            "Area of the circle is 19.634954084936208 and circumference is 15.707963267948966\n"
          ]
        }
      ]
    },
    {
      "cell_type": "markdown",
      "source": [
        "**TASK10**"
      ],
      "metadata": {
        "id": "gjd89_NpFLZM"
      }
    },
    {
      "cell_type": "code",
      "source": [
        "def make_square(start,end):\n",
        "  new_d={}\n",
        "  for i in range(start,end+1):\n",
        "    new_d[i]=(i)**2\n",
        "  print(new_d)\n",
        "make_square(int(input()),int(input()))"
      ],
      "metadata": {
        "colab": {
          "base_uri": "https://localhost:8080/"
        },
        "id": "IhxDlavsm_2F",
        "outputId": "f446d471-d8fe-4132-cb23-511a5d1a680b"
      },
      "execution_count": null,
      "outputs": [
        {
          "output_type": "stream",
          "name": "stdout",
          "text": [
            "1\n",
            "3\n",
            "{1: 1, 2: 4, 3: 9}\n"
          ]
        }
      ]
    },
    {
      "cell_type": "markdown",
      "source": [
        "**TASK 11**"
      ],
      "metadata": {
        "id": "MyFn5PADEN7H"
      }
    },
    {
      "cell_type": "code",
      "source": [
        "def rem_duplicate(my_tuple):\n",
        "  new_list = []\n",
        "  for i in my_tuple:\n",
        "    if i not in new_list:\n",
        "      new_list.append(i)\n",
        "    return tuple(new_list)\n",
        "print(rem_duplicate(input()))"
      ],
      "metadata": {
        "colab": {
          "base_uri": "https://localhost:8080/"
        },
        "id": "5QsyDDYTqKhK",
        "outputId": "a68b5fc5-18fe-4e63-9f8c-2c1cd3c97024"
      },
      "execution_count": null,
      "outputs": [
        {
          "output_type": "stream",
          "name": "stdout",
          "text": [
            "(1,1,1,2,3,4,5,6,6,6,6,4,0,0,0)\n",
            "('(',)\n"
          ]
        }
      ]
    },
    {
      "cell_type": "code",
      "source": [
        "def rem_duplicate(tup):\n",
        "    result = []\n",
        "    for item in tup:\n",
        "        if item not in result:\n",
        "            result.append(item)\n",
        "    return tuple(result)\n",
        "rem_duplicate((\"Hi\", 1, 2, 3, 3, \"Hi\",'a', 'a', [1,2]))"
      ],
      "metadata": {
        "colab": {
          "base_uri": "https://localhost:8080/"
        },
        "id": "d42KuoEAv4ae",
        "outputId": "6d8167cb-3e05-487e-cc30-a99545eed63b"
      },
      "execution_count": null,
      "outputs": [
        {
          "output_type": "execute_result",
          "data": {
            "text/plain": [
              "('Hi', 1, 2, 3, 'a', [1, 2])"
            ]
          },
          "metadata": {},
          "execution_count": 21
        }
      ]
    },
    {
      "cell_type": "code",
      "source": [
        "\n",
        "def rem_duplicate(tup):\n",
        "    result = []\n",
        "    for item in tup:\n",
        "      if item not in result:\n",
        "        result.append(item)\n",
        "    return tuple(result)\n",
        "rem_duplicate(input())"
      ],
      "metadata": {
        "colab": {
          "base_uri": "https://localhost:8080/"
        },
        "id": "FYwxvvp65syB",
        "outputId": "33e0e144-e1e1-43e2-ea86-88e91fe3df33"
      },
      "execution_count": null,
      "outputs": [
        {
          "name": "stdout",
          "output_type": "stream",
          "text": [
            "('Hi', 1, 2, 3, 'a', [1, 2])\n"
          ]
        },
        {
          "output_type": "execute_result",
          "data": {
            "text/plain": [
              "('(', \"'\", 'H', 'i', ',', ' ', '1', '2', '3', 'a', '[', ']', ')')"
            ]
          },
          "metadata": {},
          "execution_count": 23
        }
      ]
    },
    {
      "cell_type": "code",
      "source": [
        "s = input()\n",
        "m = []\n",
        "temp = ''\n",
        "for i in s:\n",
        "  if i != ' ':\n",
        "    temp+=i\n",
        "  else:\n",
        "     m.append(int(temp))\n",
        "     temp = ''\n",
        "\n",
        "if temp != '':\n",
        "  m.append(int(temp))\n",
        "\n",
        "print(\"Original list: \",m)\n",
        "new_list=[]\n",
        "for i in m:\n",
        "  if i % 2 != 0:\n",
        "    #m.remove(i)\n",
        "    new_list+=[i]\n",
        "\n",
        "print(\"Modified list: \",new_list)"
      ],
      "metadata": {
        "id": "KH9skKLksyYw"
      },
      "execution_count": null,
      "outputs": []
    },
    {
      "cell_type": "markdown",
      "source": [
        "**TASK 12**"
      ],
      "metadata": {
        "id": "g0T34glYNvBK"
      }
    },
    {
      "cell_type": "code",
      "source": [
        "def function_name(my_list):\n",
        "  new_list = []\n",
        "  for i in my_list:\n",
        "    if new_list.count(i)<2:\n",
        "      new_list.append(i)\n",
        "\n",
        "    removed = len(my_list) - len(new_list)\n",
        "  print(\"Removed:\",removed)\n",
        "  print(new_list)\n",
        "function_name([10, 10, 15, 15, 20])\n"
      ],
      "metadata": {
        "id": "xR1JS7lsszXn",
        "colab": {
          "base_uri": "https://localhost:8080/"
        },
        "outputId": "ed2f8d82-a282-4388-a9b6-b3fcaf4778ae"
      },
      "execution_count": null,
      "outputs": [
        {
          "output_type": "stream",
          "name": "stdout",
          "text": [
            "Removed: 0\n",
            "[10, 10, 15, 15, 20]\n"
          ]
        }
      ]
    },
    {
      "cell_type": "code",
      "source": [
        "list1= [10, 10,10,10, 15, 15, 20]\n",
        "for i in list1:\n",
        "  a = list1.count(i)\n",
        "print(a)"
      ],
      "metadata": {
        "colab": {
          "base_uri": "https://localhost:8080/"
        },
        "id": "lukCmYdzILCJ",
        "outputId": "855f7668-3ff5-4463-b5ac-078ab5f7be19"
      },
      "execution_count": null,
      "outputs": [
        {
          "output_type": "stream",
          "name": "stdout",
          "text": [
            "1\n"
          ]
        }
      ]
    },
    {
      "cell_type": "code",
      "source": [
        "s = \"10,20,30\"\n",
        "s.split(\",\")\n",
        "print(a)"
      ],
      "metadata": {
        "colab": {
          "base_uri": "https://localhost:8080/"
        },
        "id": "Ju89luopIgud",
        "outputId": "d432b80b-2184-432c-cf75-29fb4ae88b48"
      },
      "execution_count": null,
      "outputs": [
        {
          "output_type": "stream",
          "name": "stdout",
          "text": [
            "['10', '20', '30']\n"
          ]
        }
      ]
    },
    {
      "cell_type": "markdown",
      "source": [
        "**TASK 13**"
      ],
      "metadata": {
        "id": "sw8b19BeNxcI"
      }
    },
    {
      "cell_type": "code",
      "source": [
        "def basic_calculation(operator,first_num,sec_num):\n",
        "  if operator == \"+\":\n",
        "    a = first_num + sec_num\n",
        "    return a\n",
        "  elif operator == \"-\":\n",
        "    b = first_num - sec_num\n",
        "    return b\n",
        "  elif operator == \"*\":\n",
        "    c = first_num * sec_num\n",
        "    return c\n",
        "  elif operator == \"/\":\n",
        "    d = first_num/sec_num\n",
        "    return d\n",
        "print(basic_calculation(input(),float(input()),float(input("
      ],
      "metadata": {
        "colab": {
          "base_uri": "https://localhost:8080/"
        },
        "id": "uhXfU7VKNzHQ",
        "outputId": "d10ccfd6-e199-49a1-ad64-ff4a15a8cb0b"
      },
      "execution_count": null,
      "outputs": [
        {
          "output_type": "stream",
          "name": "stdout",
          "text": [
            "*\n",
            "5.5\n",
            "2.5\n",
            "13.75\n"
          ]
        }
      ]
    },
    {
      "cell_type": "markdown",
      "source": [
        "**TASK 14**"
      ],
      "metadata": {
        "id": "JEU9LCMPRxwM"
      }
    },
    {
      "cell_type": "code",
      "source": [
        "def function_name(sentence,position):\n",
        "  temp = \"\"\n",
        "  new_string =\"\"\n",
        "  for i in range((len(sentence))):\n",
        "    if i == 0:\n",
        "      new_string+=sentence[i]\n",
        "  for i in range(1,(len(sentence))):\n",
        "    if i == 0:\n",
        "      new_string+=sentence[i]\n",
        "\n",
        "    if i % position != 0:\n",
        "      new_string+= sentence[i]\n",
        "\n",
        "\n",
        "    else:\n",
        "      temp+=sentence[i]\n",
        "\n",
        "  new_string+= temp\n",
        "  return new_string\n",
        "\n",
        "\n",
        "print(function_name(input(),int(input())))"
      ],
      "metadata": {
        "colab": {
          "base_uri": "https://localhost:8080/"
        },
        "id": "IeZM2Z2CR0Jz",
        "outputId": "9d16ab20-a423-4cf8-f253-43c8fce4cbb3"
      },
      "execution_count": null,
      "outputs": [
        {
          "output_type": "stream",
          "name": "stdout",
          "text": [
            "I love programming.\n",
            "3\n",
            "I lveprgrmmngo oai.\n"
          ]
        }
      ]
    },
    {
      "cell_type": "code",
      "source": [
        "temp =\"\"\n",
        "print(type(temp))"
      ],
      "metadata": {
        "colab": {
          "base_uri": "https://localhost:8080/"
        },
        "id": "HgDUlCiKTKeL",
        "outputId": "58e82fba-6576-4464-bf61-fb213d388675"
      },
      "execution_count": null,
      "outputs": [
        {
          "output_type": "stream",
          "name": "stdout",
          "text": [
            "<class 'str'>\n"
          ]
        }
      ]
    },
    {
      "cell_type": "code",
      "source": [
        "a = \"abcdefg\"\n",
        "for i in range(len(a)):\n",
        "  if i%2==0:\n",
        "    print(i,end=\"  \")\n",
        "    print(a[i])\n",
        "print(a[i])"
      ],
      "metadata": {
        "colab": {
          "base_uri": "https://localhost:8080/"
        },
        "id": "ZJfJ-HJ0VFlH",
        "outputId": "09ea105e-0796-433f-fa5e-f1bbc5a949c1"
      },
      "execution_count": null,
      "outputs": [
        {
          "output_type": "stream",
          "name": "stdout",
          "text": [
            "0  a\n",
            "2  c\n",
            "4  e\n",
            "6  g\n",
            "g\n"
          ]
        }
      ]
    },
    {
      "cell_type": "code",
      "source": [
        "def function_name(sentence,position):\n",
        "  temp = \"\"\n",
        "  new_string = \"\"\n",
        "  for i in range((len(sentence))):\n",
        "    if i % position == 0:\n",
        "      temp+=(a[i])\n",
        "    else:\n",
        "      new_string+=(a[i])\n",
        "  return new_string\n",
        "\n",
        "\n",
        "print(function_name(input(),int(input())))"
      ],
      "metadata": {
        "id": "AsD2LrhrWd4X",
        "colab": {
          "base_uri": "https://localhost:8080/",
          "height": 366
        },
        "outputId": "7985f58d-5297-421f-8e82-98a11d0abb25"
      },
      "execution_count": null,
      "outputs": [
        {
          "name": "stdout",
          "output_type": "stream",
          "text": [
            "i love programming\n",
            "6\n"
          ]
        },
        {
          "output_type": "error",
          "ename": "IndexError",
          "evalue": "ignored",
          "traceback": [
            "\u001b[0;31m---------------------------------------------------------------------------\u001b[0m",
            "\u001b[0;31mIndexError\u001b[0m                                Traceback (most recent call last)",
            "\u001b[0;32m<ipython-input-2-99c941e4044d>\u001b[0m in \u001b[0;36m<cell line: 12>\u001b[0;34m()\u001b[0m\n\u001b[1;32m     10\u001b[0m \u001b[0;34m\u001b[0m\u001b[0m\n\u001b[1;32m     11\u001b[0m \u001b[0;34m\u001b[0m\u001b[0m\n\u001b[0;32m---> 12\u001b[0;31m \u001b[0mprint\u001b[0m\u001b[0;34m(\u001b[0m\u001b[0mfunction_name\u001b[0m\u001b[0;34m(\u001b[0m\u001b[0minput\u001b[0m\u001b[0;34m(\u001b[0m\u001b[0;34m)\u001b[0m\u001b[0;34m,\u001b[0m\u001b[0mint\u001b[0m\u001b[0;34m(\u001b[0m\u001b[0minput\u001b[0m\u001b[0;34m(\u001b[0m\u001b[0;34m)\u001b[0m\u001b[0;34m)\u001b[0m\u001b[0;34m)\u001b[0m\u001b[0;34m)\u001b[0m\u001b[0;34m\u001b[0m\u001b[0;34m\u001b[0m\u001b[0m\n\u001b[0m",
            "\u001b[0;32m<ipython-input-2-99c941e4044d>\u001b[0m in \u001b[0;36mfunction_name\u001b[0;34m(sentence, position)\u001b[0m\n\u001b[1;32m      6\u001b[0m       \u001b[0mtemp\u001b[0m\u001b[0;34m+=\u001b[0m\u001b[0;34m(\u001b[0m\u001b[0ma\u001b[0m\u001b[0;34m[\u001b[0m\u001b[0mi\u001b[0m\u001b[0;34m]\u001b[0m\u001b[0;34m)\u001b[0m\u001b[0;34m\u001b[0m\u001b[0;34m\u001b[0m\u001b[0m\n\u001b[1;32m      7\u001b[0m     \u001b[0;32melse\u001b[0m\u001b[0;34m:\u001b[0m\u001b[0;34m\u001b[0m\u001b[0;34m\u001b[0m\u001b[0m\n\u001b[0;32m----> 8\u001b[0;31m       \u001b[0mnew_string\u001b[0m\u001b[0;34m+=\u001b[0m\u001b[0;34m(\u001b[0m\u001b[0ma\u001b[0m\u001b[0;34m[\u001b[0m\u001b[0mi\u001b[0m\u001b[0;34m]\u001b[0m\u001b[0;34m)\u001b[0m\u001b[0;34m\u001b[0m\u001b[0;34m\u001b[0m\u001b[0m\n\u001b[0m\u001b[1;32m      9\u001b[0m   \u001b[0;32mreturn\u001b[0m \u001b[0mnew_string\u001b[0m\u001b[0;34m\u001b[0m\u001b[0;34m\u001b[0m\u001b[0m\n\u001b[1;32m     10\u001b[0m \u001b[0;34m\u001b[0m\u001b[0m\n",
            "\u001b[0;31mIndexError\u001b[0m: string index out of range"
          ]
        }
      ]
    },
    {
      "cell_type": "markdown",
      "source": [
        "**TASK 15**"
      ],
      "metadata": {
        "id": "lmDWIMPhZjxp"
      }
    },
    {
      "cell_type": "code",
      "source": [
        "def function_name(order_items,location):\n",
        "\n",
        "  #new_list = list(order_items)\n",
        "  delivery_fee = 0\n",
        "  price = 0\n",
        "  total_price = 0\n",
        "  dic = {\"Rice\":105,\"Potato\":20,\"Chicken\":250,\"Beef\":510,\"Oil\":85}\n",
        "  for i in order_items:\n",
        "    if i == dic.keys():\n",
        "      price+=dic[j]\n",
        "    if location == \"Dhanmondi\":\n",
        "      delivery_fee += 30\n",
        "    else:\n",
        "      delivery_fee+=70\n",
        "  total_price += price+delivery_fee\n",
        "  print(total_price)\n",
        "  print(dic)\n",
        "l1=[\"Rice\", \"Beef\", \"Rice\"]\n",
        "function_name([\"Rice\", \"Beef\", \"Rice\"], \"Mohakhali\")"
      ],
      "metadata": {
        "colab": {
          "base_uri": "https://localhost:8080/"
        },
        "id": "MaOPZzAnZOeT",
        "outputId": "4a7bf193-e862-48cb-8847-9736a6b05d17"
      },
      "execution_count": null,
      "outputs": [
        {
          "output_type": "stream",
          "name": "stdout",
          "text": [
            "210\n",
            "{'Rice': 105, 'Potato': 20, 'Chicken': 250, 'Beef': 510, 'Oil': 85}\n"
          ]
        }
      ]
    },
    {
      "cell_type": "code",
      "source": [
        "def function_name(order_items,location):\n",
        "  dic = {\"Rice\":105,\"Potato\":20,\"Chicken\":250,\"Beef\":510,\"Oil\":85}\n",
        "  total_price = 0\n",
        "  for i in order_items:\n",
        "    if i in dic:\n",
        "      total_price+=delivery_fee\n",
        "order_items = [\"Rice\", \"Beef\", \"Rice\"]\n",
        "location = \"Mohakhali\"\n",
        "total_amount = function_name(order_items, location)\n",
        "print(total_amount)\n",
        "\n"
      ],
      "metadata": {
        "colab": {
          "base_uri": "https://localhost:8080/",
          "height": 366
        },
        "id": "rNfK7MIRPpNz",
        "outputId": "3f688d12-224e-4131-8aea-3f9b68d61dc3"
      },
      "execution_count": null,
      "outputs": [
        {
          "output_type": "error",
          "ename": "NameError",
          "evalue": "ignored",
          "traceback": [
            "\u001b[0;31m---------------------------------------------------------------------------\u001b[0m",
            "\u001b[0;31mNameError\u001b[0m                                 Traceback (most recent call last)",
            "\u001b[0;32m<ipython-input-66-4fd6d5992f50>\u001b[0m in \u001b[0;36m<cell line: 9>\u001b[0;34m()\u001b[0m\n\u001b[1;32m      7\u001b[0m \u001b[0morder_items\u001b[0m \u001b[0;34m=\u001b[0m \u001b[0;34m[\u001b[0m\u001b[0;34m\"Rice\"\u001b[0m\u001b[0;34m,\u001b[0m \u001b[0;34m\"Beef\"\u001b[0m\u001b[0;34m,\u001b[0m \u001b[0;34m\"Rice\"\u001b[0m\u001b[0;34m]\u001b[0m\u001b[0;34m\u001b[0m\u001b[0;34m\u001b[0m\u001b[0m\n\u001b[1;32m      8\u001b[0m \u001b[0mlocation\u001b[0m \u001b[0;34m=\u001b[0m \u001b[0;34m\"Mohakhali\"\u001b[0m\u001b[0;34m\u001b[0m\u001b[0;34m\u001b[0m\u001b[0m\n\u001b[0;32m----> 9\u001b[0;31m \u001b[0mtotal_amount\u001b[0m \u001b[0;34m=\u001b[0m \u001b[0mfunction_name\u001b[0m\u001b[0;34m(\u001b[0m\u001b[0morder_items\u001b[0m\u001b[0;34m,\u001b[0m \u001b[0mlocation\u001b[0m\u001b[0;34m)\u001b[0m\u001b[0;34m\u001b[0m\u001b[0;34m\u001b[0m\u001b[0m\n\u001b[0m\u001b[1;32m     10\u001b[0m \u001b[0mprint\u001b[0m\u001b[0;34m(\u001b[0m\u001b[0mtotal_amount\u001b[0m\u001b[0;34m)\u001b[0m\u001b[0;34m\u001b[0m\u001b[0;34m\u001b[0m\u001b[0m\n\u001b[1;32m     11\u001b[0m \u001b[0;34m\u001b[0m\u001b[0m\n",
            "\u001b[0;32m<ipython-input-66-4fd6d5992f50>\u001b[0m in \u001b[0;36mfunction_name\u001b[0;34m(order_items, location)\u001b[0m\n\u001b[1;32m      4\u001b[0m   \u001b[0;32mfor\u001b[0m \u001b[0mi\u001b[0m \u001b[0;32min\u001b[0m \u001b[0morder_items\u001b[0m\u001b[0;34m:\u001b[0m\u001b[0;34m\u001b[0m\u001b[0;34m\u001b[0m\u001b[0m\n\u001b[1;32m      5\u001b[0m     \u001b[0;32mif\u001b[0m \u001b[0mi\u001b[0m \u001b[0;32min\u001b[0m \u001b[0mdic\u001b[0m\u001b[0;34m:\u001b[0m\u001b[0;34m\u001b[0m\u001b[0;34m\u001b[0m\u001b[0m\n\u001b[0;32m----> 6\u001b[0;31m       \u001b[0mtotal_price\u001b[0m\u001b[0;34m+=\u001b[0m\u001b[0mdelivery_fee\u001b[0m\u001b[0;34m\u001b[0m\u001b[0;34m\u001b[0m\u001b[0m\n\u001b[0m\u001b[1;32m      7\u001b[0m \u001b[0morder_items\u001b[0m \u001b[0;34m=\u001b[0m \u001b[0;34m[\u001b[0m\u001b[0;34m\"Rice\"\u001b[0m\u001b[0;34m,\u001b[0m \u001b[0;34m\"Beef\"\u001b[0m\u001b[0;34m,\u001b[0m \u001b[0;34m\"Rice\"\u001b[0m\u001b[0;34m]\u001b[0m\u001b[0;34m\u001b[0m\u001b[0;34m\u001b[0m\u001b[0m\n\u001b[1;32m      8\u001b[0m \u001b[0mlocation\u001b[0m \u001b[0;34m=\u001b[0m \u001b[0;34m\"Mohakhali\"\u001b[0m\u001b[0;34m\u001b[0m\u001b[0;34m\u001b[0m\u001b[0m\n",
            "\u001b[0;31mNameError\u001b[0m: name 'delivery_fee' is not defined"
          ]
        }
      ]
    },
    {
      "cell_type": "code",
      "source": [
        "def function_name(order_items, location=\"Dhanmondi\"):\n",
        "    item_prices = {\n",
        "        \"Rice\": 105,\n",
        "        \"Potato\": 20,\n",
        "        \"Chicken\": 250,\n",
        "        \"Beef\": 510,\n",
        "        \"Oil\": 85   }\n",
        "\n",
        "    total_price = 0\n",
        "\n",
        "    for item in order_items:\n",
        "        if item in item_prices:\n",
        "            total_price += item_prices[item]\n",
        "\n",
        "    if location == \"Dhanmondi\":\n",
        "      delivery_fee += 30\n",
        "    else:\n",
        "      delivery_fee+=70\n",
        "    total_price += delivery_fee\n",
        "    return total_price\n",
        "order = [\"Rice\", \"Beef\", \"Rice\"]\n",
        "location = \"Mohakhali\"\n",
        "total_amount = function_name(order, location)\n",
        "print(total_amount)"
      ],
      "metadata": {
        "colab": {
          "base_uri": "https://localhost:8080/",
          "height": 349
        },
        "id": "Soe-vKJBQn-4",
        "outputId": "6d175076-e5fc-4af4-ab85-3c4e4bda8dc8"
      },
      "execution_count": null,
      "outputs": [
        {
          "output_type": "error",
          "ename": "UnboundLocalError",
          "evalue": "ignored",
          "traceback": [
            "\u001b[0;31m---------------------------------------------------------------------------\u001b[0m",
            "\u001b[0;31mUnboundLocalError\u001b[0m                         Traceback (most recent call last)",
            "\u001b[0;32m<ipython-input-67-2e3373d9ad2e>\u001b[0m in \u001b[0;36m<cell line: 23>\u001b[0;34m()\u001b[0m\n\u001b[1;32m     21\u001b[0m \u001b[0morder\u001b[0m \u001b[0;34m=\u001b[0m \u001b[0;34m[\u001b[0m\u001b[0;34m\"Rice\"\u001b[0m\u001b[0;34m,\u001b[0m \u001b[0;34m\"Beef\"\u001b[0m\u001b[0;34m,\u001b[0m \u001b[0;34m\"Rice\"\u001b[0m\u001b[0;34m]\u001b[0m\u001b[0;34m\u001b[0m\u001b[0;34m\u001b[0m\u001b[0m\n\u001b[1;32m     22\u001b[0m \u001b[0mlocation\u001b[0m \u001b[0;34m=\u001b[0m \u001b[0;34m\"Mohakhali\"\u001b[0m\u001b[0;34m\u001b[0m\u001b[0;34m\u001b[0m\u001b[0m\n\u001b[0;32m---> 23\u001b[0;31m \u001b[0mtotal_amount\u001b[0m \u001b[0;34m=\u001b[0m \u001b[0mfunction_name\u001b[0m\u001b[0;34m(\u001b[0m\u001b[0morder\u001b[0m\u001b[0;34m,\u001b[0m \u001b[0mlocation\u001b[0m\u001b[0;34m)\u001b[0m\u001b[0;34m\u001b[0m\u001b[0;34m\u001b[0m\u001b[0m\n\u001b[0m\u001b[1;32m     24\u001b[0m \u001b[0mprint\u001b[0m\u001b[0;34m(\u001b[0m\u001b[0mtotal_amount\u001b[0m\u001b[0;34m)\u001b[0m\u001b[0;34m\u001b[0m\u001b[0;34m\u001b[0m\u001b[0m\n",
            "\u001b[0;32m<ipython-input-67-2e3373d9ad2e>\u001b[0m in \u001b[0;36mfunction_name\u001b[0;34m(order_items, location)\u001b[0m\n\u001b[1;32m     16\u001b[0m       \u001b[0mdelivery_fee\u001b[0m \u001b[0;34m+=\u001b[0m \u001b[0;36m30\u001b[0m\u001b[0;34m\u001b[0m\u001b[0;34m\u001b[0m\u001b[0m\n\u001b[1;32m     17\u001b[0m     \u001b[0;32melse\u001b[0m\u001b[0;34m:\u001b[0m\u001b[0;34m\u001b[0m\u001b[0;34m\u001b[0m\u001b[0m\n\u001b[0;32m---> 18\u001b[0;31m       \u001b[0mdelivery_fee\u001b[0m\u001b[0;34m+=\u001b[0m\u001b[0;36m70\u001b[0m\u001b[0;34m\u001b[0m\u001b[0;34m\u001b[0m\u001b[0m\n\u001b[0m\u001b[1;32m     19\u001b[0m     \u001b[0mtotal_price\u001b[0m \u001b[0;34m+=\u001b[0m \u001b[0mdelivery_fee\u001b[0m\u001b[0;34m\u001b[0m\u001b[0;34m\u001b[0m\u001b[0m\n\u001b[1;32m     20\u001b[0m     \u001b[0;32mreturn\u001b[0m \u001b[0mtotal_price\u001b[0m\u001b[0;34m\u001b[0m\u001b[0;34m\u001b[0m\u001b[0m\n",
            "\u001b[0;31mUnboundLocalError\u001b[0m: local variable 'delivery_fee' referenced before assignment"
          ]
        }
      ]
    },
    {
      "cell_type": "markdown",
      "source": [
        "**TASK 15**"
      ],
      "metadata": {
        "id": "ZHEZTOyXRPae"
      }
    },
    {
      "cell_type": "code",
      "source": [
        "def function_name(order_items, location=\"Dhanmondi\"):\n",
        "    item_prices = {\n",
        "        \"Rice\": 105,\n",
        "        \"Potato\": 20,\n",
        "        \"Chicken\": 250,\n",
        "        \"Beef\": 510,\n",
        "        \"Oil\": 85   }\n",
        "\n",
        "    total_price = 0\n",
        "\n",
        "    for item in order_items:\n",
        "        if item in item_prices:\n",
        "            total_price += item_prices[item]\n",
        "\n",
        "    delivery_fee = 30\n",
        "    if location == \"Dhanmondi\":\n",
        "      delivery_fee = 30\n",
        "    else:\n",
        "      delivery_fee = 70\n",
        "    total_price += delivery_fee\n",
        "    return total_price\n",
        "order = [\"Rice\", \"Beef\", \"Rice\"]\n",
        "location = \"Mohakhali\"\n",
        "print(function_name(order, location))\n"
      ],
      "metadata": {
        "colab": {
          "base_uri": "https://localhost:8080/"
        },
        "id": "9H6EEvQ2Q7Ru",
        "outputId": "bcc72fcb-ef8e-4577-995c-93d75e9b5468"
      },
      "execution_count": null,
      "outputs": [
        {
          "output_type": "stream",
          "name": "stdout",
          "text": [
            "790\n"
          ]
        }
      ]
    },
    {
      "cell_type": "code",
      "source": [
        "def function_name(order_items, location):\n",
        "    item_prices = {\n",
        "        \"Rice\": 105,\n",
        "        \"Potato\": 20,\n",
        "        \"Chicken\": 250,\n",
        "        \"Beef\": 510,\n",
        "        \"Oil\": 85   }\n",
        "\n",
        "    total_price = 0\n",
        "\n",
        "    for i in order_items:\n",
        "        if i in item_prices:\n",
        "            total_price += item_prices[item]\n",
        "\n",
        "if location == \"Dhanmondi\":\n",
        "      delivery_fee += 30\n",
        "    else:\n",
        "      delivery_fee+=70\n",
        "    total_price += delivery_fee\n",
        "    return total_price\n",
        "#order = [\"Rice\", \"Beef\", \"Rice\"]\n",
        "#location = \"Mohakhali\"\n",
        "#total_amount = function_name(order, location)\n",
        "#print(total_amount)\n",
        "function_name(input(),input())\n"
      ],
      "metadata": {
        "id": "edcqvBQDsl4m"
      },
      "execution_count": null,
      "outputs": []
    },
    {
      "cell_type": "code",
      "source": [
        "def is_valid_name(name):\n",
        "    words = name.split()\n",
        "    for word in words:\n",
        "        if not word.istitle():\n",
        "            return False\n",
        "    return True\n",
        "is_valid_name()"
      ],
      "metadata": {
        "id": "iheunzC240w9"
      },
      "execution_count": null,
      "outputs": []
    }
  ]
}