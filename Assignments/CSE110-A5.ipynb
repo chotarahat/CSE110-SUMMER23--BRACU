{
  "nbformat": 4,
  "nbformat_minor": 0,
  "metadata": {
    "colab": {
      "provenance": []
    },
    "kernelspec": {
      "name": "python3",
      "display_name": "Python 3"
    },
    "language_info": {
      "name": "python"
    }
  },
  "cells": [
    {
      "cell_type": "markdown",
      "source": [
        "**TASK 1**"
      ],
      "metadata": {
        "id": "7mfSZktu3PAI"
      }
    },
    {
      "cell_type": "code",
      "execution_count": null,
      "metadata": {
        "colab": {
          "base_uri": "https://localhost:8080/"
        },
        "id": "rRK6mOwL1qIJ",
        "outputId": "346d6356-452a-47cb-82e4-814037b1cf99"
      },
      "outputs": [
        {
          "output_type": "stream",
          "name": "stdout",
          "text": [
            "Enter a number: 3\n",
            "Numbers in the list: 3,\n",
            "Enter a number: 4\n",
            "Numbers in the list: 3,4,\n",
            "Enter a number: 5\n",
            "Numbers in the list: 3,4,5,\n",
            "Enter a number: 6\n",
            "Numbers in the list: 3,4,5,6,\n",
            "Enter a number: 7\n",
            "Numbers in the list: 3,4,5,6,7,\n"
          ]
        }
      ],
      "source": [
        "numbers = []\n",
        "for i in range(5):\n",
        "  num = int(input(\"Enter a number: \"))\n",
        "  numbers.append(num)\n",
        "  print(\"Numbers in the list:\", end=\" \")\n",
        "  for j in range(i+1):\n",
        "    print(numbers[j], end=\" \")\n",
        "  print()"
      ]
    },
    {
      "cell_type": "code",
      "source": [
        "numbers = []\n",
        "for i in range(5):\n",
        "  num =int(input())\n",
        "  numbers.append(num)\n",
        "  print(\"Numbers in the list: \",numbers)"
      ],
      "metadata": {
        "colab": {
          "base_uri": "https://localhost:8080/"
        },
        "id": "zImHuCRmVp0n",
        "outputId": "fc730e03-c506-47d1-83fa-bed93a134659"
      },
      "execution_count": null,
      "outputs": [
        {
          "output_type": "stream",
          "name": "stdout",
          "text": [
            "1\n",
            "Numbers in the list:  [1]\n",
            "2\n",
            "Numbers in the list:  [1, 2]\n",
            "3\n",
            "Numbers in the list:  [1, 2, 3]\n",
            "4\n",
            "Numbers in the list:  [1, 2, 3, 4]\n",
            "55\n",
            "Numbers in the list:  [1, 2, 3, 4, 55]\n"
          ]
        }
      ]
    },
    {
      "cell_type": "markdown",
      "source": [
        "**TASK 2**"
      ],
      "metadata": {
        "id": "FEKHI60i9Y5o"
      }
    },
    {
      "cell_type": "code",
      "source": [
        "list1 = input().split(\" ,\")\n",
        "if len(list1) < 4:\n",
        "  print(\"Not possible\")\n",
        "else:\n",
        "  new_list = list1[2:-2]\n",
        "  print(new_list)"
      ],
      "metadata": {
        "colab": {
          "base_uri": "https://localhost:8080/"
        },
        "id": "VOUxcZDD6Fr4",
        "outputId": "17c1b3bf-52c8-4ef0-955a-9f7de12f7b2c"
      },
      "execution_count": null,
      "outputs": [
        {
          "output_type": "stream",
          "name": "stdout",
          "text": [
            "10, 20, 24, 25, 26, 35, 70\n",
            "[' 24', ' 25', ' 26']\n"
          ]
        }
      ]
    },
    {
      "cell_type": "markdown",
      "source": [
        "**TASK 3**"
      ],
      "metadata": {
        "id": "D8fVLYaO_KZs"
      }
    },
    {
      "cell_type": "code",
      "source": [
        "numbers = []\n",
        "for i in range(5):\n",
        "    num = int(input())\n",
        "    numbers.append(num)\n",
        "print(\"Printing values from the list in reverse order:\")\n",
        "for i in range(4, -1, -1):\n",
        "    print(numbers[i],end=\"\")\n",
        "    print()"
      ],
      "metadata": {
        "colab": {
          "base_uri": "https://localhost:8080/"
        },
        "id": "VAuSCD1c_uhd",
        "outputId": "7c725c3c-42ec-47c5-d268-0668d18cdf81"
      },
      "execution_count": null,
      "outputs": [
        {
          "output_type": "stream",
          "name": "stdout",
          "text": [
            "1\n",
            "2\n",
            "3\n",
            "4\n",
            "5\n",
            "Printing values from the list in reverse order:\n",
            "5\n",
            "4\n",
            "3\n",
            "2\n",
            "1\n"
          ]
        }
      ]
    },
    {
      "cell_type": "markdown",
      "source": [
        "**TASK 4**"
      ],
      "metadata": {
        "id": "8WA9cGsMAl_U"
      }
    },
    {
      "cell_type": "code",
      "source": [
        "list1 = [1, 2, 3, 4, 5, 6, 7]\n",
        "squared_list = [num ** 2 for num in list1]\n",
        "print(squared_list)"
      ],
      "metadata": {
        "colab": {
          "base_uri": "https://localhost:8080/"
        },
        "id": "2yw8GR2iAXWz",
        "outputId": "586ffc2f-a6aa-4592-80fa-92ee83bb90b3"
      },
      "execution_count": null,
      "outputs": [
        {
          "output_type": "stream",
          "name": "stdout",
          "text": [
            "[1, 4, 9, 16, 25, 36, 49]\n"
          ]
        }
      ]
    },
    {
      "cell_type": "code",
      "source": [
        "list1 = [3, 5, 1, 6]\n",
        "for i in range(len(list1)):\n",
        "  list1[i]=list1[i]**2\n",
        "#list1 = [num ** 2 for num in list1]\n",
        "print(list1)"
      ],
      "metadata": {
        "colab": {
          "base_uri": "https://localhost:8080/"
        },
        "id": "FOw8nwdiCDok",
        "outputId": "da0c4d4b-185d-4214-ba51-faffb32cba99"
      },
      "execution_count": null,
      "outputs": [
        {
          "output_type": "stream",
          "name": "stdout",
          "text": [
            "[9, 25, 1, 36]\n"
          ]
        }
      ]
    },
    {
      "cell_type": "code",
      "source": [
        "list1 = [1, 2, 3, 4, 5, 6, 7,8,9,10]\n",
        "for i in range(len(list1)):\n",
        "    list1[i] = list1[i] ** 2\n",
        "print(list1)\n"
      ],
      "metadata": {
        "colab": {
          "base_uri": "https://localhost:8080/"
        },
        "id": "pd9Lv_CkpK49",
        "outputId": "2f84bdec-b6c7-4d4a-df75-1bc7e8c5fc38"
      },
      "execution_count": null,
      "outputs": [
        {
          "output_type": "stream",
          "name": "stdout",
          "text": [
            "[1, 4, 9, 16, 25, 36, 49, 64, 81, 100]\n"
          ]
        }
      ]
    },
    {
      "cell_type": "markdown",
      "source": [
        "**TASK 5**"
      ],
      "metadata": {
        "id": "8wtF6e6_A9GT"
      }
    },
    {
      "cell_type": "code",
      "source": [
        "list1 = [\"hey\",\"there\", \"\", \"what's\", \"\"\"\"\"\",\"\", \"up\", \"\", \"?\"]\n",
        "new_list = [string for string in list1 if string != \"\"]\n",
        "print(\"Original List:\", list1)\n",
        "print(\"Modified List:\", new_list)"
      ],
      "metadata": {
        "colab": {
          "base_uri": "https://localhost:8080/"
        },
        "id": "jUqyB33NBAB8",
        "outputId": "8b5b0627-3c2d-4a9b-ec11-082545899168"
      },
      "execution_count": null,
      "outputs": [
        {
          "output_type": "stream",
          "name": "stdout",
          "text": [
            "Original List: ['hey', 'there', '', \"what's\", '', '', 'up', '', '?']\n",
            "Modified List: ['hey', 'there', \"what's\", 'up', '?']\n"
          ]
        }
      ]
    },
    {
      "cell_type": "code",
      "source": [
        "list1 = [\"hey\",\"there\", \"\", \"what's\", \"\"\"\"\"\",\"\", \"up\", \"\", \"?\"]\n",
        "new_list = []\n",
        "for string in list1:\n",
        "    if string != \"\":\n",
        "        new_list.append(string)\n",
        "print(\"Original List:\", list1)\n",
        "print(\"Modified List:\", new_list)\n"
      ],
      "metadata": {
        "colab": {
          "base_uri": "https://localhost:8080/"
        },
        "id": "-5blN0hFqDGR",
        "outputId": "924ebaf9-3939-4e2f-eb01-6518b49bfba3"
      },
      "execution_count": null,
      "outputs": [
        {
          "output_type": "stream",
          "name": "stdout",
          "text": [
            "Original List: ['hey', 'there', '', \"what's\", '', '', 'up', '', '?']\n",
            "Modified List: ['hey', 'there', \"what's\", 'up', '?']\n"
          ]
        }
      ]
    },
    {
      "cell_type": "code",
      "source": [
        "input_string = input(\"Enter a string: \")\n",
        "list1 = []\n",
        "temp = \"\"\n",
        "for char in input_string:\n",
        "    if char == \" \":\n",
        "        list1.append(temp)\n",
        "        temp = \"\"\n",
        "    else:\n",
        "        temp += char\n",
        "if temp:\n",
        "    list1.append(temp)\n",
        "\n",
        "print(list1)\n",
        "\n"
      ],
      "metadata": {
        "colab": {
          "base_uri": "https://localhost:8080/"
        },
        "id": "eOpYda90qNb7",
        "outputId": "99702c45-c7c3-4d94-9153-83b9f6447e5e"
      },
      "execution_count": null,
      "outputs": [
        {
          "output_type": "stream",
          "name": "stdout",
          "text": [
            "Enter a string: 7 12 4 55 Hello 2 11 61 33 42\n",
            "['7', '12', '4', '55', 'Hello', '2', '11', '61', '33', '42']\n"
          ]
        }
      ]
    },
    {
      "cell_type": "markdown",
      "source": [
        "**TASK 6**"
      ],
      "metadata": {
        "id": "Og-p2q37EVzv"
      }
    },
    {
      "cell_type": "code",
      "source": [
        "m = input()\n",
        "\n",
        "num_list = m.split(\",\")\n",
        "\n",
        "num_list = [int(i) for i in num_list]\n",
        "\n",
        "largest_num = num_list[0]\n",
        "largest_num_index = 0\n",
        "\n",
        "for i in range(1, len(num_list)):\n",
        "    if num_list[i] > largest_num:\n",
        "        largest_num = num_list[i]\n",
        "        largest_num_index = i\n",
        "print(\"My list:\",num_list)\n",
        "print(\"Largest number in the list is\", largest_num, \"which was found at index\", largest_num_index)\n"
      ],
      "metadata": {
        "colab": {
          "base_uri": "https://localhost:8080/"
        },
        "id": "H0dxt5zmDbuK",
        "outputId": "848037e1-f66e-4220-dfab-070be4697d54"
      },
      "execution_count": null,
      "outputs": [
        {
          "output_type": "stream",
          "name": "stdout",
          "text": [
            "7,13,2,10,6,-11,0\n",
            "My list: [7, 13, 2, 10, 6, -11, 0]\n",
            "Largest number in the list is 13 which was found at index 1\n"
          ]
        }
      ]
    },
    {
      "cell_type": "code",
      "source": [
        "m=input()\n",
        "n=[]\n",
        "temp=\"\"\n",
        "for i in m:\n",
        "  if i != \",\": #ekhane first e comma na hoile int ta jog hoitese\n",
        "    temp+=i\n",
        "  else:        #then ekhane jokhn comma ashe tokhn n e temp ta add kortesi\n",
        "    n.append(int(temp)) #trpr abar temp ke faka kore ditesi\n",
        "    temp=\"\"\n",
        "if temp != \"\": #eta last elem ta ashar jonno\n",
        "  n.append(int(temp))\n",
        "\n",
        "\n",
        "largest_num = n[0]\n",
        "largest_num_index = 0\n",
        "\n",
        "for i in range(1, len(n)):\n",
        "    if n[i] > largest_num:\n",
        "        largest_num = n[i]\n",
        "        largest_num_index = i\n",
        "\n",
        "print(\"My list:\",n)\n",
        "print(\"Largest number in the list is\", largest_num, \"which was found at index\", largest_num_index)\n",
        "\n"
      ],
      "metadata": {
        "colab": {
          "base_uri": "https://localhost:8080/"
        },
        "id": "LP4xl1yFG6XO",
        "outputId": "1b8bbb10-3ac0-4481-8f47-136d36f1eb70"
      },
      "execution_count": null,
      "outputs": [
        {
          "output_type": "stream",
          "name": "stdout",
          "text": [
            "7,8,9,10,11\n",
            "My list: [7, 8, 9, 10, 11]\n",
            "Largest number in the list is 11 which was found at index 4\n"
          ]
        }
      ]
    },
    {
      "cell_type": "markdown",
      "source": [
        "**TASK 7**"
      ],
      "metadata": {
        "id": "L6QVR28bFqUN"
      }
    },
    {
      "cell_type": "code",
      "source": [
        "List_one = [1, 3, 5, 7, 9, 10]\n",
        "List_two = [2, 4, 6, 8]\n",
        "List_one[-1:] = List_two\n",
        "print(List_one)"
      ],
      "metadata": {
        "colab": {
          "base_uri": "https://localhost:8080/"
        },
        "id": "9AdMElz6FJ8m",
        "outputId": "9de392e8-d800-44e8-ab9f-c9b6b27432c4"
      },
      "execution_count": null,
      "outputs": [
        {
          "output_type": "stream",
          "name": "stdout",
          "text": [
            "[1, 3, 5, 7, 9, 2, 4, 6, 8]\n"
          ]
        }
      ]
    },
    {
      "cell_type": "markdown",
      "source": [
        "**TASK 8**"
      ],
      "metadata": {
        "id": "xUnUa7v_FtgB"
      }
    },
    {
      "cell_type": "code",
      "source": [
        "list_one = [1, 2, 3, 4, 5, 6, 7, 8, 9]\n",
        "list_two = [10, 11, 12, -13, -14, -15, -16]\n",
        "\n",
        "new_list = [i for i in (list_one + list_two) if i % 2 == 0]\n",
        "\n",
        "print(new_list)\n"
      ],
      "metadata": {
        "colab": {
          "base_uri": "https://localhost:8080/"
        },
        "id": "ak7PCG7NFvYX",
        "outputId": "ab7e3d62-8ba6-4c12-f873-6e7e671db14d"
      },
      "execution_count": null,
      "outputs": [
        {
          "output_type": "stream",
          "name": "stdout",
          "text": [
            "[2, 4, 6, 8, 10, 12, -14, -16]\n"
          ]
        }
      ]
    },
    {
      "cell_type": "code",
      "source": [
        "list_one = [1, 2, 3, 4, 5, 6, 7, 8, 9]\n",
        "list_two = [10, 11, 12, -13, -14, -15, -16]\n",
        "\n",
        "new_list = []\n",
        "for i in (list_one + list_two):\n",
        "    if i % 2 == 0:\n",
        "        new_list.append(i)\n",
        "\n",
        "print(new_list)\n"
      ],
      "metadata": {
        "colab": {
          "base_uri": "https://localhost:8080/"
        },
        "id": "JspL1QUyQavM",
        "outputId": "13cf8d89-3862-4205-d89a-7a6580e1b607"
      },
      "execution_count": null,
      "outputs": [
        {
          "output_type": "stream",
          "name": "stdout",
          "text": [
            "[2, 4, 6, 8, 10, 12, -14, -16]\n"
          ]
        }
      ]
    },
    {
      "cell_type": "markdown",
      "source": [
        "**TASK 9**"
      ],
      "metadata": {
        "id": "GSZlybj8OFf7"
      }
    },
    {
      "cell_type": "code",
      "source": [
        "s = input()\n",
        "m = []\n",
        "temp = ''\n",
        "for i in s:\n",
        "  if i != ' ':\n",
        "    temp+=i\n",
        "  else:\n",
        "     m.append(int(temp))\n",
        "     temp = ''\n",
        "\n",
        "if temp != '':\n",
        "  m.append(int(temp))\n",
        "\n",
        "print(\"Original list: \",m)\n",
        "new_list=[]\n",
        "for i in m:\n",
        "  if i % 2 != 0:\n",
        "    #m.remove(i)\n",
        "    new_list+=[i]\n",
        "\n",
        "print(\"Modified list: \",new_list)\n"
      ],
      "metadata": {
        "colab": {
          "base_uri": "https://localhost:8080/",
          "height": 262
        },
        "id": "9McqT-buJ9LB",
        "outputId": "db52dc76-2781-4a27-d13b-2229b9e296a8"
      },
      "execution_count": null,
      "outputs": [
        {
          "name": "stdout",
          "output_type": "stream",
          "text": [
            "0, 0, 1, 2, 3, 4, 4, 5, 6, 6, 6, 7, 8, 9, 4, 4\n"
          ]
        },
        {
          "output_type": "error",
          "ename": "ValueError",
          "evalue": "ignored",
          "traceback": [
            "\u001b[0;31m---------------------------------------------------------------------------\u001b[0m",
            "\u001b[0;31mValueError\u001b[0m                                Traceback (most recent call last)",
            "\u001b[0;32m<ipython-input-1-e5425f74f799>\u001b[0m in \u001b[0;36m<cell line: 4>\u001b[0;34m()\u001b[0m\n\u001b[1;32m      6\u001b[0m     \u001b[0mtemp\u001b[0m\u001b[0;34m+=\u001b[0m\u001b[0mi\u001b[0m\u001b[0;34m\u001b[0m\u001b[0;34m\u001b[0m\u001b[0m\n\u001b[1;32m      7\u001b[0m   \u001b[0;32melse\u001b[0m\u001b[0;34m:\u001b[0m\u001b[0;34m\u001b[0m\u001b[0;34m\u001b[0m\u001b[0m\n\u001b[0;32m----> 8\u001b[0;31m      \u001b[0mm\u001b[0m\u001b[0;34m.\u001b[0m\u001b[0mappend\u001b[0m\u001b[0;34m(\u001b[0m\u001b[0mint\u001b[0m\u001b[0;34m(\u001b[0m\u001b[0mtemp\u001b[0m\u001b[0;34m)\u001b[0m\u001b[0;34m)\u001b[0m\u001b[0;34m\u001b[0m\u001b[0;34m\u001b[0m\u001b[0m\n\u001b[0m\u001b[1;32m      9\u001b[0m      \u001b[0mtemp\u001b[0m \u001b[0;34m=\u001b[0m \u001b[0;34m''\u001b[0m\u001b[0;34m\u001b[0m\u001b[0;34m\u001b[0m\u001b[0m\n\u001b[1;32m     10\u001b[0m \u001b[0;34m\u001b[0m\u001b[0m\n",
            "\u001b[0;31mValueError\u001b[0m: invalid literal for int() with base 10: '0,'"
          ]
        }
      ]
    },
    {
      "cell_type": "code",
      "source": [
        "s = input()\n",
        "m = []\n",
        "temp = ''\n",
        "for i in s:\n",
        "  if i != ',':\n",
        "    temp+=i\n",
        "  else:\n",
        "     m.append(int(temp))\n",
        "     temp = ''\n",
        "\n",
        "if temp != '':\n",
        "  m.append(int(temp))\n",
        "print(\"Input list: \",m)\n",
        "new_list =[]\n",
        "for i in m:\n",
        "  if i not in new_list:\n",
        "    new_list.append(i)\n",
        "print(\"Modified list: \",new_list)"
      ],
      "metadata": {
        "colab": {
          "base_uri": "https://localhost:8080/",
          "height": 407
        },
        "id": "SW-vC9p5Wlky",
        "outputId": "8be89eed-22ca-4ae2-9580-739e178bdd2c"
      },
      "execution_count": null,
      "outputs": [
        {
          "output_type": "error",
          "ename": "KeyboardInterrupt",
          "evalue": "ignored",
          "traceback": [
            "\u001b[0;31m---------------------------------------------------------------------------\u001b[0m",
            "\u001b[0;31mKeyboardInterrupt\u001b[0m                         Traceback (most recent call last)",
            "\u001b[0;32m<ipython-input-1-ebe148afb643>\u001b[0m in \u001b[0;36m<cell line: 1>\u001b[0;34m()\u001b[0m\n\u001b[0;32m----> 1\u001b[0;31m \u001b[0ms\u001b[0m \u001b[0;34m=\u001b[0m \u001b[0minput\u001b[0m\u001b[0;34m(\u001b[0m\u001b[0;34m)\u001b[0m\u001b[0;34m\u001b[0m\u001b[0;34m\u001b[0m\u001b[0m\n\u001b[0m\u001b[1;32m      2\u001b[0m \u001b[0mm\u001b[0m \u001b[0;34m=\u001b[0m \u001b[0;34m[\u001b[0m\u001b[0;34m]\u001b[0m\u001b[0;34m\u001b[0m\u001b[0;34m\u001b[0m\u001b[0m\n\u001b[1;32m      3\u001b[0m \u001b[0mtemp\u001b[0m \u001b[0;34m=\u001b[0m \u001b[0;34m''\u001b[0m\u001b[0;34m\u001b[0m\u001b[0;34m\u001b[0m\u001b[0m\n\u001b[1;32m      4\u001b[0m \u001b[0;32mfor\u001b[0m \u001b[0mi\u001b[0m \u001b[0;32min\u001b[0m \u001b[0ms\u001b[0m\u001b[0;34m:\u001b[0m\u001b[0;34m\u001b[0m\u001b[0;34m\u001b[0m\u001b[0m\n\u001b[1;32m      5\u001b[0m   \u001b[0;32mif\u001b[0m \u001b[0mi\u001b[0m \u001b[0;34m!=\u001b[0m \u001b[0;34m','\u001b[0m\u001b[0;34m:\u001b[0m\u001b[0;34m\u001b[0m\u001b[0;34m\u001b[0m\u001b[0m\n",
            "\u001b[0;32m/usr/local/lib/python3.10/dist-packages/ipykernel/kernelbase.py\u001b[0m in \u001b[0;36mraw_input\u001b[0;34m(self, prompt)\u001b[0m\n\u001b[1;32m    849\u001b[0m                 \u001b[0;34m\"raw_input was called, but this frontend does not support input requests.\"\u001b[0m\u001b[0;34m\u001b[0m\u001b[0;34m\u001b[0m\u001b[0m\n\u001b[1;32m    850\u001b[0m             )\n\u001b[0;32m--> 851\u001b[0;31m         return self._input_request(str(prompt),\n\u001b[0m\u001b[1;32m    852\u001b[0m             \u001b[0mself\u001b[0m\u001b[0;34m.\u001b[0m\u001b[0m_parent_ident\u001b[0m\u001b[0;34m,\u001b[0m\u001b[0;34m\u001b[0m\u001b[0;34m\u001b[0m\u001b[0m\n\u001b[1;32m    853\u001b[0m             \u001b[0mself\u001b[0m\u001b[0;34m.\u001b[0m\u001b[0m_parent_header\u001b[0m\u001b[0;34m,\u001b[0m\u001b[0;34m\u001b[0m\u001b[0;34m\u001b[0m\u001b[0m\n",
            "\u001b[0;32m/usr/local/lib/python3.10/dist-packages/ipykernel/kernelbase.py\u001b[0m in \u001b[0;36m_input_request\u001b[0;34m(self, prompt, ident, parent, password)\u001b[0m\n\u001b[1;32m    893\u001b[0m             \u001b[0;32mexcept\u001b[0m \u001b[0mKeyboardInterrupt\u001b[0m\u001b[0;34m:\u001b[0m\u001b[0;34m\u001b[0m\u001b[0;34m\u001b[0m\u001b[0m\n\u001b[1;32m    894\u001b[0m                 \u001b[0;31m# re-raise KeyboardInterrupt, to truncate traceback\u001b[0m\u001b[0;34m\u001b[0m\u001b[0;34m\u001b[0m\u001b[0m\n\u001b[0;32m--> 895\u001b[0;31m                 \u001b[0;32mraise\u001b[0m \u001b[0mKeyboardInterrupt\u001b[0m\u001b[0;34m(\u001b[0m\u001b[0;34m\"Interrupted by user\"\u001b[0m\u001b[0;34m)\u001b[0m \u001b[0;32mfrom\u001b[0m \u001b[0;32mNone\u001b[0m\u001b[0;34m\u001b[0m\u001b[0;34m\u001b[0m\u001b[0m\n\u001b[0m\u001b[1;32m    896\u001b[0m             \u001b[0;32mexcept\u001b[0m \u001b[0mException\u001b[0m \u001b[0;32mas\u001b[0m \u001b[0me\u001b[0m\u001b[0;34m:\u001b[0m\u001b[0;34m\u001b[0m\u001b[0;34m\u001b[0m\u001b[0m\n\u001b[1;32m    897\u001b[0m                 \u001b[0mself\u001b[0m\u001b[0;34m.\u001b[0m\u001b[0mlog\u001b[0m\u001b[0;34m.\u001b[0m\u001b[0mwarning\u001b[0m\u001b[0;34m(\u001b[0m\u001b[0;34m\"Invalid Message:\"\u001b[0m\u001b[0;34m,\u001b[0m \u001b[0mexc_info\u001b[0m\u001b[0;34m=\u001b[0m\u001b[0;32mTrue\u001b[0m\u001b[0;34m)\u001b[0m\u001b[0;34m\u001b[0m\u001b[0;34m\u001b[0m\u001b[0m\n",
            "\u001b[0;31mKeyboardInterrupt\u001b[0m: Interrupted by user"
          ]
        }
      ]
    },
    {
      "cell_type": "code",
      "source": [
        "input_string = input()\n",
        "\n",
        "numbers_list = [int(i) for i in numbers_list]\n",
        "modified_list =[]\n",
        "print(numbers_list)\n",
        "for i in numbers_list:\n",
        "  if i not in modified_list:\n",
        "    modified_list+=numbers_list\n",
        "  el\n",
        "print(numbers_list)"
      ],
      "metadata": {
        "colab": {
          "base_uri": "https://localhost:8080/"
        },
        "id": "d804eYNuRUXT",
        "outputId": "44ab40f7-f786-44f8-eb55-1644799fdbc9"
      },
      "execution_count": null,
      "outputs": [
        {
          "output_type": "stream",
          "name": "stdout",
          "text": [
            "0, 0, 1, 2, 3, 4, 4, 5, 6, 6, 6, 7, 8, 9, 4, 4\n",
            "[0, 0, 1, 2, 3, 4, 4, 5, 6, 6, 6, 7, 8, 9, 4, 4]\n",
            "[0, 0, 1, 2, 3, 4, 4, 5, 6, 6, 6, 7, 8, 9, 4, 4]\n"
          ]
        }
      ]
    },
    {
      "cell_type": "code",
      "source": [
        "num=input()\n",
        "lst1=num.split(\",\")\n",
        "lst2=[]\n",
        "lst3=[]\n",
        "for i in range(len(lst1)):\n",
        "  x=int(lst1[i])\n",
        "  lst2.append(x)\n",
        "  for j in lst2:\n",
        "    if j not in lst3:\n",
        "      lst3.append(j)\n",
        "print(\"Input List:\",lst2)\n",
        "print(\"Modified List:\",lst3)"
      ],
      "metadata": {
        "colab": {
          "base_uri": "https://localhost:8080/"
        },
        "id": "11HX9uIFWNu_",
        "outputId": "2a09f69c-82b1-43e2-95b2-0a1855476048"
      },
      "execution_count": null,
      "outputs": [
        {
          "output_type": "stream",
          "name": "stdout",
          "text": [
            "0, 0, 1, 2, 3, 4, 4, 5, 6, 6, 6, 7, 8, 9, 4, 4\n",
            "Input List: [0, 0, 1, 2, 3, 4, 4, 5, 6, 6, 6, 7, 8, 9, 4, 4]\n",
            "Modified List: [0, 1, 2, 3, 4, 5, 6, 7, 8, 9]\n"
          ]
        }
      ]
    },
    {
      "cell_type": "markdown",
      "source": [
        "**TASK 11**"
      ],
      "metadata": {
        "id": "Hu48r8bFSj6k"
      }
    },
    {
      "cell_type": "code",
      "source": [
        "List_one = [1, 4, 3, 2, 6]\n",
        "List_two = [5, 6]\n",
        "\n",
        "flag = 0\n",
        "\n",
        "for i in List_one:\n",
        "  for j in List_two:\n",
        "      if i == j:\n",
        "        flag += 1\n",
        "        break\n",
        "  if flag == 1:\n",
        "      break\n",
        "if flag == 1:\n",
        "    print(\"True\")\n",
        "else:\n",
        "    print(\"False\")\n"
      ],
      "metadata": {
        "colab": {
          "base_uri": "https://localhost:8080/"
        },
        "id": "GSuII5l9So67",
        "outputId": "4b5dfc19-3e93-41ab-81fa-ccec7dc96d77"
      },
      "execution_count": null,
      "outputs": [
        {
          "output_type": "stream",
          "name": "stdout",
          "text": [
            "True\n"
          ]
        }
      ]
    },
    {
      "cell_type": "code",
      "source": [
        "List_one = [1, 4, 3, 2, 5]\n",
        "List_two = [8,7,6,9]\n",
        "\n",
        "flag = 0\n",
        "for i in List_one:\n",
        "    for j in List_two:\n",
        "        if i == j:\n",
        "            flag = 1\n",
        "            break\n",
        "    if flag == 1:\n",
        "        break\n",
        "\n",
        "if flag == 1:\n",
        "    print(\"True\")\n",
        "else:\n",
        "    print(\"False\")"
      ],
      "metadata": {
        "colab": {
          "base_uri": "https://localhost:8080/"
        },
        "id": "Vr4dQN8baRVn",
        "outputId": "2076c167-ed69-4d6f-d288-ef1d3e159a00"
      },
      "execution_count": null,
      "outputs": [
        {
          "output_type": "stream",
          "name": "stdout",
          "text": [
            "False\n"
          ]
        }
      ]
    },
    {
      "cell_type": "code",
      "source": [
        "list1=[1,2,3,4]\n",
        "print(1 in list1)"
      ],
      "metadata": {
        "colab": {
          "base_uri": "https://localhost:8080/"
        },
        "id": "uZEy5-eMUeOh",
        "outputId": "03dfdadb-2a7f-4c2f-83db-c241f92e4ade"
      },
      "execution_count": null,
      "outputs": [
        {
          "output_type": "stream",
          "name": "stdout",
          "text": [
            "True\n"
          ]
        }
      ]
    },
    {
      "cell_type": "code",
      "source": [
        "inp"
      ],
      "metadata": {
        "id": "M9qlw76BU6VY"
      },
      "execution_count": null,
      "outputs": []
    },
    {
      "cell_type": "code",
      "source": [],
      "metadata": {
        "id": "mkK6AijtJEzZ"
      },
      "execution_count": null,
      "outputs": []
    },
    {
      "cell_type": "code",
      "source": [
        "numbers = input()\n",
        "new_numbers = []\n",
        "string=\"\"\n",
        "for i in numbers:\n",
        "  if len(numbers)<4:\n",
        "    print(\"Not posssible\")\n",
        "  if i != \", \":\n",
        "    string+=i\n",
        "  else:\n",
        "    new_numbers.append(int(string))\n",
        "    string = ''\n",
        "\n",
        "if temp != '':\n",
        "  new_numbers.append(int(string))\n",
        "print(new_numbers[2:-2])"
      ],
      "metadata": {
        "id": "y3otE-lVJEtO",
        "colab": {
          "base_uri": "https://localhost:8080/",
          "height": 262
        },
        "outputId": "f6f48421-34ae-48ae-a37e-9f2faa4e9dec"
      },
      "execution_count": null,
      "outputs": [
        {
          "name": "stdout",
          "output_type": "stream",
          "text": [
            "10, 20, 24, 25, 26, 35, 70\n"
          ]
        },
        {
          "output_type": "error",
          "ename": "NameError",
          "evalue": "ignored",
          "traceback": [
            "\u001b[0;31m---------------------------------------------------------------------------\u001b[0m",
            "\u001b[0;31mNameError\u001b[0m                                 Traceback (most recent call last)",
            "\u001b[0;32m<ipython-input-1-25735778362c>\u001b[0m in \u001b[0;36m<cell line: 13>\u001b[0;34m()\u001b[0m\n\u001b[1;32m     11\u001b[0m     \u001b[0mstring\u001b[0m \u001b[0;34m=\u001b[0m \u001b[0;34m''\u001b[0m\u001b[0;34m\u001b[0m\u001b[0;34m\u001b[0m\u001b[0m\n\u001b[1;32m     12\u001b[0m \u001b[0;34m\u001b[0m\u001b[0m\n\u001b[0;32m---> 13\u001b[0;31m \u001b[0;32mif\u001b[0m \u001b[0mtemp\u001b[0m \u001b[0;34m!=\u001b[0m \u001b[0;34m''\u001b[0m\u001b[0;34m:\u001b[0m\u001b[0;34m\u001b[0m\u001b[0;34m\u001b[0m\u001b[0m\n\u001b[0m\u001b[1;32m     14\u001b[0m   \u001b[0mnew_numbers\u001b[0m\u001b[0;34m.\u001b[0m\u001b[0mappend\u001b[0m\u001b[0;34m(\u001b[0m\u001b[0mint\u001b[0m\u001b[0;34m(\u001b[0m\u001b[0mstring\u001b[0m\u001b[0;34m)\u001b[0m\u001b[0;34m)\u001b[0m\u001b[0;34m\u001b[0m\u001b[0;34m\u001b[0m\u001b[0m\n\u001b[1;32m     15\u001b[0m \u001b[0mprint\u001b[0m\u001b[0;34m(\u001b[0m\u001b[0mnew_numbers\u001b[0m\u001b[0;34m[\u001b[0m\u001b[0;36m2\u001b[0m\u001b[0;34m:\u001b[0m\u001b[0;34m-\u001b[0m\u001b[0;36m2\u001b[0m\u001b[0;34m]\u001b[0m\u001b[0;34m)\u001b[0m\u001b[0;34m\u001b[0m\u001b[0;34m\u001b[0m\u001b[0m\n",
            "\u001b[0;31mNameError\u001b[0m: name 'temp' is not defined"
          ]
        }
      ]
    },
    {
      "cell_type": "code",
      "source": [
        "input_string = input()\n",
        "list1 = []\n",
        "temp = \"\"\n",
        "for char in input_string:\n",
        "    if char == \",\":\n",
        "        list1.append(int(temp.strip()))\n",
        "        temp = \"\"\n",
        "    else:\n",
        "        temp += char\n",
        "if temp:\n",
        "    list1.append(int(temp.strip()))\n",
        "\n",
        "if len(list1) < 4:\n",
        "    print(\"Not possible\")\n",
        "else:\n",
        "    new_list = []\n",
        "    for i in range(2, len(list1)-2):\n",
        "        new_list.append(list1[i])\n",
        "    print(new_list)\n"
      ],
      "metadata": {
        "colab": {
          "base_uri": "https://localhost:8080/"
        },
        "id": "f3KDKLCJj-i5",
        "outputId": "19e9d88a-8693-46fa-910c-2004ea7d9cff"
      },
      "execution_count": null,
      "outputs": [
        {
          "output_type": "stream",
          "name": "stdout",
          "text": [
            "10, 20, 24\n",
            "Not possible\n"
          ]
        }
      ]
    },
    {
      "cell_type": "code",
      "source": [
        "input_string = (10, 20, 24, 25, 26, 35, 70)\n",
        "list1 = []\n",
        "list1=list(input_string)\n",
        "temp = \"\"\n",
        "for char in input_string:\n",
        "    if char == \",\":\n",
        "        list1.append(int(temp))\n",
        "        temp = \"\"\n",
        "    elif char != \" \":\n",
        "        temp += char\n",
        "if temp:\n",
        "    list1.append(int(temp))\n",
        "else:\n",
        "    new_list = []\n",
        "    for i in range(2, len(list1)-2):\n",
        "        new_list.append(list1[i])\n",
        "    print(new_list)\n"
      ],
      "metadata": {
        "colab": {
          "base_uri": "https://localhost:8080/"
        },
        "id": "qLlkTcEBlfit",
        "outputId": "e264b4cc-3870-429d-edb8-e52edf00e9e2"
      },
      "execution_count": null,
      "outputs": [
        {
          "output_type": "stream",
          "name": "stdout",
          "text": [
            "10, 20, 24, \n",
            "Not possible\n"
          ]
        }
      ]
    },
    {
      "cell_type": "code",
      "source": [
        "numbers=[]\n",
        "print(type(numbers))"
      ],
      "metadata": {
        "id": "ict59pXAJEmI",
        "colab": {
          "base_uri": "https://localhost:8080/"
        },
        "outputId": "0801c7bd-6e73-41f8-8e69-15a0dbcefe3a"
      },
      "execution_count": null,
      "outputs": [
        {
          "output_type": "stream",
          "name": "stdout",
          "text": [
            "<class 'list'>\n"
          ]
        }
      ]
    },
    {
      "cell_type": "markdown",
      "source": [],
      "metadata": {
        "id": "1gNiPOmuU5IA"
      }
    }
  ]
}