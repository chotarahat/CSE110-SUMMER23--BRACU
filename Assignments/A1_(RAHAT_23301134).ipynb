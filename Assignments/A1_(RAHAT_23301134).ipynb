{
  "nbformat": 4,
  "nbformat_minor": 0,
  "metadata": {
    "colab": {
      "provenance": []
    },
    "kernelspec": {
      "name": "python3",
      "display_name": "Python 3"
    },
    "language_info": {
      "name": "python"
    }
  },
  "cells": [
    {
      "cell_type": "code",
      "execution_count": null,
      "metadata": {
        "colab": {
          "base_uri": "https://localhost:8080/"
        },
        "id": "t4O2vEsjgenO",
        "outputId": "927ca55d-1d65-4d45-8deb-bbd22dda643c"
      },
      "outputs": [
        {
          "output_type": "stream",
          "name": "stdout",
          "text": [
            "hello world\n"
          ]
        }
      ],
      "source": [
        "#Task 1\n",
        "\n",
        "print (\"hello world\")"
      ]
    },
    {
      "cell_type": "code",
      "source": [
        "#Task 2\n",
        "\n",
        "print (54+56)"
      ],
      "metadata": {
        "colab": {
          "base_uri": "https://localhost:8080/"
        },
        "id": "ILhrFmOchUFb",
        "outputId": "2ae89968-edd2-4552-96c6-6100cf4d5dd8"
      },
      "execution_count": null,
      "outputs": [
        {
          "output_type": "stream",
          "name": "stdout",
          "text": [
            "110\n"
          ]
        }
      ]
    },
    {
      "cell_type": "code",
      "source": [
        "#Task 3\n",
        "\n",
        "season = \"Summer\"\n",
        "year = \"2023\"\n",
        "print (season)\n",
        "print (year)"
      ],
      "metadata": {
        "colab": {
          "base_uri": "https://localhost:8080/"
        },
        "id": "7N7F4oIGiP1i",
        "outputId": "57e9607d-12b8-4d8e-e33e-46a0e4c1e9cf"
      },
      "execution_count": null,
      "outputs": [
        {
          "output_type": "stream",
          "name": "stdout",
          "text": [
            "Summer\n",
            "2023\n"
          ]
        }
      ]
    },
    {
      "cell_type": "code",
      "source": [
        "#Task 4\n",
        "users_name = input(\"Enter Your Name: \")\n",
        "print(\"Your name is\", users_name)"
      ],
      "metadata": {
        "colab": {
          "base_uri": "https://localhost:8080/"
        },
        "id": "UqA_BgmrjYUL",
        "outputId": "d6afe195-a24d-42d0-a491-6bfb796f8c97"
      },
      "execution_count": null,
      "outputs": [
        {
          "output_type": "stream",
          "name": "stdout",
          "text": [
            "Enter Your Name: John\n",
            "Your name is John\n"
          ]
        }
      ]
    },
    {
      "cell_type": "code",
      "source": [
        "#Task 5\n",
        "\n",
        "M= int(input())\n",
        "N= int(input())\n",
        "print(f'{M}^{N}:{M**N}')"
      ],
      "metadata": {
        "colab": {
          "base_uri": "https://localhost:8080/"
        },
        "id": "hqkxEGMtnOBM",
        "outputId": "eee4d2fe-c76e-439f-c10c-ba54595f3591"
      },
      "execution_count": null,
      "outputs": [
        {
          "output_type": "stream",
          "name": "stdout",
          "text": [
            "2\n",
            "3\n",
            "2^3:8\n"
          ]
        }
      ]
    },
    {
      "cell_type": "code",
      "source": [
        "\n",
        "#Task 6\n",
        "\n",
        "Total_weight = int(input())\n",
        "print (Total_weight)\n",
        "amount=(Total_weight%4)\n",
        "print(Total_weight-amount)"
      ],
      "metadata": {
        "id": "XkzUd4gQpMNT",
        "colab": {
          "base_uri": "https://localhost:8080/"
        },
        "outputId": "874d4b7d-8690-41a9-f537-35cf65dee781"
      },
      "execution_count": null,
      "outputs": [
        {
          "output_type": "stream",
          "name": "stdout",
          "text": [
            "9\n",
            "9\n",
            "8\n"
          ]
        }
      ]
    },
    {
      "cell_type": "code",
      "source": [
        "#Task 7\n",
        "\n",
        "A = int(input())\n",
        "B = int(input())\n",
        "C = int(input())\n",
        "D = float(input())\n",
        "\n",
        "num1=(A**C)\n",
        "num2=(B*A)\n",
        "num3=(D/3)\n",
        "print(int(num1 + num2 - num3))"
      ],
      "metadata": {
        "colab": {
          "base_uri": "https://localhost:8080/"
        },
        "id": "0735hyK0sOL1",
        "outputId": "c0c871fd-d8fb-4c58-c172-f393bb47840d"
      },
      "execution_count": null,
      "outputs": [
        {
          "output_type": "stream",
          "name": "stdout",
          "text": [
            "2\n",
            "6\n",
            "8\n",
            "1.3\n",
            "267\n"
          ]
        }
      ]
    },
    {
      "cell_type": "code",
      "source": [
        "#Task 8\n",
        "\n",
        "total_number_of_chocolates = int(input(\"Number of Chocolates : \"))\n",
        "\n",
        "quantity = (total_number_of_chocolates//3)\n",
        "print(\"Each friend will receive\",quantity ,\"chocolates\")\n",
        "\n",
        "remaining =(total_number_of_chocolates%3)\n",
        "print (\"The number of remaining chocolates is\",remaining)"
      ],
      "metadata": {
        "colab": {
          "base_uri": "https://localhost:8080/"
        },
        "id": "1OrHILoR2oGQ",
        "outputId": "c336b304-50ea-433a-b5f8-20c7c3f4a508"
      },
      "execution_count": null,
      "outputs": [
        {
          "output_type": "stream",
          "name": "stdout",
          "text": [
            "Number of Chocolates : 50\n",
            "Each friend will receive 16 chocolates\n",
            "The number of remaining chocolates is 2\n"
          ]
        }
      ]
    },
    {
      "cell_type": "code",
      "source": [
        "# Task 9\n",
        "\n",
        "M = input()\n",
        "N = input()\n",
        "print(N + M)"
      ],
      "metadata": {
        "colab": {
          "base_uri": "https://localhost:8080/"
        },
        "id": "bUB11DVFmrYo",
        "outputId": "746ca5b5-6c5d-49fc-f18f-2fef81e59c81"
      },
      "execution_count": null,
      "outputs": [
        {
          "output_type": "stream",
          "name": "stdout",
          "text": [
            "Hello\n",
            "World\n",
            "WorldHello\n"
          ]
        }
      ]
    },
    {
      "cell_type": "code",
      "source": [
        "# Task 10\n",
        "\n",
        "number_1 = int(input())\n",
        "number_2 = float(input())\n",
        "number_3 = int(input())\n",
        "print(\"The inputs :\" ,str(number_1) + \",\" + str(number_2) + \",\" + str(number_3))\n",
        "\n",
        "number_4 = number_1 + number_2\n",
        "\n",
        "\n",
        "print(\"The result is\",str(number_4) + str(number_3))"
      ],
      "metadata": {
        "colab": {
          "base_uri": "https://localhost:8080/"
        },
        "id": "wWqViNWwzzhr",
        "outputId": "f57d93ea-ca7b-4802-907a-3ca5571883ab"
      },
      "execution_count": null,
      "outputs": [
        {
          "output_type": "stream",
          "name": "stdout",
          "text": [
            "3\n",
            "11.57\n",
            "7\n",
            "The inputs : 3,11.57,7\n",
            "The result is 14.577\n"
          ]
        }
      ]
    },
    {
      "cell_type": "code",
      "source": [
        "#Task 11\n",
        "\n",
        "number = int(input())\n",
        "if number%2 == 0:\n",
        "  print(\"True\")\n",
        "else:\n",
        "  print(\"False\")"
      ],
      "metadata": {
        "colab": {
          "base_uri": "https://localhost:8080/"
        },
        "id": "MBF_g_e0LB0w",
        "outputId": "d83726c3-633b-4373-823e-a09d9a2004d6"
      },
      "execution_count": null,
      "outputs": [
        {
          "output_type": "stream",
          "name": "stdout",
          "text": [
            "2\n",
            "True\n"
          ]
        }
      ]
    }
  ]
}