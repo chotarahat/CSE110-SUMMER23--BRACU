{
  "nbformat": 4,
  "nbformat_minor": 0,
  "metadata": {
    "colab": {
      "provenance": []
    },
    "kernelspec": {
      "name": "python3",
      "display_name": "Python 3"
    },
    "language_info": {
      "name": "python"
    }
  },
  "cells": [
    {
      "cell_type": "markdown",
      "source": [
        "**TASK 1**\n",
        "\n"
      ],
      "metadata": {
        "id": "PKMDpt6Mqjd2"
      }
    },
    {
      "cell_type": "code",
      "source": [
        "value = input()\n",
        "for element in  range(len(value)-1,-1,-1):#index count\n",
        "  print(value[element], end ='')"
      ],
      "metadata": {
        "colab": {
          "base_uri": "https://localhost:8080/"
        },
        "id": "7lVqospcqoPG",
        "outputId": "40b2787b-0361-403d-8724-f989fa07d378"
      },
      "execution_count": null,
      "outputs": [
        {
          "output_type": "stream",
          "name": "stdout",
          "text": [
            "python\n",
            "nohty"
          ]
        }
      ]
    },
    {
      "cell_type": "code",
      "source": [
        "s = 'I love Spider-man movie'\n",
        "print(len(s))\n",
        "print(s[2:4:1])\n",
        "print(s[11:16:2])\n",
        "print(s[5:])\n",
        "print(s[:])\n",
        "\n",
        "\n",
        "\n",
        "print(s[len(s):-24:-1])\n",
        "print(s[-5:-1:1])\n",
        "print(s[3::2])\n"
      ],
      "metadata": {
        "id": "wrtepO1huWxk",
        "colab": {
          "base_uri": "https://localhost:8080/"
        },
        "outputId": "ba9c5085-8dda-473e-b92b-c7374b2c21a8"
      },
      "execution_count": null,
      "outputs": [
        {
          "output_type": "stream",
          "name": "stdout",
          "text": [
            "23\n",
            "lo\n",
            "e-a\n",
            "e Spider-man movie\n",
            "I love Spider-man movie\n",
            "eivom nam-redipS evol I\n",
            "movi\n",
            "oeSie-a oi\n"
          ]
        }
      ]
    },
    {
      "cell_type": "markdown",
      "source": [
        "**TASK 2**"
      ],
      "metadata": {
        "id": "2PiDRATbxOIL"
      }
    },
    {
      "cell_type": "code",
      "source": [
        "string =input()\n",
        "index = int(input())\n",
        "y =\"\"\n",
        "for e in range(index,-1,-1):\n",
        "  y+=string[e]\n",
        "for e in range (index+1,len(string)):\n",
        "  y+=string[e]\n",
        "print(y)\n",
        "\n"
      ],
      "metadata": {
        "id": "kBV9OOhZxQr7",
        "colab": {
          "base_uri": "https://localhost:8080/"
        },
        "outputId": "908cf3f7-6bde-468e-f384-7bcb49300282"
      },
      "execution_count": null,
      "outputs": [
        {
          "output_type": "stream",
          "name": "stdout",
          "text": [
            "72418\n",
            "4\n",
            "81427\n"
          ]
        }
      ]
    },
    {
      "cell_type": "code",
      "source": [
        "x= \"hello world\"\n",
        "i = 0\n",
        "while (len(x)):\n",
        "  print(x[i])\n",
        "  i+=1\n"
      ],
      "metadata": {
        "id": "2x6G0W3d3g8a",
        "colab": {
          "base_uri": "https://localhost:8080/",
          "height": 418
        },
        "outputId": "1855fd85-8db9-4143-e2d3-c4b091ec74a0"
      },
      "execution_count": null,
      "outputs": [
        {
          "output_type": "stream",
          "name": "stdout",
          "text": [
            "h\n",
            "e\n",
            "l\n",
            "l\n",
            "o\n",
            " \n",
            "w\n",
            "o\n",
            "r\n",
            "l\n",
            "d\n"
          ]
        },
        {
          "output_type": "error",
          "ename": "IndexError",
          "evalue": "ignored",
          "traceback": [
            "\u001b[0;31m---------------------------------------------------------------------------\u001b[0m",
            "\u001b[0;31mIndexError\u001b[0m                                Traceback (most recent call last)",
            "\u001b[0;32m<ipython-input-4-0a2b61c46dfa>\u001b[0m in \u001b[0;36m<cell line: 3>\u001b[0;34m()\u001b[0m\n\u001b[1;32m      2\u001b[0m \u001b[0mi\u001b[0m \u001b[0;34m=\u001b[0m \u001b[0;36m0\u001b[0m\u001b[0;34m\u001b[0m\u001b[0;34m\u001b[0m\u001b[0m\n\u001b[1;32m      3\u001b[0m \u001b[0;32mwhile\u001b[0m \u001b[0;34m(\u001b[0m\u001b[0mlen\u001b[0m\u001b[0;34m(\u001b[0m\u001b[0mx\u001b[0m\u001b[0;34m)\u001b[0m\u001b[0;34m)\u001b[0m\u001b[0;34m:\u001b[0m\u001b[0;34m\u001b[0m\u001b[0;34m\u001b[0m\u001b[0m\n\u001b[0;32m----> 4\u001b[0;31m   \u001b[0mprint\u001b[0m\u001b[0;34m(\u001b[0m\u001b[0mx\u001b[0m\u001b[0;34m[\u001b[0m\u001b[0mi\u001b[0m\u001b[0;34m]\u001b[0m\u001b[0;34m)\u001b[0m\u001b[0;34m\u001b[0m\u001b[0;34m\u001b[0m\u001b[0m\n\u001b[0m\u001b[1;32m      5\u001b[0m   \u001b[0mi\u001b[0m\u001b[0;34m+=\u001b[0m\u001b[0;36m1\u001b[0m\u001b[0;34m\u001b[0m\u001b[0;34m\u001b[0m\u001b[0m\n",
            "\u001b[0;31mIndexError\u001b[0m: string index out of range"
          ]
        }
      ]
    },
    {
      "cell_type": "code",
      "source": [
        "x= \"hello world\"\n",
        "i = 0\n",
        "for i in range(0,len(x)):\n",
        "  print(x[i])\n"
      ],
      "metadata": {
        "id": "MY17GUpg39CJ",
        "colab": {
          "base_uri": "https://localhost:8080/"
        },
        "outputId": "6711b634-145a-4581-de94-78cd4696e675"
      },
      "execution_count": null,
      "outputs": [
        {
          "output_type": "stream",
          "name": "stdout",
          "text": [
            "h\n",
            "e\n",
            "l\n",
            "l\n",
            "o\n",
            " \n",
            "w\n",
            "o\n",
            "r\n",
            "l\n",
            "d\n"
          ]
        }
      ]
    },
    {
      "cell_type": "code",
      "source": [
        "x= \"hello world\"\n",
        "i = 0\n",
        "for i in range(len(x)-1,-1,-1):\n",
        "  print(i)"
      ],
      "metadata": {
        "id": "j_7bp7Xh4211",
        "colab": {
          "base_uri": "https://localhost:8080/"
        },
        "outputId": "fdd47a62-48a6-45ed-dfaf-56323920ad61"
      },
      "execution_count": null,
      "outputs": [
        {
          "output_type": "stream",
          "name": "stdout",
          "text": [
            "10\n",
            "9\n",
            "8\n",
            "7\n",
            "6\n",
            "5\n",
            "4\n",
            "3\n",
            "2\n",
            "1\n",
            "0\n"
          ]
        }
      ]
    },
    {
      "cell_type": "code",
      "source": [
        "x= \"hello world\"\n",
        "i = 0\n",
        "for i in x[::-1]:\n",
        "  print(i)"
      ],
      "metadata": {
        "id": "HOLJCRCU4maW",
        "colab": {
          "base_uri": "https://localhost:8080/"
        },
        "outputId": "42fd7aed-d90f-4345-fd7c-1a644a5d13b6"
      },
      "execution_count": null,
      "outputs": [
        {
          "output_type": "stream",
          "name": "stdout",
          "text": [
            "d\n",
            "l\n",
            "r\n",
            "o\n",
            "w\n",
            " \n",
            "o\n",
            "l\n",
            "l\n",
            "e\n",
            "h\n"
          ]
        }
      ]
    },
    {
      "cell_type": "markdown",
      "source": [
        "**TASK 3**"
      ],
      "metadata": {
        "id": "jGulSsKwO6Og"
      }
    },
    {
      "cell_type": "code",
      "source": [
        "number = input()\n",
        "count =0\n",
        "for i in number:\n",
        "  if i==\"0\" or i==\"1\":\n",
        "    count+=1\n",
        "if count==len(number):\n",
        "  print(\"Binary Number\")\n",
        "else:\n",
        "  print(\"Not a Binary Number\")\n",
        "\n",
        "\n"
      ],
      "metadata": {
        "colab": {
          "base_uri": "https://localhost:8080/"
        },
        "id": "OZ0uL8fj5DWk",
        "outputId": "64a0e74d-1783-45f4-e830-82671ec70b7a"
      },
      "execution_count": null,
      "outputs": [
        {
          "output_type": "stream",
          "name": "stdout",
          "text": [
            "21478234hherfhdshfdf\n",
            "Not a Binary Number\n"
          ]
        }
      ]
    },
    {
      "cell_type": "code",
      "source": [
        "value = input()\n",
        "s =\"\"\n",
        "for c in value:\n",
        "  s +=c\n",
        "  print(s,end=\"\")\n",
        "  print()\n"
      ],
      "metadata": {
        "colab": {
          "base_uri": "https://localhost:8080/"
        },
        "id": "7HYCqTYLA0s7",
        "outputId": "31a68eb2-e731-4665-99c3-3506b7028a79"
      },
      "execution_count": null,
      "outputs": [
        {
          "output_type": "stream",
          "name": "stdout",
          "text": [
            "DREAM\n",
            "D\n",
            "DR\n",
            "DRE\n",
            "DREA\n",
            "DREAM\n"
          ]
        }
      ]
    },
    {
      "cell_type": "markdown",
      "source": [
        "**TASK 6**"
      ],
      "metadata": {
        "id": "nu6knTU4CqPA"
      }
    },
    {
      "cell_type": "code",
      "source": [
        "value = input()\n",
        "for i in value:\n",
        "  print(f'{i} : {ord(i)}')\n"
      ],
      "metadata": {
        "colab": {
          "base_uri": "https://localhost:8080/"
        },
        "id": "ZJ-5TBLFCsDg",
        "outputId": "e814fd3c-e514-479a-dd54-8ab72b139ead"
      },
      "execution_count": null,
      "outputs": [
        {
          "output_type": "stream",
          "name": "stdout",
          "text": [
            "hunger\n",
            "h : 104\n",
            "u : 117\n",
            "n : 110\n",
            "g : 103\n",
            "e : 101\n",
            "r : 114\n"
          ]
        }
      ]
    },
    {
      "cell_type": "markdown",
      "source": [
        "**TASK 7**"
      ],
      "metadata": {
        "id": "lmCSDY3ZDM8u"
      }
    },
    {
      "cell_type": "code",
      "source": [
        "s=input()\n",
        "new_s=\"\"\n",
        "for i in s:\n",
        "  if i ==\"z\":\n",
        "    new_s+=\"a\"\n",
        "  else:\n",
        "    new_ASCII = ord(i)+1\n",
        "    new_c=chr(new_ASCII)\n",
        "    new_s+=new_c\n",
        "print(new_s)\n"
      ],
      "metadata": {
        "colab": {
          "base_uri": "https://localhost:8080/"
        },
        "id": "ygV-D8vJDP_W",
        "outputId": "6fbdd784-6e87-408f-fae1-a3135cd57d2f"
      },
      "execution_count": null,
      "outputs": [
        {
          "output_type": "stream",
          "name": "stdout",
          "text": [
            "abcdefghi\n",
            "bcdefghij\n"
          ]
        }
      ]
    },
    {
      "cell_type": "code",
      "source": [
        "s=\"abc\"\n",
        "new =\"\"\n",
        "for i in s:\n",
        "  print(ord(i))\n"
      ],
      "metadata": {
        "colab": {
          "base_uri": "https://localhost:8080/"
        },
        "id": "TYRR3XKaV3q1",
        "outputId": "df827b25-c4e3-4ab4-e469-5fe2fd765609"
      },
      "execution_count": null,
      "outputs": [
        {
          "output_type": "stream",
          "name": "stdout",
          "text": [
            "97\n",
            "98\n",
            "99\n"
          ]
        }
      ]
    },
    {
      "cell_type": "markdown",
      "source": [
        "**TASK 8**"
      ],
      "metadata": {
        "id": "sils2lPAI3me"
      }
    },
    {
      "cell_type": "code",
      "source": [
        "s =input()\n",
        "i=0\n",
        "new_s=\"\"\n",
        "for i in range(0,len(s)-1,2):\n",
        "  print(s[i])\n",
        "  new_s+=i\n"
      ],
      "metadata": {
        "id": "B-ETSs_2I3OO"
      },
      "execution_count": null,
      "outputs": []
    },
    {
      "cell_type": "code",
      "source": [
        "#string = input()\n",
        "s = 'Eid Mubarak'\n",
        "for character in s:\n",
        "  print('Current element holo:', character)\n",
        "\n",
        "\n",
        "print()\n",
        "\n",
        "\n",
        "s1 = 'Eid Mubarak'\n",
        "index = 0\n",
        "while index<len(s):\n",
        "  print('Current element holo:', s1[index])\n",
        "  index+=1"
      ],
      "metadata": {
        "id": "cM585GBjNF2p",
        "colab": {
          "base_uri": "https://localhost:8080/"
        },
        "outputId": "4c88439b-4961-426d-a805-76b4eccfc28c"
      },
      "execution_count": null,
      "outputs": [
        {
          "output_type": "stream",
          "name": "stdout",
          "text": [
            "Current element holo: E\n",
            "Current element holo: i\n",
            "Current element holo: d\n",
            "Current element holo:  \n",
            "Current element holo: M\n",
            "Current element holo: u\n",
            "Current element holo: b\n",
            "Current element holo: a\n",
            "Current element holo: r\n",
            "Current element holo: a\n",
            "Current element holo: k\n",
            "\n",
            "Current element holo: E\n",
            "Current element holo: i\n",
            "Current element holo: d\n",
            "Current element holo:  \n",
            "Current element holo: M\n",
            "Current element holo: u\n",
            "Current element holo: b\n",
            "Current element holo: a\n",
            "Current element holo: r\n",
            "Current element holo: a\n",
            "Current element holo: k\n"
          ]
        }
      ]
    },
    {
      "cell_type": "code",
      "source": [
        "value = 'CSE110'\n",
        "for i in range(0,len(value),1):\n",
        "  print(value[i], 'in Index:' , i)\n",
        "\n",
        "print()\n",
        "\n",
        "value1 = 'CSE110'\n",
        "i1 = 0\n",
        "while i1<len(value1):\n",
        "  #print(f'{value1[i1]} in Index: {i1}')\n",
        "  print(value1[i1],\"in Index:\",[i1])\n",
        "  i1+=1"
      ],
      "metadata": {
        "colab": {
          "base_uri": "https://localhost:8080/"
        },
        "id": "P0yOpKbFQDyc",
        "outputId": "a5f18f04-94f3-4de7-bfc0-80611276b0b6"
      },
      "execution_count": null,
      "outputs": [
        {
          "output_type": "stream",
          "name": "stdout",
          "text": [
            "C in Index: 0\n",
            "S in Index: 1\n",
            "E in Index: 2\n",
            "1 in Index: 3\n",
            "1 in Index: 4\n",
            "0 in Index: 5\n",
            "\n",
            "C in Index: [0]\n",
            "S in Index: [1]\n",
            "E in Index: [2]\n",
            "1 in Index: [3]\n",
            "1 in Index: [4]\n",
            "0 in Index: [5]\n"
          ]
        }
      ]
    },
    {
      "cell_type": "code",
      "source": [
        "my_list = [2,3,4,'Hello', 'True', True]\n",
        "for i in range(len(my_list)):\n",
        "  print(my_list[i], 'element ta ache',i, 'number index a')"
      ],
      "metadata": {
        "colab": {
          "base_uri": "https://localhost:8080/"
        },
        "id": "epSx3iY5R16O",
        "outputId": "c374d170-e96b-4736-8af8-b7f10516dc5a"
      },
      "execution_count": null,
      "outputs": [
        {
          "output_type": "stream",
          "name": "stdout",
          "text": [
            "2 element ta ache number index a\n",
            "3 element ta ache number index a\n",
            "4 element ta ache number index a\n",
            "Hello element ta ache number index a\n",
            "True element ta ache number index a\n",
            "True element ta ache number index a\n"
          ]
        }
      ]
    },
    {
      "cell_type": "code",
      "source": [
        "value = input()\n",
        "#for i in range(0,len(value),1):\n",
        "  #print(value[i],\"element ta ache\",[i],\"index er moddhe\")\n",
        "for i in range(len(value)-1,-1,-1):\n",
        "  print(value[i],end=\"\")\n"
      ],
      "metadata": {
        "colab": {
          "base_uri": "https://localhost:8080/"
        },
        "id": "XedMXseASngG",
        "outputId": "9a937614-43aa-4654-b55b-c547bdc485f1"
      },
      "execution_count": null,
      "outputs": [
        {
          "output_type": "stream",
          "name": "stdout",
          "text": [
            "1576527\n",
            "7256751"
          ]
        }
      ]
    },
    {
      "cell_type": "code",
      "source": [
        "first_input = input() #length greater than 1\n",
        "\n",
        "second_input = int(input())\n",
        "                              #index of the first given string where you have to start reversing\n",
        "\n",
        "new_string =\"\"\n",
        "for i in range(second_input,-1,-1):\n",
        "  new_string+=first_input[i]\n",
        "\n",
        "for i in range (second_input+1,len(first_input),1):\n",
        "  new_string+=first_input[i]\n",
        "print(new_string,end=\"\")"
      ],
      "metadata": {
        "colab": {
          "base_uri": "https://localhost:8080/"
        },
        "id": "65GPWekiXMph",
        "outputId": "a3da2ecf-f065-4c14-e6a2-e38b08fcb938"
      },
      "execution_count": null,
      "outputs": [
        {
          "output_type": "stream",
          "name": "stdout",
          "text": [
            "aBcd1234defg\n",
            "5\n",
            "21dcBa34defg"
          ]
        }
      ]
    },
    {
      "cell_type": "code",
      "source": [
        "first_input = input() #length greater than 1\n",
        "second_input = int(input())\n",
        " #index of the first given string where you have to start reversing\n",
        "new_string =\"\"\n",
        "for i in first_input:\n"
      ],
      "metadata": {
        "id": "csG8UGEjXuRd"
      },
      "execution_count": null,
      "outputs": []
    },
    {
      "cell_type": "code",
      "source": [
        "string = input()\n",
        "count = 0\n",
        "for i in string:\n",
        "  if i==\"0\" or i==\"1\":\n",
        "    count+=1\n",
        "if count==len(string):\n",
        "  print(\"Binary Number\")\n",
        "else:\n",
        "  print(\"Not a Binary Number\")\n"
      ],
      "metadata": {
        "colab": {
          "base_uri": "https://localhost:8080/"
        },
        "id": "jQoiXtgelW2K",
        "outputId": "67c2c183-504e-41d7-aba6-e5fa63462571"
      },
      "execution_count": null,
      "outputs": [
        {
          "output_type": "stream",
          "name": "stdout",
          "text": [
            "123erer\n",
            "Not a Binary Number\n"
          ]
        }
      ]
    },
    {
      "cell_type": "code",
      "source": [
        "word = input()\n",
        "\n",
        "if len(word)<4 and word[len(word)-2:len(word)] == \"er\":\n",
        "  new_w= word[0:len(word)-2:]+\"est\"\n",
        "  print(new_w)\n",
        "elif len(word)<4 and word[len(word)-2:len(word)] != \"er\":\n",
        "  print(word)\n",
        "elif word[len(word)-2:len(word):1] == 'er':\n",
        "  new_word= word[0:len(word)-2:1]+\"est\"\n",
        "  print(new_word)\n",
        "\n",
        "elif 3<len(word)>4 and word[len(word)-3:len(word):1]==\"est\":\n",
        "    print(word)\n",
        "\n",
        "elif 3<len(word)>4 and word[len(word)-2:len(word):1] != 'er':\n",
        "  print(word + \"er\")\n",
        "\n",
        "\n"
      ],
      "metadata": {
        "id": "7dLCHYDuraaa",
        "colab": {
          "base_uri": "https://localhost:8080/"
        },
        "outputId": "f282b599-883b-47a6-ba70-b04f6bb06fc7"
      },
      "execution_count": null,
      "outputs": [
        {
          "output_type": "stream",
          "name": "stdout",
          "text": [
            "stronger\n",
            "strongest\n"
          ]
        }
      ]
    },
    {
      "cell_type": "code",
      "source": [
        "string = \"Hello World\"\n",
        "for i in string:#range(len(string)):\n",
        "    print(i)#index\n",
        "    #without range its not index\n"
      ],
      "metadata": {
        "colab": {
          "base_uri": "https://localhost:8080/"
        },
        "id": "KwPEh1EVL8Z9",
        "outputId": "07bce77c-e384-461a-a10a-dc7a3cdb7eb3"
      },
      "execution_count": null,
      "outputs": [
        {
          "output_type": "stream",
          "name": "stdout",
          "text": [
            "H\n",
            "e\n",
            "l\n",
            "l\n",
            "o\n",
            " \n",
            "W\n",
            "o\n",
            "r\n",
            "l\n",
            "d\n"
          ]
        }
      ]
    },
    {
      "cell_type": "code",
      "source": [
        "string = \"Hello World\"\n",
        "new_string = \"\"\n",
        "for char in string:\n",
        "    if char == \"o\":\n",
        "        new_string += \"x\"\n",
        "    else:\n",
        "        new_string += char\n",
        "print(new_string)\n"
      ],
      "metadata": {
        "id": "TN4i-tVvLil6",
        "colab": {
          "base_uri": "https://localhost:8080/"
        },
        "outputId": "42cffa6a-4cf1-4ce1-97d4-818557a87c02"
      },
      "execution_count": null,
      "outputs": [
        {
          "output_type": "stream",
          "name": "stdout",
          "text": [
            "Hellx Wxrld\n"
          ]
        }
      ]
    },
    {
      "cell_type": "code",
      "source": [
        "string = input()\n",
        "s=\"\"\n",
        "for i in string:\n",
        "  s+=i\n",
        "  print(s,end=\"\")\n",
        "  print()\n",
        "\n"
      ],
      "metadata": {
        "colab": {
          "base_uri": "https://localhost:8080/"
        },
        "id": "Ne0_ssiyMvAR",
        "outputId": "65b47d2c-ddef-42da-f1bb-2f4ba755c512"
      },
      "execution_count": null,
      "outputs": [
        {
          "output_type": "stream",
          "name": "stdout",
          "text": [
            "dream\n",
            "d\n",
            "dr\n",
            "dre\n",
            "drea\n",
            "dream\n"
          ]
        }
      ]
    },
    {
      "cell_type": "code",
      "source": [
        "value = int(input())\n",
        "count = 0\n",
        "for i in range(1, value+1):\n",
        "  for j in range(1, i+1):\n",
        "    print(j, end='')\n",
        "  print()"
      ],
      "metadata": {
        "colab": {
          "base_uri": "https://localhost:8080/"
        },
        "id": "cjhswbVlmkWx",
        "outputId": "10770ad0-db39-4fde-fda5-03bdb56388e6"
      },
      "execution_count": null,
      "outputs": [
        {
          "output_type": "stream",
          "name": "stdout",
          "text": [
            "5\n",
            "1\n",
            "12\n",
            "123\n",
            "1234\n",
            "12345\n"
          ]
        }
      ]
    },
    {
      "cell_type": "code",
      "source": [
        "N = int(input())\n",
        "i = 1\n",
        "while i <= N:\n",
        "    j = 1\n",
        "    while j <= i:\n",
        "        print(j, end=\"\")\n",
        "        j += 1\n",
        "    print()\n",
        "    i += 1\n"
      ],
      "metadata": {
        "colab": {
          "base_uri": "https://localhost:8080/"
        },
        "id": "d4R-sU_t3CRG",
        "outputId": "8f991701-3ba2-4896-fd0c-749c7d5645b0"
      },
      "execution_count": null,
      "outputs": [
        {
          "output_type": "stream",
          "name": "stdout",
          "text": [
            "5\n",
            "1\n",
            "12\n",
            "123\n",
            "1234\n",
            "12345\n"
          ]
        }
      ]
    },
    {
      "cell_type": "code",
      "source": [
        "N = int(input())\n",
        "for i in range(1, N + 1):\n",
        "    for j in range(1, i + 1):\n",
        "        print(j, end=\"\")\n",
        "    print()\n"
      ],
      "metadata": {
        "colab": {
          "base_uri": "https://localhost:8080/"
        },
        "id": "JbsyrdJV28Gy",
        "outputId": "6b09072c-7c55-43df-fc91-e562020ee652"
      },
      "execution_count": null,
      "outputs": [
        {
          "output_type": "stream",
          "name": "stdout",
          "text": [
            "5\n",
            "1\n",
            "12\n",
            "123\n",
            "1234\n",
            "12345\n"
          ]
        }
      ]
    },
    {
      "cell_type": "code",
      "source": [
        "row = int(input())\n",
        "column = int(input())\n",
        "i = 0\n",
        "while i < row:\n",
        "    j = 1\n",
        "    while j <= column:\n",
        "        print(j, end=\"\")\n",
        "        j += 1\n",
        "    print()\n",
        "    i += 1"
      ],
      "metadata": {
        "colab": {
          "base_uri": "https://localhost:8080/"
        },
        "id": "SI4eOZPp3H65",
        "outputId": "e1b64928-a608-4959-ae60-f3c6d85c7584"
      },
      "execution_count": null,
      "outputs": [
        {
          "output_type": "stream",
          "name": "stdout",
          "text": [
            "5\n",
            "4\n",
            "1234\n",
            "1234\n",
            "1234\n",
            "1234\n",
            "1234\n"
          ]
        }
      ]
    },
    {
      "cell_type": "markdown",
      "source": [
        "**ASCII**\n",
        "\n",
        "\n",
        "\n"
      ],
      "metadata": {
        "id": "2ngU63nF_iqS"
      }
    },
    {
      "cell_type": "code",
      "source": [
        "A=65\n",
        "Z=90\n",
        "a=97\n",
        "z=122\n",
        "0=48\n",
        "9=57\n",
        "\n",
        "for upper to lowercase\n",
        "97-65 = 32\n",
        "so  new += chr(ord(i)+32)\n",
        "for lower to uppercase\n",
        " new += chr(ord(i)-32)"
      ],
      "metadata": {
        "id": "-2JtlOYq9Rvu"
      },
      "execution_count": null,
      "outputs": []
    },
    {
      "cell_type": "code",
      "source": [
        "print(chr(65))\n",
        "print(ord(\"A\"))"
      ],
      "metadata": {
        "colab": {
          "base_uri": "https://localhost:8080/"
        },
        "id": "tFw_7Vjp_L9V",
        "outputId": "16ba675b-94d5-4212-efd3-457f9ab9cde6"
      },
      "execution_count": null,
      "outputs": [
        {
          "output_type": "stream",
          "name": "stdout",
          "text": [
            "A\n",
            "65\n"
          ]
        }
      ]
    },
    {
      "cell_type": "code",
      "source": [
        "string = input()\n",
        "for i in string:\n",
        "  print(i,\":\",ord(i))"
      ],
      "metadata": {
        "colab": {
          "base_uri": "https://localhost:8080/"
        },
        "id": "LdSM9BbJ_f5i",
        "outputId": "9e06d8b3-d21d-4c5e-a0c0-2ad43030f11e"
      },
      "execution_count": null,
      "outputs": [
        {
          "output_type": "stream",
          "name": "stdout",
          "text": [
            "Programming\n",
            "P : 80\n",
            "r : 114\n",
            "o : 111\n",
            "g : 103\n",
            "r : 114\n",
            "a : 97\n",
            "m : 109\n",
            "m : 109\n",
            "i : 105\n",
            "n : 110\n",
            "g : 103\n"
          ]
        }
      ]
    },
    {
      "cell_type": "code",
      "source": [
        "string = input()\n",
        "new=\"\"\n",
        "for i in range(0,len(string),1):\n",
        "  #print([i])\n",
        "  print(ord(string[i]))"
      ],
      "metadata": {
        "colab": {
          "base_uri": "https://localhost:8080/"
        },
        "id": "-kVN-pybA3bR",
        "outputId": "bb1e5d90-9d22-477e-e23b-ab28e260c07f"
      },
      "execution_count": null,
      "outputs": [
        {
          "output_type": "stream",
          "name": "stdout",
          "text": [
            "abcdefg\n",
            "97\n",
            "98\n",
            "99\n",
            "100\n",
            "101\n",
            "102\n",
            "103\n"
          ]
        }
      ]
    },
    {
      "cell_type": "code",
      "source": [
        "string = input()\n",
        "new=\"\"\n",
        "for i in string:\n",
        "  if i==\"z\":\n",
        "    new+=\"a\"\n",
        "  else:\n",
        "    new+=chr(ord(i)+1)\n",
        "print(new)"
      ],
      "metadata": {
        "id": "fMNo1b1aAguB",
        "colab": {
          "base_uri": "https://localhost:8080/"
        },
        "outputId": "a6723ef6-e884-42a9-c0da-beb8bb637185"
      },
      "execution_count": null,
      "outputs": [
        {
          "output_type": "stream",
          "name": "stdout",
          "text": [
            "xyzabc\n",
            "yzabcd\n"
          ]
        }
      ]
    },
    {
      "cell_type": "code",
      "source": [
        "string = input()\n",
        "new_c =\"\"\n",
        "for i in range(1,len(string),2):\n",
        "  print((chr(ord(string[i])-32)),end=\"\")"
      ],
      "metadata": {
        "colab": {
          "base_uri": "https://localhost:8080/"
        },
        "id": "Ei0djTXGITmA",
        "outputId": "03c642b3-8516-449b-c702-d2ca6ef1dc3f"
      },
      "execution_count": null,
      "outputs": [
        {
          "output_type": "stream",
          "name": "stdout",
          "text": [
            "abcd\n",
            "BD"
          ]
        }
      ]
    },
    {
      "cell_type": "code",
      "source": [
        "string = input()\n",
        "new_string = \"\"\n",
        "for i in range(len(string)):\n",
        "    if string[i] != string[i-1]:\n",
        "        new_string += string[i]\n",
        "print(new_string)"
      ],
      "metadata": {
        "colab": {
          "base_uri": "https://localhost:8080/"
        },
        "id": "sLY0_4a5LzfR",
        "outputId": "68cbd9c0-b7b2-46d9-dac5-635b6f18ead2"
      },
      "execution_count": null,
      "outputs": [
        {
          "output_type": "stream",
          "name": "stdout",
          "text": [
            "AAaaaAaaAAAa\n",
            "AaAaAa\n"
          ]
        }
      ]
    },
    {
      "cell_type": "code",
      "source": [
        "string = input()\n",
        "new_string = \"\"\n",
        "for i in range(len(string)):\n",
        "  print(string[i-1])"
      ],
      "metadata": {
        "colab": {
          "base_uri": "https://localhost:8080/"
        },
        "id": "K1A30u7g7ELd",
        "outputId": "c8972051-a840-4ed2-b25a-1f4c7e0cc981"
      },
      "execution_count": null,
      "outputs": [
        {
          "output_type": "stream",
          "name": "stdout",
          "text": [
            "AAABBCDE\n",
            "E\n",
            "A\n",
            "A\n",
            "A\n",
            "B\n",
            "B\n",
            "C\n",
            "D\n"
          ]
        }
      ]
    },
    {
      "cell_type": "code",
      "source": [
        "string = input()\n",
        "new_s=\"\"\n",
        "for i in string:\n",
        "  if i!=\",\":\n",
        "    new_s+=i\n",
        "print(new_s)"
      ],
      "metadata": {
        "colab": {
          "base_uri": "https://localhost:8080/"
        },
        "id": "JTk1ztwkQBLk",
        "outputId": "d0ee1592-47b4-4bb0-ef68-efd8a3fc30da"
      },
      "execution_count": null,
      "outputs": [
        {
          "output_type": "stream",
          "name": "stdout",
          "text": [
            "nbnbbnnbb\n",
            "nbnbbnnbb\n"
          ]
        }
      ]
    },
    {
      "cell_type": "code",
      "source": [
        "string=input()\n",
        "result =\"\"\n",
        "x=\"\"\n",
        "y=\"\"\n",
        "for i in range(len(string)):\n",
        "  if string[i] == \",\":\n",
        "    x = string[0:i]\n",
        "    y = string[i+2:len(string):1]\n",
        "    break\n",
        "if len(x)==len(y):\n",
        "  for i in range(len(x)):\n",
        "    result = result+x[i]+y[i]\n",
        "else:\n",
        "  if len(x)>len(y):\n",
        "    for i in range(len(y)):\n",
        "      result+=x[i]+y[i]\n",
        "    result+=x[len(y):len(x):1]\n",
        "  elif len(x)<len(y):\n",
        "    for i in range(len(x)):\n",
        "      result+=x[i]+y[i]\n",
        "    result+=y[len(x):len(y):1]\n",
        "print(result)"
      ],
      "metadata": {
        "id": "_8rGU8S_UrJa",
        "colab": {
          "base_uri": "https://localhost:8080/"
        },
        "outputId": "203808c9-d46e-4cd1-8ef3-1a8e831fdcdb"
      },
      "execution_count": null,
      "outputs": [
        {
          "output_type": "stream",
          "name": "stdout",
          "text": [
            "ijkl, ABCDENDFGH\n",
            "iAjBkClDENDFGH\n"
          ]
        }
      ]
    },
    {
      "cell_type": "code",
      "source": [
        "input_str = input(\"Enter two strings separated by a comma and a space: \")\n",
        "result = \"\"\n",
        "x, y = \"\", \"\"\n",
        "for i in range(len(input_str)):\n",
        "    if input_str[i] == \",\":\n",
        "        x = input_str[0:i]\n",
        "        y = input_str[i + 2:len(input_str):1]\n",
        "        break\n",
        "if len(x) == len(y):\n",
        "    for i in range(len(x)):\n",
        "        result = result + x[i] + y[i]\n",
        "else:\n",
        "    if len(x) > len(y):\n",
        "      for i in range(len(y)):\n",
        "        result += x[i] + y[i]\n",
        "      result += x[len(y):len(x):1]\n",
        "    elif len(x) < len(y):\n",
        "      for i in range(len(x)):\n",
        "        result += x[i] + y[i]\n",
        "      result += y[len(x):len(y):1]\n",
        "print(result)"
      ],
      "metadata": {
        "colab": {
          "base_uri": "https://localhost:8080/"
        },
        "id": "aYGKXeS6ssGL",
        "outputId": "4b04bfee-33ef-485a-b5b5-0de476e97240"
      },
      "execution_count": null,
      "outputs": [
        {
          "output_type": "stream",
          "name": "stdout",
          "text": [
            "Enter two strings separated by a comma and a space: ijkl, ABCDENDFGH\n",
            "i jAkBlCDENDFGH\n"
          ]
        }
      ]
    },
    {
      "cell_type": "code",
      "source": [
        "val = 'ABCDEF, ghij'\n",
        "ind = 0\n",
        "new = ''\n",
        "for i in range(len(val)):\n",
        "  if val[i] == ',':\n",
        "    ind = i\n",
        "var1 = val[0:ind]\n",
        "var2 = val[ind+2:]\n",
        "print(var1)\n",
        "print(var2)\n",
        "\n",
        "if len(var1) == len(var2):\n",
        "  for i in range(len(var1)):\n",
        "    new+=var1[i]+var2[i]\n",
        "elif len(var1)> len(var2):\n",
        "  for i in range(len(var2)):\n",
        "     new+=var1[i]+var2[i]\n",
        "  new+=var1[i+1:]\n",
        "print(new)"
      ],
      "metadata": {
        "id": "TXhw0z_WroK7"
      },
      "execution_count": null,
      "outputs": []
    },
    {
      "cell_type": "code",
      "source": [
        "line = input()\n",
        "n1 = 0\n",
        "i1 = 0\n",
        "while line[n1] != ',':\n",
        "    n1 += 1\n",
        "i2 = n1 + 2\n",
        "n2 = len(line)\n",
        "\n",
        "res = ''\n",
        "while i1 < n1 and i2 < n2:\n",
        "    res += line[i1] + line[i2]\n",
        "    i1 += 1\n",
        "    i2 += 1\n",
        "\n",
        "if i1 < n1:\n",
        "    res += line[i1:n1]\n",
        "else:\n",
        "    res += line[i2:n2]\n",
        "\n",
        "print(res)"
      ],
      "metadata": {
        "colab": {
          "base_uri": "https://localhost:8080/"
        },
        "id": "Wy4S3KfFMQeh",
        "outputId": "d5adc61a-a40c-4ae0-9615-10b8f5a38656"
      },
      "execution_count": null,
      "outputs": [
        {
          "output_type": "stream",
          "name": "stdout",
          "text": [
            "ijkl, ABCDENDFGH\n",
            "iAjBkClDENDFGH\n"
          ]
        }
      ]
    },
    {
      "cell_type": "code",
      "source": [
        "for x in range(5):\n",
        "  for y in range(3):\n",
        "    print(x,y)"
      ],
      "metadata": {
        "id": "MTXcF35dLl5t"
      },
      "execution_count": null,
      "outputs": []
    },
    {
      "cell_type": "code",
      "source": [
        "input_str = input(\"Enter two strings separated by a comma and a space: \")\n",
        "comma_index = input_str.find(\", \")\n",
        "str1 = input_str[:comma_index]\n",
        "str2 = input_str[comma_index + 2:]\n",
        "result = \"\"\n",
        "min_len = min(len(str1), len(str2))\n",
        "for i in range(min_len):\n",
        "    result += str1[i] + str2[i]\n",
        "for i in range(min_len, len(str1)):\n",
        "    result += str1[i]\n",
        "for i in range(min_len, len(str2)):\n",
        "    result += str2[i]\n",
        "print(result)"
      ],
      "metadata": {
        "colab": {
          "base_uri": "https://localhost:8080/"
        },
        "id": "c8KQSJKhKgwW",
        "outputId": "07d64598-7ac5-4cdf-fc7c-1970e477231d"
      },
      "execution_count": null,
      "outputs": [
        {
          "output_type": "stream",
          "name": "stdout",
          "text": [
            "Enter two strings separated by a comma and a space: ijkl, ABCDENDFGH\n",
            "iAjBkClDENDFGH\n"
          ]
        }
      ]
    },
    {
      "cell_type": "code",
      "source": [
        "i = 10\n",
        "while(i >= -20):\n",
        "    if(i < 0):\n",
        "        test = \" != \"\n",
        "        test = str(i//2) + test + str(int(i/2))\n",
        "    else:\n",
        "        test = \" == \"\n",
        "        test = str(i//2) + test + str(int(i/2))\n",
        "    print(test)\n",
        "    i -= 5\n",
        "\n"
      ],
      "metadata": {
        "id": "YEy-5ZxyB7-A",
        "outputId": "f73df0d0-22e3-4708-dfd4-10d19dbf4e61",
        "colab": {
          "base_uri": "https://localhost:8080/"
        }
      },
      "execution_count": null,
      "outputs": [
        {
          "output_type": "stream",
          "name": "stdout",
          "text": [
            "5 == 5\n",
            "2 == 2\n",
            "0 == 0\n",
            "-3 != -2\n",
            "-5 != -5\n",
            "-8 != -7\n",
            "-10 != -10\n"
          ]
        }
      ]
    }
  ]
}