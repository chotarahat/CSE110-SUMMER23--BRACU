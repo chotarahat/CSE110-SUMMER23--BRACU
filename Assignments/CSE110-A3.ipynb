{
  "nbformat": 4,
  "nbformat_minor": 0,
  "metadata": {
    "colab": {
      "provenance": []
    },
    "kernelspec": {
      "name": "python3",
      "display_name": "Python 3"
    },
    "language_info": {
      "name": "python"
    }
  },
  "cells": [
    {
      "cell_type": "markdown",
      "source": [],
      "metadata": {
        "id": "ms2ENvRyYkES"
      }
    },
    {
      "cell_type": "markdown",
      "source": [
        "**Task 1(a)**"
      ],
      "metadata": {
        "id": "Q5TSkixzYnva"
      }
    },
    {
      "cell_type": "code",
      "source": [
        "counter = 24\n",
        "while counter >= -6:\n",
        "  if counter == -6:\n",
        "    print(counter,end = \"\")\n",
        "  else:\n",
        "    print(counter,end=\",\")\n",
        "  counter = counter -6\n"
      ],
      "metadata": {
        "colab": {
          "base_uri": "https://localhost:8080/"
        },
        "id": "W46QG8pJYpiS",
        "outputId": "8f50dc50-b353-48c2-b62f-d79b0704494b"
      },
      "execution_count": null,
      "outputs": [
        {
          "output_type": "stream",
          "name": "stdout",
          "text": [
            "24,18,12,6,0,-6"
          ]
        }
      ]
    },
    {
      "cell_type": "code",
      "source": [
        "for i in range(24,-7,-6):\n",
        "    if i == -6:\n",
        "      print(i,end=\"\")\n",
        "    else:\n",
        "      print(i,end=\",\")\n",
        "    #print(i,end=\",\")"
      ],
      "metadata": {
        "colab": {
          "base_uri": "https://localhost:8080/"
        },
        "id": "du8q8i69KMv2",
        "outputId": "114e3835-9d56-42ab-d6e5-78e9e14ef8da"
      },
      "execution_count": null,
      "outputs": [
        {
          "output_type": "stream",
          "name": "stdout",
          "text": [
            "24,18,12,6,0,-6"
          ]
        }
      ]
    },
    {
      "cell_type": "markdown",
      "source": [
        "**Task 1(b)**"
      ],
      "metadata": {
        "id": "IQggA2gaYbtl"
      }
    },
    {
      "cell_type": "code",
      "source": [
        "counter = -10\n",
        "while counter <= 20:\n",
        "  if counter == 20:\n",
        "    print(counter,end=\"\")\n",
        "  else:\n",
        "    print(counter,end=\",\")\n",
        "  counter = counter + 5"
      ],
      "metadata": {
        "id": "2osEtpw7ZwhV",
        "colab": {
          "base_uri": "https://localhost:8080/"
        },
        "outputId": "651792f7-a247-4118-a055-9dfdf8aea280"
      },
      "execution_count": null,
      "outputs": [
        {
          "output_type": "stream",
          "name": "stdout",
          "text": [
            "-10,-5,0,5,10,15,20"
          ]
        }
      ]
    },
    {
      "cell_type": "code",
      "source": [
        "for i in range(-10,25,5):\n",
        "  if i == 20:\n",
        "    print(i,end=\"\")\n",
        "  else:\n",
        "    print(i,end=\",\")"
      ],
      "metadata": {
        "colab": {
          "base_uri": "https://localhost:8080/"
        },
        "id": "FhgK5UwT-iOA",
        "outputId": "1e0de44c-1993-45b0-dc98-c7454068847e"
      },
      "execution_count": null,
      "outputs": [
        {
          "output_type": "stream",
          "name": "stdout",
          "text": [
            "-10,-5,0,5,10,15,20"
          ]
        }
      ]
    },
    {
      "cell_type": "markdown",
      "source": [
        "**Task 1(c)**"
      ],
      "metadata": {
        "id": "X6A_CfgWgv6z"
      }
    },
    {
      "cell_type": "code",
      "source": [
        "counter = 18\n",
        "while counter <=63:\n",
        "  if counter == 63:\n",
        "    print(counter,end=\"\")\n",
        "  else:\n",
        "    print(counter,end=\",\")\n",
        "  counter = counter + 9\n"
      ],
      "metadata": {
        "colab": {
          "base_uri": "https://localhost:8080/"
        },
        "id": "88m6HfoPg04S",
        "outputId": "3311aa71-138f-4323-8fce-cb90c03bc14e"
      },
      "execution_count": null,
      "outputs": [
        {
          "output_type": "stream",
          "name": "stdout",
          "text": [
            "18,27,36,45,54,63"
          ]
        }
      ]
    },
    {
      "cell_type": "code",
      "source": [
        "for i in range(18,71,9):\n",
        "  if i == 63:\n",
        "    print(i,end=\"\")\n",
        "  else:\n",
        "    print(i,end=\",\")"
      ],
      "metadata": {
        "colab": {
          "base_uri": "https://localhost:8080/"
        },
        "id": "kaeOePfL_CL6",
        "outputId": "8c2c19fe-83a0-44ef-aa74-69c84737f7b5"
      },
      "execution_count": null,
      "outputs": [
        {
          "output_type": "stream",
          "name": "stdout",
          "text": [
            "18,27,36,45,54,63"
          ]
        }
      ]
    },
    {
      "cell_type": "markdown",
      "source": [
        "**Task 1(d)**"
      ],
      "metadata": {
        "id": "72YsVCOlijqa"
      }
    },
    {
      "cell_type": "code",
      "source": [
        "i = 18\n",
        "while(i<=63):\n",
        "  if i %2==0:\n",
        "    print(i,end=\",\")\n",
        "  else:\n",
        "    if i == 63:\n",
        "        print(i*(-1),end = \"\")\n",
        "    else:\n",
        "        print(i*(-1),end = \",\")\n",
        "  i = i+9\n",
        "\n"
      ],
      "metadata": {
        "id": "VvXzYbFGipTL",
        "colab": {
          "base_uri": "https://localhost:8080/"
        },
        "outputId": "32223b1f-02c2-4d77-c028-8739c5846dd6"
      },
      "execution_count": null,
      "outputs": [
        {
          "output_type": "stream",
          "name": "stdout",
          "text": [
            "18,-27,36,-45,54,-63"
          ]
        }
      ]
    },
    {
      "cell_type": "code",
      "source": [
        "count = 18\n",
        "while(count<=63):\n",
        "  if count %2==0:\n",
        "    print(count,end=\",\")\n",
        "  else:\n",
        "    if count == 63:\n",
        "        print(count*(-1),end = \"\")\n",
        "    else:\n",
        "        print(count*(-1),end = \",\")\n",
        "  count = count+9\n",
        "\n"
      ],
      "metadata": {
        "colab": {
          "base_uri": "https://localhost:8080/"
        },
        "id": "FhsXwlOX2OAu",
        "outputId": "8e0d7692-b5fd-46ae-fd7c-36cd47119940"
      },
      "execution_count": null,
      "outputs": [
        {
          "output_type": "stream",
          "name": "stdout",
          "text": [
            "18,-27,36,-45,54,-63"
          ]
        }
      ]
    },
    {
      "cell_type": "code",
      "source": [
        "for i in range(18,71,9):\n",
        "  if i %2==0:\n",
        "    print(i,end=\",\")\n",
        "  else:\n",
        "    if i == 63:\n",
        "        print(i*(-1),end = \"\")\n",
        "    else:\n",
        "        print(i*(-1),end = \",\")\n",
        "\n",
        "\n"
      ],
      "metadata": {
        "colab": {
          "base_uri": "https://localhost:8080/"
        },
        "id": "oyAP98yh_pJB",
        "outputId": "3bde0b98-2c68-4b81-bff3-f82b5defb70b"
      },
      "execution_count": null,
      "outputs": [
        {
          "output_type": "stream",
          "name": "stdout",
          "text": [
            "18,-27,36,-45,54,-63"
          ]
        }
      ]
    },
    {
      "cell_type": "markdown",
      "source": [
        "**Task 2**"
      ],
      "metadata": {
        "id": "KLd8RILnlSHG"
      }
    },
    {
      "cell_type": "code",
      "source": [
        "favorite_car = input()\n",
        "number = int(input())\n",
        "count = 0\n",
        "while count<number:#(0,1)\n",
        "  print(favorite_car)\n",
        "  count+=1\n"
      ],
      "metadata": {
        "colab": {
          "base_uri": "https://localhost:8080/"
        },
        "id": "t4pw5QRUox32",
        "outputId": "7d775f0f-63cb-4ec9-f8a7-f0af30b03431"
      },
      "execution_count": null,
      "outputs": [
        {
          "output_type": "stream",
          "name": "stdout",
          "text": [
            "tyry\n",
            "8\n",
            "tyry\n",
            "tyry\n",
            "tyry\n",
            "tyry\n",
            "tyry\n",
            "tyry\n",
            "tyry\n",
            "tyry\n"
          ]
        }
      ]
    },
    {
      "cell_type": "markdown",
      "source": [
        "**Task 3**"
      ],
      "metadata": {
        "id": "825DfayJoldl"
      }
    },
    {
      "cell_type": "code",
      "source": [
        "count=0\n",
        "sum = 0\n",
        "while count<601:\n",
        "  if count%7==0 and count%9==0:\n",
        "    sum = sum + count\n",
        "  count+=1\n",
        "print(sum)\n",
        "\n",
        "\n",
        "\n"
      ],
      "metadata": {
        "colab": {
          "base_uri": "https://localhost:8080/"
        },
        "id": "YqkY8JYcw2kU",
        "outputId": "346901f4-aa45-4b9b-b359-6d61cec63ad9"
      },
      "execution_count": null,
      "outputs": [
        {
          "output_type": "stream",
          "name": "stdout",
          "text": [
            "2835\n"
          ]
        }
      ]
    },
    {
      "cell_type": "code",
      "source": [
        "sum=0\n",
        "for i in range(63,601,63):\n",
        "  sum+=i\n",
        "print(sum)"
      ],
      "metadata": {
        "colab": {
          "base_uri": "https://localhost:8080/"
        },
        "id": "GnS_UW4LRUUp",
        "outputId": "036ee523-7334-4618-ce78-dcc2753888ca"
      },
      "execution_count": null,
      "outputs": [
        {
          "output_type": "stream",
          "name": "stdout",
          "text": [
            "2835\n"
          ]
        }
      ]
    },
    {
      "cell_type": "code",
      "source": [
        "count = 1\n",
        "sum = 0\n",
        "while count<=600:\n",
        "  if count%7==0 and count%9==0:\n",
        "    sum = sum + count\n",
        "    count = count +1\n",
        "  else:\n",
        "    count = count +1\n",
        "print(sum)"
      ],
      "metadata": {
        "colab": {
          "base_uri": "https://localhost:8080/"
        },
        "id": "IP4qkYLfo3Nk",
        "outputId": "e0c905d7-c9f8-4d85-b376-5e01d235d1a2"
      },
      "execution_count": null,
      "outputs": [
        {
          "output_type": "stream",
          "name": "stdout",
          "text": [
            "2835\n"
          ]
        }
      ]
    },
    {
      "cell_type": "markdown",
      "source": [
        "**Task 4**"
      ],
      "metadata": {
        "id": "SUkBNTGhQ-hQ"
      }
    },
    {
      "cell_type": "code",
      "source": [
        "count = 0\n",
        "sum = 0\n",
        "while count<=600:\n",
        "  if count%7==0 and count%9!=0:\n",
        "    sum+= count\n",
        "    count+=1\n",
        "  elif count%9==0 and count%7!=0:\n",
        "    sum+=count\n",
        "    count+=1\n",
        "  else:\n",
        "    count+=1\n",
        "print(sum)"
      ],
      "metadata": {
        "id": "Cq33vLZro3BX",
        "colab": {
          "base_uri": "https://localhost:8080/"
        },
        "outputId": "b2bcf240-b80b-4ebb-a1ad-d4175d9ecbde"
      },
      "execution_count": null,
      "outputs": [
        {
          "output_type": "stream",
          "name": "stdout",
          "text": [
            "39814\n"
          ]
        }
      ]
    },
    {
      "cell_type": "markdown",
      "source": [
        "**Task 5**"
      ],
      "metadata": {
        "id": "2lEtFQieSsUv"
      }
    },
    {
      "cell_type": "code",
      "source": [
        "count = 10\n",
        "while count<=50:\n",
        "  if count%2!=0:\n",
        "    print(count,end=\" \")\n",
        "  count+=1"
      ],
      "metadata": {
        "colab": {
          "base_uri": "https://localhost:8080/"
        },
        "id": "50ajOEnhSva2",
        "outputId": "7f56aafa-068c-4d30-e70c-1f70aeb71807"
      },
      "execution_count": null,
      "outputs": [
        {
          "output_type": "stream",
          "name": "stdout",
          "text": [
            "11 13 15 17 19 21 23 25 27 29 31 33 35 37 39 41 43 45 47 49 "
          ]
        }
      ]
    },
    {
      "cell_type": "code",
      "source": [
        "for i in range(11,50,2):\n",
        "  print(i,end=\" \")"
      ],
      "metadata": {
        "colab": {
          "base_uri": "https://localhost:8080/"
        },
        "id": "EnU2CKd4-QF-",
        "outputId": "e021b612-cafe-456c-836e-bd44ea7a7868"
      },
      "execution_count": null,
      "outputs": [
        {
          "output_type": "stream",
          "name": "stdout",
          "text": [
            "11 13 15 17 19 21 23 25 27 29 31 33 35 37 39 41 43 45 47 49 "
          ]
        }
      ]
    },
    {
      "cell_type": "markdown",
      "source": [
        "**Task 6**"
      ],
      "metadata": {
        "id": "cfvsGxrsyuVr"
      }
    },
    {
      "cell_type": "code",
      "source": [
        "n = int(input())\n",
        "y = 1\n",
        "sum=0\n",
        "while y<=n:\n",
        "  if y%2!=0:    #odd\n",
        "    sum += (y**2)\n",
        "  else:    #even\n",
        "    sum -= (y**2)\n",
        "  y+=1\n",
        "print(sum)\n"
      ],
      "metadata": {
        "id": "TvSFY3xMUM-E",
        "colab": {
          "base_uri": "https://localhost:8080/"
        },
        "outputId": "592d1bc5-32dc-472d-b04b-6fff7355066c"
      },
      "execution_count": null,
      "outputs": [
        {
          "output_type": "stream",
          "name": "stdout",
          "text": [
            "20\n",
            "-210\n"
          ]
        }
      ]
    },
    {
      "cell_type": "code",
      "source": [
        "n = int(input())\n",
        "sum = 0\n",
        "for i in range(1,n+1,1):\n",
        "  if i % 2 == 0:\n",
        "    sum -= i**2\n",
        "  else:\n",
        "    sum += i**2\n",
        "print(sum)\n"
      ],
      "metadata": {
        "colab": {
          "base_uri": "https://localhost:8080/"
        },
        "id": "wkGxEgG7_AMZ",
        "outputId": "f8589130-c40f-42f1-f9c0-86c74d64d9fc"
      },
      "execution_count": null,
      "outputs": [
        {
          "output_type": "stream",
          "name": "stdout",
          "text": [
            "20\n",
            "-210\n"
          ]
        }
      ]
    },
    {
      "cell_type": "code",
      "source": [
        "n = int(input(\"Enter a number: \"))\n",
        "i = 1\n",
        "sum = 0\n",
        "while i <= n:\n",
        "    if i%2 == 1:\n",
        "      sum += i**2\n",
        "    else:\n",
        "      sum-=i**2\n",
        "    i += 1\n",
        "print(sum)\n",
        "\n"
      ],
      "metadata": {
        "colab": {
          "base_uri": "https://localhost:8080/"
        },
        "id": "lvzOQjsfkmQz",
        "outputId": "44fd9052-57a0-45b2-e795-ace9df450bf1"
      },
      "execution_count": null,
      "outputs": [
        {
          "output_type": "stream",
          "name": "stdout",
          "text": [
            "Enter a number: 20\n",
            "-210\n"
          ]
        }
      ]
    },
    {
      "cell_type": "code",
      "source": [
        "n = int(input(\"Enter the value of n: \"))\n",
        "sum = 0\n",
        "i = 1\n",
        "while i <= n:\n",
        "    if i % 2 == 0:\n",
        "        sum -= i**2\n",
        "    else:\n",
        "        sum += i**2\n",
        "    i += 1\n",
        "print(\"The value of y is:\", sum)\n"
      ],
      "metadata": {
        "id": "xYh_pmmknv5G",
        "colab": {
          "base_uri": "https://localhost:8080/"
        },
        "outputId": "08646018-c552-4b2c-d2da-b129c2385495"
      },
      "execution_count": null,
      "outputs": [
        {
          "output_type": "stream",
          "name": "stdout",
          "text": [
            "Enter the value of n: 10\n",
            "The value of y is: -55\n"
          ]
        }
      ]
    },
    {
      "cell_type": "markdown",
      "source": [
        "**Using For Loop**"
      ],
      "metadata": {
        "id": "tg_nL2KS0fcm"
      }
    },
    {
      "cell_type": "code",
      "source": [
        "n = int(input())\n",
        "y = 0\n",
        "for i in range(1,n+1,1):\n",
        "  if i %2 !=0:\n",
        "    y += i**2\n",
        "  else:\n",
        "    y -=i**2\n",
        "print(y)"
      ],
      "metadata": {
        "colab": {
          "base_uri": "https://localhost:8080/"
        },
        "id": "kZcD6EUMyxXD",
        "outputId": "615e89e6-7415-4b5c-fdb6-c626a231c6ed"
      },
      "execution_count": null,
      "outputs": [
        {
          "output_type": "stream",
          "name": "stdout",
          "text": [
            "10\n",
            "-55\n"
          ]
        }
      ]
    },
    {
      "cell_type": "markdown",
      "source": [
        "**TASK 7**"
      ],
      "metadata": {
        "id": "SG4ZGqWhFARp"
      }
    },
    {
      "cell_type": "code",
      "source": [
        "\n",
        "count = 1\n",
        "sum=0\n",
        "average=0\n",
        "t_odd=0\n",
        "while count <=10:\n",
        "  num = int(input())\n",
        "  if count%2!=0:\n",
        "    sum +=count\n",
        "    t_odd+=1\n",
        "  else:\n",
        "    pass\n",
        "  count+=1\n",
        "print(sum)\n",
        "print(sum/t_odd)\n"
      ],
      "metadata": {
        "colab": {
          "base_uri": "https://localhost:8080/"
        },
        "id": "No1MDNGY2zqc",
        "outputId": "3b868078-5fc4-43a3-f0b7-4e67ee50e88a"
      },
      "execution_count": null,
      "outputs": [
        {
          "output_type": "stream",
          "name": "stdout",
          "text": [
            "1\n",
            "2\n",
            "3\n",
            "4\n",
            "5\n",
            "6\n",
            "7\n",
            "8\n",
            "9\n",
            "10\n",
            "25\n",
            "5.0\n"
          ]
        }
      ]
    },
    {
      "cell_type": "code",
      "source": [
        "sum=0\n",
        "average=0\n",
        "t_odd=0\n",
        "for i in range(10):\n",
        "  number=int(input())\n",
        "  if number%2!=0:\n",
        "    sum +=number\n",
        "    t_odd+=1\n",
        "  else:\n",
        "    pass\n",
        "\n",
        "print(sum)\n",
        "print(sum/t_odd)\n"
      ],
      "metadata": {
        "colab": {
          "base_uri": "https://localhost:8080/"
        },
        "id": "KlZ1uLZwDODB",
        "outputId": "e614b5aa-a21c-42ad-d4a9-c375d88617a4"
      },
      "execution_count": null,
      "outputs": [
        {
          "output_type": "stream",
          "name": "stdout",
          "text": [
            "-20\n",
            "13\n",
            "-5\n",
            "40\n",
            "-17\n",
            "10\n",
            "20\n",
            "-8\n",
            "99\n",
            "-200\n",
            "90\n",
            "22.5\n"
          ]
        }
      ]
    },
    {
      "cell_type": "code",
      "source": [
        "count = 0\n",
        "sum = 0\n",
        "t_odd=0\n",
        "\n",
        "while count < 10:\n",
        "  num = int(input())\n",
        "  if num%2!=0:\n",
        "    sum+=num\n",
        "    t_odd+=1\n",
        "  else:\n",
        "    pass\n",
        "  count+=1\n",
        "\n",
        "print(\"The total of the odd numbers is\",sum,\"and their average is\",sum/t_odd)\n"
      ],
      "metadata": {
        "colab": {
          "base_uri": "https://localhost:8080/"
        },
        "id": "rgxkpjNA572x",
        "outputId": "0fbe85a2-f52a-43e3-cc05-92f360df68a6"
      },
      "execution_count": null,
      "outputs": [
        {
          "output_type": "stream",
          "name": "stdout",
          "text": [
            "1\n",
            "2\n",
            "3\n",
            "4\n",
            "5\n",
            "6\n",
            "7\n",
            "8\n",
            "9\n",
            "10\n",
            "The total of the odd numbers is 25 and their average is 5.0\n"
          ]
        }
      ]
    },
    {
      "cell_type": "code",
      "source": [
        "total = 0\n",
        "count = 0\n",
        "i = 0\n",
        "while i < 10:\n",
        "    num = int(input(\"Enter a number: \"))\n",
        "    if num % 2 == 1:\n",
        "        total += num\n",
        "        count += 1\n",
        "    i += 1\n",
        "\n",
        "if count > 0:\n",
        "    average = total / count\n",
        "    print(f\"The total of the odd numbers is {total} and the average is {average}.\")\n",
        "else:\n",
        "    print(\"No odd numbers were entered.\")\n",
        "\n"
      ],
      "metadata": {
        "colab": {
          "base_uri": "https://localhost:8080/"
        },
        "id": "ke8UpqLB5UJf",
        "outputId": "32112bd5-2e28-44ac-99fa-2394d8a1049d"
      },
      "execution_count": null,
      "outputs": [
        {
          "output_type": "stream",
          "name": "stdout",
          "text": [
            "Enter a number: -20\n",
            "Enter a number: 13\n",
            "Enter a number: -5\n",
            "Enter a number: 40\n",
            "Enter a number: -17\n",
            "Enter a number: 10\n",
            "Enter a number: 20\n",
            "Enter a number: -8\n",
            "Enter a number: 99\n",
            "Enter a number: -200\n",
            "The total of the odd numbers is 90 and the average is 22.5.\n"
          ]
        }
      ]
    },
    {
      "cell_type": "code",
      "source": [
        "i = 0\n",
        "sum = 0\n",
        "#odd = 0\n",
        "#average = 0\n",
        "for i in range(10):\n",
        "   j =int(input(\"enter number:\"))\n",
        "   print(j)\n",
        "   if not j%2==0 :\n",
        "      sum += j\n",
        "      #odd+=1\n",
        "      i = i + 1\n",
        "print(sum)\n",
        "average=sum/i\n",
        "print(average)\n"
      ],
      "metadata": {
        "colab": {
          "base_uri": "https://localhost:8080/"
        },
        "id": "W6g23IYL9Zb6",
        "outputId": "fb7da0b2-06ab-46af-9337-12a63b441114"
      },
      "execution_count": null,
      "outputs": [
        {
          "output_type": "stream",
          "name": "stdout",
          "text": [
            "enter number:1\n",
            "1\n",
            "enter number:2\n",
            "2\n",
            "enter number:3\n",
            "3\n",
            "enter number:4\n",
            "4\n",
            "enter number:5\n",
            "5\n",
            "enter number:6\n",
            "6\n",
            "enter number:7\n",
            "7\n",
            "enter number:8\n",
            "8\n",
            "enter number:9\n",
            "9\n",
            "enter number:10\n",
            "10\n",
            "25\n",
            "2.7777777777777777\n"
          ]
        }
      ]
    },
    {
      "cell_type": "markdown",
      "source": [
        "**Task 8**"
      ],
      "metadata": {
        "id": "VFmZ9-6R8CN3"
      }
    },
    {
      "cell_type": "code",
      "source": [
        "N = int(input())\n",
        "count = 1\n",
        "sum = 0\n",
        "while count<=N:\n",
        "  if count%7==0:\n",
        "    sum+=count\n",
        "  else:\n",
        "    pass\n",
        "  count+=1\n",
        "print(sum)\n"
      ],
      "metadata": {
        "id": "h_Odyf3h-TW4",
        "colab": {
          "base_uri": "https://localhost:8080/"
        },
        "outputId": "f251be68-81a1-4a42-cc18-69000aa41cff"
      },
      "execution_count": null,
      "outputs": [
        {
          "output_type": "stream",
          "name": "stdout",
          "text": [
            "75\n",
            "385\n"
          ]
        }
      ]
    },
    {
      "cell_type": "markdown",
      "source": [
        "**Task 9**"
      ],
      "metadata": {
        "id": "0kKIH8UaALWt"
      }
    },
    {
      "cell_type": "code",
      "source": [
        "count = 1\n",
        "sum = 0\n",
        "\n",
        "while count <= 5:\n",
        "  num = int(input())\n",
        "  sum +=num\n",
        "  if count == 5:\n",
        "    print(\"The sum of the\", count , \"numbers is\",sum)\n",
        "  else:\n",
        "    print(\"The sum of the first\", count , \"numbers is\",sum)\n",
        "  count+=1\n"
      ],
      "metadata": {
        "colab": {
          "base_uri": "https://localhost:8080/"
        },
        "id": "2AXnyojWAOBI",
        "outputId": "c22688f3-1c94-4b4c-c32a-a1856edea336"
      },
      "execution_count": null,
      "outputs": [
        {
          "output_type": "stream",
          "name": "stdout",
          "text": [
            "1\n",
            "The sum of the first 1 numbers is 1\n",
            "2\n",
            "The sum of the first 2 numbers is 3\n",
            "3\n",
            "The sum of the first 3 numbers is 6\n",
            "4\n",
            "The sum of the first 4 numbers is 10\n",
            "5\n",
            "The sum of the 5 numbers is 15\n"
          ]
        }
      ]
    },
    {
      "cell_type": "code",
      "source": [
        "count = 1\n",
        "sum = 0\n",
        "\n",
        "while count <= 5:\n",
        "  num = int(input())\n",
        "  sum +=num\n",
        "\n",
        "  print(\"The sum of the first\", count , \"numbers is\",sum)\n",
        "  count+=1"
      ],
      "metadata": {
        "colab": {
          "base_uri": "https://localhost:8080/"
        },
        "id": "2Myfy2go8XiF",
        "outputId": "3fa6a8a7-5c7d-4f14-80fa-920600ab6622"
      },
      "execution_count": null,
      "outputs": [
        {
          "output_type": "stream",
          "name": "stdout",
          "text": [
            "1\n",
            "The sum of the first 1 numbers is 1\n",
            "2\n",
            "The sum of the first 2 numbers is 3\n",
            "3\n",
            "The sum of the first 3 numbers is 6\n",
            "4\n",
            "The sum of the first 4 numbers is 10\n",
            "5\n",
            "The sum of the first 5 numbers is 15\n"
          ]
        }
      ]
    },
    {
      "cell_type": "markdown",
      "source": [
        "**Task 10**"
      ],
      "metadata": {
        "id": "l7AxtQOy210r"
      }
    },
    {
      "cell_type": "code",
      "source": [
        "### Write dis one ###\n",
        "number = int(input())\n",
        "count = 0\n",
        "while number > 10:\n",
        "    digit = number % 10\n",
        "    number = number // 10\n",
        "    count+=1\n",
        "    print(digit, end=\",\")\n",
        "digit = number % 10\n",
        "print(digit)\n",
        "#print(count)"
      ],
      "metadata": {
        "id": "j4-EAZ6vKmO7",
        "colab": {
          "base_uri": "https://localhost:8080/"
        },
        "outputId": "2e0af4a7-aeb9-4f28-dd6c-36679807fac0"
      },
      "execution_count": null,
      "outputs": [
        {
          "output_type": "stream",
          "name": "stdout",
          "text": [
            "11\n",
            "1,1\n"
          ]
        }
      ]
    },
    {
      "cell_type": "code",
      "source": [
        "\n",
        "number = int(input())\n",
        "while number > 0:\n",
        "    digit = number % 10\n",
        "    number = number // 10\n",
        "    print(digit, end=\",\")\n",
        "digit = number % 10\n",
        "print(digit)"
      ],
      "metadata": {
        "colab": {
          "base_uri": "https://localhost:8080/"
        },
        "id": "0HKHLiuvZZPr",
        "outputId": "4393c861-40e6-490d-a477-765bc1cbaeea"
      },
      "execution_count": null,
      "outputs": [
        {
          "output_type": "stream",
          "name": "stdout",
          "text": [
            "32768\n",
            "8,6,7,2,3,0\n"
          ]
        }
      ]
    },
    {
      "cell_type": "code",
      "source": [
        "num = int(input(\"Input number: \"))\n",
        "print('Output:')\n",
        "while (num > 10):\n",
        "    digit = num % 10\n",
        "    num = num // 10\n",
        "    print(digit, end=',')\n",
        "digit = num % 10\n",
        "print(digit)"
      ],
      "metadata": {
        "colab": {
          "base_uri": "https://localhost:8080/"
        },
        "id": "UE5Ca2m72ACf",
        "outputId": "5d281595-f3a3-461b-c484-6bb4ba1ece68"
      },
      "execution_count": null,
      "outputs": [
        {
          "output_type": "stream",
          "name": "stdout",
          "text": [
            "Input number: 43454534\n",
            "Output:\n",
            "4,3,5,4,5,4,3,4\n"
          ]
        }
      ]
    },
    {
      "cell_type": "code",
      "source": [
        "num = int(input())\n",
        "\n",
        "while (num >0):\n",
        "    digit = num % 10\n",
        "    num = num // 10\n",
        "    print(digit, end=',')\n",
        "digit = num % 10\n",
        "print(digit)"
      ],
      "metadata": {
        "colab": {
          "base_uri": "https://localhost:8080/"
        },
        "id": "mSZYBIRz5p3X",
        "outputId": "96f1f130-f6c1-4ecd-8446-4de1a603ec5e"
      },
      "execution_count": null,
      "outputs": [
        {
          "output_type": "stream",
          "name": "stdout",
          "text": [
            "9\n",
            "9,0\n"
          ]
        }
      ]
    },
    {
      "cell_type": "code",
      "source": [
        "num = int(input(\"Input number: \"))\n",
        "\n",
        "while num > 10:\n",
        "    digit = num % 10\n",
        "    print(digit, end=',')\n",
        "    num = num // 10\n",
        "digit = num % 10\n",
        "print(digit)"
      ],
      "metadata": {
        "colab": {
          "base_uri": "https://localhost:8080/"
        },
        "id": "P1e_opS725bL",
        "outputId": "2c23a1b7-9b8e-4ca8-8dcc-486a8c469a36"
      },
      "execution_count": null,
      "outputs": [
        {
          "output_type": "stream",
          "name": "stdout",
          "text": [
            "Input number: 23489237438567365713845\n",
            "5,4,8,3,1,7,5,6,3,7,6,5,8,3,4,7,3,2,9,8,4,3,2\n"
          ]
        }
      ]
    },
    {
      "cell_type": "code",
      "source": [
        "num = int(input(\"Enter a number: \"))\n",
        "while num > 0:\n",
        "    digit = num % 10\n",
        "    print(digit,end=\",\")\n",
        "    num = num // 10\n"
      ],
      "metadata": {
        "colab": {
          "base_uri": "https://localhost:8080/"
        },
        "id": "R9VWwEmO0GjW",
        "outputId": "2df1018a-af4e-4234-a4e0-7b61bdeae7e6"
      },
      "execution_count": null,
      "outputs": [
        {
          "output_type": "stream",
          "name": "stdout",
          "text": [
            "Enter a number: 32678\n",
            "8,7,6,2,3,"
          ]
        }
      ]
    },
    {
      "cell_type": "markdown",
      "source": [
        "**Task 11**"
      ],
      "metadata": {
        "id": "5F7k5oQbIOdZ"
      }
    },
    {
      "cell_type": "code",
      "source": [
        "n=int(input(\"Enter number:\"))\n",
        "count=0\n",
        "while(n>0):\n",
        "    count=count+1\n",
        "    n=n//10\n",
        "print(\"The number of digits in the number are:\",count)"
      ],
      "metadata": {
        "colab": {
          "base_uri": "https://localhost:8080/"
        },
        "id": "5UcGTjT7BssX",
        "outputId": "9078862e-82fa-4319-a41a-4557b5400bfa"
      },
      "execution_count": null,
      "outputs": [
        {
          "output_type": "stream",
          "name": "stdout",
          "text": [
            "Enter number:123456789\n",
            "The number of digits in the number are: 9\n"
          ]
        }
      ]
    },
    {
      "cell_type": "code",
      "source": [
        "### Write dis one ##\n",
        "num = int(input())\n",
        "count= 0\n",
        "while num >0:\n",
        "  #digit = num % 10\n",
        "  num = num // 10\n",
        "  count+=1\n",
        "print(count,\"digits.\")\n"
      ],
      "metadata": {
        "id": "Bk8NiS48ycps",
        "colab": {
          "base_uri": "https://localhost:8080/"
        },
        "outputId": "3e2a9fed-ce2b-40da-b37e-a82129deb9de"
      },
      "execution_count": null,
      "outputs": [
        {
          "output_type": "stream",
          "name": "stdout",
          "text": [
            "12345\n",
            "5 digits.\n"
          ]
        }
      ]
    },
    {
      "cell_type": "markdown",
      "source": [
        "**Task 12**"
      ],
      "metadata": {
        "id": "vjfhs8PXIRu4"
      }
    },
    {
      "cell_type": "code",
      "source": [
        "num = int(input())\n",
        "while num > 0:\n",
        "    num1 = num\n",
        "    dig = 0\n",
        "    while num1 > 0:\n",
        "        num1 = num1 // 10\n",
        "        dig = dig + 1\n",
        "    x = num // 10 ** (dig - 1)\n",
        "    if dig == 1:\n",
        "        print(x, end=\"\")\n",
        "    else:\n",
        "        print(x, end=\", \")\n",
        "    num = num % 10 ** (dig - 1)\n"
      ],
      "metadata": {
        "colab": {
          "base_uri": "https://localhost:8080/"
        },
        "id": "lBWDfGQnEyFC",
        "outputId": "2db5e119-1ff1-4da8-e3d1-886796329720"
      },
      "execution_count": null,
      "outputs": [
        {
          "output_type": "stream",
          "name": "stdout",
          "text": [
            "32768\n",
            "3, 2, 7, 6, 8"
          ]
        }
      ]
    },
    {
      "cell_type": "code",
      "source": [
        "num = int(input(\"Enter a number: \"))\n",
        "while num > 0:\n",
        "    digit = num % 10\n",
        "    print(digit, end=\", \")\n",
        "    num //= 10"
      ],
      "metadata": {
        "colab": {
          "base_uri": "https://localhost:8080/"
        },
        "id": "-_5V1dvq-t3f",
        "outputId": "ca0298fa-9bb1-493f-f230-b334a8847bac"
      },
      "execution_count": null,
      "outputs": [
        {
          "output_type": "stream",
          "name": "stdout",
          "text": [
            "Enter a number: 32768\n",
            "8, 6, 7, 2, 3, "
          ]
        }
      ]
    },
    {
      "cell_type": "code",
      "source": [
        "num = int(input())\n",
        "dig = 0\n",
        "while num > 0:\n",
        "  num = num // 10\n",
        "  dig = dig + 1\n",
        "  x = num // 10 ** (dig - 1)\n",
        "  if dig == 1:\n",
        "    print(x, end=\"\")\n",
        "  else:\n",
        "    print(x, end=\", \")\n",
        "  #num = num % 10 ** (dig - 1)\n",
        "\n",
        "\n"
      ],
      "metadata": {
        "colab": {
          "base_uri": "https://localhost:8080/"
        },
        "id": "vzZkyq6B2R0g",
        "outputId": "ee93e1f1-09a0-4829-ea64-deccb7ed9367"
      },
      "execution_count": null,
      "outputs": [
        {
          "output_type": "stream",
          "name": "stdout",
          "text": [
            "32768\n",
            "327632, 0, 0, 0, "
          ]
        }
      ]
    },
    {
      "cell_type": "code",
      "source": [
        "#task-12\n",
        "number = int(input(\"Enter The Number: \"))\n",
        "num = 0\n",
        "temp = number\n",
        "while temp > 0:\n",
        "  temp //= 10\n",
        "  num += 1\n",
        "divided = 10** (num-1)\n",
        "temp = number\n",
        "while divided > 0:\n",
        "  digit = temp // divided\n",
        "  print(digit, end=\", \")\n",
        "  temp %= divided\n",
        "  divided //= 10"
      ],
      "metadata": {
        "colab": {
          "base_uri": "https://localhost:8080/"
        },
        "id": "0r5qpCeE3hNR",
        "outputId": "e15b543c-ed16-433c-a5e1-2c9a0c811591"
      },
      "execution_count": null,
      "outputs": [
        {
          "output_type": "stream",
          "name": "stdout",
          "text": [
            "Enter The Number: 32768\n",
            "3, 2, 7, 6, 8, "
          ]
        }
      ]
    },
    {
      "cell_type": "code",
      "source": [
        "num = 32768\n",
        "print(num//(10**(5-1)))"
      ],
      "metadata": {
        "colab": {
          "base_uri": "https://localhost:8080/"
        },
        "id": "HZ7Uy0PS7dwR",
        "outputId": "93e7fd25-bc38-49f2-c31a-fb24035f6e95"
      },
      "execution_count": null,
      "outputs": [
        {
          "output_type": "stream",
          "name": "stdout",
          "text": [
            "3\n"
          ]
        }
      ]
    },
    {
      "cell_type": "markdown",
      "source": [
        "**Task 13**"
      ],
      "metadata": {
        "id": "cMddoNZ16vsF"
      }
    },
    {
      "cell_type": "code",
      "source": [
        "number = int(input())\n",
        "divisors = 1\n",
        "count = 0\n",
        "\n",
        "while divisors <= number:\n",
        "  if number % divisors ==0:\n",
        "    print(divisors)\n",
        "    count+=1\n",
        "  divisors+=1\n",
        "print(\"Total\",count,\"divisors.\")\n"
      ],
      "metadata": {
        "colab": {
          "base_uri": "https://localhost:8080/"
        },
        "id": "o4VSTjyf6zvP",
        "outputId": "a33c3b2e-15c3-4aff-dc6f-99860e0496b3"
      },
      "execution_count": null,
      "outputs": [
        {
          "output_type": "stream",
          "name": "stdout",
          "text": [
            "6\n",
            "1\n",
            "2\n",
            "3\n",
            "6\n",
            "Total 4 divisors.\n"
          ]
        }
      ]
    },
    {
      "cell_type": "markdown",
      "source": [
        "**Task 14**"
      ],
      "metadata": {
        "id": "IjBgiKYvQxCi"
      }
    },
    {
      "cell_type": "code",
      "source": [
        "number = int(input())\n",
        "divisors = 1\n",
        "sum = 0\n",
        "formula = number%divisors\n",
        "while divisors <=number:\n",
        "  if formula==0:\n",
        "    divisors+=1\n",
        "print(divisors)\n",
        "  #sum+=divisors\n",
        "  #if sum==number:\n",
        "    #print(number,\"is a perfect number\")\n"
      ],
      "metadata": {
        "colab": {
          "base_uri": "https://localhost:8080/"
        },
        "id": "ZexqDzsdQ0Xk",
        "outputId": "7ccc175e-826c-48c9-acdc-e8ce9dcb10e2"
      },
      "execution_count": null,
      "outputs": [
        {
          "output_type": "stream",
          "name": "stdout",
          "text": [
            "6\n",
            "7\n"
          ]
        }
      ]
    },
    {
      "cell_type": "code",
      "source": [
        "number = int(input())\n",
        "divisors = 1\n",
        "\n",
        "sum = 0\n",
        "while divisors < number:\n",
        "  if number % divisors ==0:\n",
        "    sum +=divisors\n",
        "  divisors+=1\n",
        "if sum == number:\n",
        "  print(number,\"is a perfect number.\")\n",
        "else:\n",
        "  print(number,\"is not a perfect number.\")\n",
        "\n"
      ],
      "metadata": {
        "colab": {
          "base_uri": "https://localhost:8080/"
        },
        "id": "uTPD_ERDWEse",
        "outputId": "86326adc-7683-4457-f9e7-3ba555489f25"
      },
      "execution_count": null,
      "outputs": [
        {
          "output_type": "stream",
          "name": "stdout",
          "text": [
            "7\n",
            "7 is not a perfect number.\n"
          ]
        }
      ]
    },
    {
      "cell_type": "markdown",
      "source": [
        "**TASK 15**"
      ],
      "metadata": {
        "id": "h1yHxRlEHz6l"
      }
    },
    {
      "cell_type": "code",
      "source": [
        "num = int(input())\n",
        "divisors = 2\n",
        "while divisors*divisors <= num:\n",
        "    if num % divisors == 0:\n",
        "        print(num, \"is not a prime number\")\n",
        "        break\n",
        "    divisors += 1\n",
        "else:\n",
        "  print(num, \"is a prime number\")"
      ],
      "metadata": {
        "colab": {
          "base_uri": "https://localhost:8080/"
        },
        "id": "1B_QlzMnnscY",
        "outputId": "31edc367-965e-417e-819f-9f8a6fee3a6f"
      },
      "execution_count": null,
      "outputs": [
        {
          "output_type": "stream",
          "name": "stdout",
          "text": [
            "2\n",
            "2 is a prime number\n"
          ]
        }
      ]
    },
    {
      "cell_type": "code",
      "source": [
        "num = int(input())\n",
        "\n",
        "if num == 1:\n",
        "    print(\"1 is not a prime number\")\n",
        "else:\n",
        "    divisors = 2\n",
        "    while divisors*divisors <= num:\n",
        "        if num % divisors == 0:\n",
        "            print(num, \"is not a prime number\")\n",
        "            break\n",
        "        divisors += 1\n",
        "    else:\n",
        "        print(num, \"is a prime number\")"
      ],
      "metadata": {
        "colab": {
          "base_uri": "https://localhost:8080/"
        },
        "id": "XJSo1ZeBHEbE",
        "outputId": "33928c5e-562d-4cd6-906a-794a8db9dd51"
      },
      "execution_count": null,
      "outputs": [
        {
          "output_type": "stream",
          "name": "stdout",
          "text": [
            "4\n",
            "4 is not a prime number\n"
          ]
        }
      ]
    },
    {
      "cell_type": "markdown",
      "source": [
        "**TASK 16**"
      ],
      "metadata": {
        "id": "tlfEuEgOx60M"
      }
    },
    {
      "cell_type": "code",
      "source": [
        "quantity = int(input(\"Enter the quantity of numbers: \"))\n",
        "\n",
        "total = 0\n",
        "count = 0\n",
        "maximum = None\n",
        "minimum = None\n",
        "\n",
        "while count < quantity:\n",
        "    number = int(input(\"Enter a number: \"))\n",
        "    total += number\n",
        "    count += 1\n",
        "\n",
        "    if maximum is None or number > maximum:\n",
        "        maximum = number\n",
        "\n",
        "    if minimum is None or number < minimum:\n",
        "        minimum = number\n",
        "\n",
        "average = total / quantity\n",
        "print(total,quantity)\n",
        "print(\"Maximum:\", maximum)\n",
        "print(\"Minimum:\", minimum)\n",
        "print(\"Average:\", average)\n"
      ],
      "metadata": {
        "id": "l68_RTsGKSq_"
      },
      "execution_count": null,
      "outputs": []
    },
    {
      "cell_type": "code",
      "source": [
        "quantity = int(input(\"Enter the quantity of numbers: \"))\n",
        "\n",
        "total = 0\n",
        "count = 0\n",
        "maximum = None\n",
        "minimum = None\n",
        "\n",
        "while count < quantity:\n",
        "    number = int(input(\"Enter a number: \"))\n",
        "    total += number\n",
        "    count += 1\n",
        "\n",
        "    if maximum is None or number > maximum:\n",
        "        maximum = number\n",
        "\n",
        "    if minimum is None or number < minimum:\n",
        "        minimum = number\n",
        "\n",
        "average = total / quantity\n",
        "print(total,quantity)\n",
        "print(\"Maximum:\", maximum)\n",
        "print(\"Minimum:\", minimum)\n",
        "print(\"Average:\", round(average, 1))\n"
      ],
      "metadata": {
        "colab": {
          "base_uri": "https://localhost:8080/"
        },
        "id": "w1QB1DtCLAU7",
        "outputId": "82896c5a-0ac9-48d4-86a4-e3f146600d2a"
      },
      "execution_count": null,
      "outputs": [
        {
          "output_type": "stream",
          "name": "stdout",
          "text": [
            "Enter the quantity of numbers: 5\n",
            "Enter a number: -1\n",
            "Enter a number: -2\n",
            "Enter a number: -3\n",
            "Enter a number: -4\n",
            "Enter a number: -5\n",
            "-15 5\n",
            "Maximum: -1\n",
            "Minimum: -5\n",
            "Average: -3.0\n"
          ]
        }
      ]
    },
    {
      "cell_type": "markdown",
      "source": [],
      "metadata": {
        "id": "fbZ0pQbgxtGO"
      }
    },
    {
      "cell_type": "code",
      "source": [
        "quantity = int(input(\"Enter the quantity of numbers: \"))\n",
        "\n",
        "total = 0\n",
        "count = 0\n",
        "maximum = 0\n",
        "minimum = -1\n",
        "\n",
        "while count < quantity:\n",
        "    number = int(input(\"Enter a number: \"))\n",
        "    total += number\n",
        "    count += 1\n",
        "\n",
        "    if number > maximum:\n",
        "        maximum = number\n",
        "\n",
        "    if minimum == -1 or number < minimum:\n",
        "        minimum = number\n",
        "\n",
        "average = total / quantity\n",
        "\n",
        "print(\"Maximum:\", maximum)\n",
        "print(\"Minimum:\", minimum)\n",
        "print(\"Average:\", round(average, 1))\n"
      ],
      "metadata": {
        "colab": {
          "base_uri": "https://localhost:8080/"
        },
        "id": "LVyLyOKzLkk4",
        "outputId": "4c1193fa-7720-46ee-a75b-9cff6df1dc5f"
      },
      "execution_count": null,
      "outputs": [
        {
          "output_type": "stream",
          "name": "stdout",
          "text": [
            "Enter the quantity of numbers: 5\n",
            "Enter a number: 10\n",
            "Enter a number: 4\n",
            "Enter a number: -1\n",
            "Enter a number: -100\n",
            "Enter a number: 1\n",
            "Maximum: 10\n",
            "Minimum: -100\n",
            "Average: -17.2\n"
          ]
        }
      ]
    },
    {
      "cell_type": "code",
      "source": [
        "quantity = int(input())\n",
        "total = 0\n",
        "count = 0\n",
        "max = 0\n",
        "min = -1\n",
        "\n",
        "while count < quantity:\n",
        "    number = int(input())\n",
        "    total += number\n",
        "    count += 1\n",
        "    if number > max:\n",
        "        max = number\n",
        "    if count == 1 or number < min:\n",
        "        min = number\n",
        "average = total //quantity\n",
        "print(total,quantity)\n",
        "print(\"Maximum\", max)\n",
        "print(\"Minimum\", min)\n",
        "print(\"Average is\", average)\n",
        "\n"
      ],
      "metadata": {
        "colab": {
          "base_uri": "https://localhost:8080/"
        },
        "id": "O9306OU8MMxM",
        "outputId": "5a6de692-64d1-4ca9-d6e7-62c32f8d028d"
      },
      "execution_count": null,
      "outputs": [
        {
          "output_type": "stream",
          "name": "stdout",
          "text": [
            "5\n",
            "-1\n",
            "-2\n",
            "-3\n",
            "-4\n",
            "-5\n",
            "-15 5\n",
            "Maximum 0\n",
            "Minimum -5\n",
            "Average is -3\n"
          ]
        }
      ]
    },
    {
      "cell_type": "code",
      "source": [
        "n = int(input())\n",
        "\n",
        "for i in range(n):\n",
        "    for j in range(n-3):\n",
        "        print(\"+\", end=\"\")\n",
        "    print()"
      ],
      "metadata": {
        "id": "uHZ7BhGHueu2",
        "colab": {
          "base_uri": "https://localhost:8080/"
        },
        "outputId": "04b0b172-55d9-4915-d11a-94ba7043f0e6"
      },
      "execution_count": null,
      "outputs": [
        {
          "output_type": "stream",
          "name": "stdout",
          "text": [
            "3\n",
            "\n",
            "\n",
            "\n"
          ]
        }
      ]
    },
    {
      "cell_type": "code",
      "source": [
        "N = int(input())\n",
        "\n",
        "i = 0\n",
        "while i < N:\n",
        "    j = 0\n",
        "    while j < N:\n",
        "        if i == 0 or i == N - 1 or j == 0 or j == N - 1:\n",
        "            print(\"+\", end=\"\")\n",
        "        else:\n",
        "            print(\" \", end=\"\")\n",
        "        j += 1\n",
        "    print()\n",
        "    i += 1\n"
      ],
      "metadata": {
        "id": "XMnRJjD0P69U",
        "outputId": "57fdf9de-d325-4c18-e672-76b936c82304",
        "colab": {
          "base_uri": "https://localhost:8080/"
        }
      },
      "execution_count": null,
      "outputs": [
        {
          "output_type": "stream",
          "name": "stdout",
          "text": [
            "5\n",
            "+++++\n",
            "+   +\n",
            "+   +\n",
            "+   +\n",
            "+++++\n"
          ]
        }
      ]
    },
    {
      "cell_type": "code",
      "source": [
        "n = int(input())\n",
        "\n",
        "i = 0\n",
        "while i < n:\n",
        "    j = 0\n",
        "    while j < n:\n",
        "       print(\"+\", end=\"\")\n",
        "       j += 1\n",
        "    print()\n",
        "    i+=1\n"
      ],
      "metadata": {
        "colab": {
          "base_uri": "https://localhost:8080/"
        },
        "id": "dAsXML-tQY1o",
        "outputId": "d454382c-691e-40e6-e103-c34bb351b824"
      },
      "execution_count": null,
      "outputs": [
        {
          "output_type": "stream",
          "name": "stdout",
          "text": [
            "3\n",
            "+++\n",
            "+++\n",
            "+++\n"
          ]
        }
      ]
    },
    {
      "cell_type": "code",
      "source": [
        "n = int(input())\n",
        "\n",
        "i = 0\n",
        "while i < n:\n",
        "    j = 0\n",
        "    while j < n:\n",
        "       print(\"+\", end=\"\")\n",
        "       j += 1\n",
        "    print()\n",
        "    i+=1"
      ],
      "metadata": {
        "colab": {
          "base_uri": "https://localhost:8080/"
        },
        "id": "KH6BFciz7Ndn",
        "outputId": "8693a0a8-b6df-4c2d-9d41-10156fe0ddb3"
      },
      "execution_count": null,
      "outputs": [
        {
          "output_type": "stream",
          "name": "stdout",
          "text": [
            "5\n",
            "+++++\n",
            "+++++\n",
            "+++++\n",
            "+++++\n",
            "+++++\n"
          ]
        }
      ]
    },
    {
      "cell_type": "code",
      "source": [
        "N = int(input())\n",
        "for i in range(N):\n",
        "    print(' '*(N-i- 1) + \"+\"*(2*i+1))"
      ],
      "metadata": {
        "id": "Vmxg4kbNBJfq",
        "colab": {
          "base_uri": "https://localhost:8080/"
        },
        "outputId": "b7737397-3963-4277-fd56-c3d87c66ef2f"
      },
      "execution_count": null,
      "outputs": [
        {
          "output_type": "stream",
          "name": "stdout",
          "text": [
            "5\n",
            "    +\n",
            "   +++\n",
            "  +++++\n",
            " +++++++\n",
            "+++++++++\n"
          ]
        }
      ]
    },
    {
      "cell_type": "code",
      "source": [
        "N = int(input())\n",
        "\n",
        "for i in range(N):\n",
        "    for j in range(N-i-1):\n",
        "        print(' ', end='')\n",
        "    for j in range(2*i+1):\n",
        "        if j == 0 or j == 2*i or i == N-1:\n",
        "            print('+', end='')\n",
        "        else:\n",
        "            print(' ', end='')\n",
        "    print()\n"
      ],
      "metadata": {
        "id": "hEZei6Hz-ghu",
        "colab": {
          "base_uri": "https://localhost:8080/"
        },
        "outputId": "1fae5203-b506-47de-8337-bedf73eb710f"
      },
      "execution_count": null,
      "outputs": [
        {
          "output_type": "stream",
          "name": "stdout",
          "text": [
            "5\n",
            "    +\n",
            "   + +\n",
            "  +   +\n",
            " +     +\n",
            "+++++++++\n"
          ]
        }
      ]
    },
    {
      "cell_type": "code",
      "source": [
        "n = 4\n",
        "for i in range(n):\n",
        "    for j in range(n-i-1):\n",
        "        print(' ', end='')\n",
        "    for j in range(2*i+1):\n",
        "        if j == 0 or j == 2*i:\n",
        "            print('+', end='')\n",
        "        else:\n",
        "            print(' ', end='')\n",
        "    print()\n",
        "for i in range(n-1):\n",
        "    for j in range(i+1):\n",
        "        print(' ', end='')\n",
        "    for j in range(2*(n-i-1)-1):\n",
        "      if j == 0 or j == 2*(n-i-1)-2:\n",
        "        print('+', end='')\n",
        "      else:\n",
        "        print(' ', end='')\n",
        "    print()\n",
        "\n"
      ],
      "metadata": {
        "colab": {
          "base_uri": "https://localhost:8080/"
        },
        "id": "m8Wcve87CVIj",
        "outputId": "79c97420-6152-4f65-cfba-3e1e0b1c6c51"
      },
      "execution_count": null,
      "outputs": [
        {
          "output_type": "stream",
          "name": "stdout",
          "text": [
            "   +\n",
            "  + +\n",
            " +   +\n",
            "+     +\n",
            " +   +\n",
            "  + +\n",
            "   +\n"
          ]
        }
      ]
    },
    {
      "cell_type": "code",
      "source": [
        "for row in range(0,7):\n",
        "  for col in range(0,7):\n",
        "    if(row+col==3)or(col-row==3)or(row+col==9)or(row-col==3):\n",
        "      print(\"*\",end=\"\")\n",
        "    else:\n",
        "      print(\" \",end=\"\")\n",
        "  print()"
      ],
      "metadata": {
        "colab": {
          "base_uri": "https://localhost:8080/"
        },
        "id": "Bpruz3hs1R_8",
        "outputId": "4669f17b-02f9-4f13-e745-4f467fa8ff3f"
      },
      "execution_count": null,
      "outputs": [
        {
          "output_type": "stream",
          "name": "stdout",
          "text": [
            "   *   \n",
            "  * *  \n",
            " *   * \n",
            "*     *\n",
            " *   * \n",
            "  * *  \n",
            "   *   \n"
          ]
        }
      ]
    },
    {
      "cell_type": "code",
      "source": [
        "n = 4\n",
        "\n",
        "for i in range(n,-1,-1):\n",
        "    for j in range(n-i):\n",
        "        print(' ', end='')\n",
        "    for j in range(2*i+1):\n",
        "      print('+', end='')\n",
        "    else:\n",
        "      print(' ', end='')\n",
        "    print()"
      ],
      "metadata": {
        "colab": {
          "base_uri": "https://localhost:8080/"
        },
        "id": "V6wFXe-5JISE",
        "outputId": "841a0f04-2d53-42bf-f6d3-1410f842ad13"
      },
      "execution_count": null,
      "outputs": [
        {
          "output_type": "stream",
          "name": "stdout",
          "text": [
            "+++++++++ \n",
            " +++++++ \n",
            "  +++++ \n",
            "   +++ \n",
            "    + \n"
          ]
        }
      ]
    },
    {
      "cell_type": "code",
      "source": [
        "for i in range(n,-1,-1):\n",
        "    for j in range(n-i):\n",
        "        print(' ', end='')\n",
        "    for j in range(2*i+1):\n",
        "      print('+', end='')\n",
        "    else:\n",
        "      print(' ', end='')\n",
        "    print()\n",
        "for i in range(n,-1,-1):\n",
        "    for j in range(n-i):\n",
        "        print(' ', end='')\n",
        "    for j in range(2*i+1):\n",
        "      print('+', end='')\n",
        "    else:\n",
        "      print(' ', end='')\n",
        "    print()"
      ],
      "metadata": {
        "id": "U_96DexNKTZ1",
        "colab": {
          "base_uri": "https://localhost:8080/"
        },
        "outputId": "2f57eaea-b07d-49b9-ef43-a7719654bf58"
      },
      "execution_count": null,
      "outputs": [
        {
          "output_type": "stream",
          "name": "stdout",
          "text": [
            "+++++++ \n",
            " +++++ \n",
            "  +++ \n",
            "   + \n",
            "+++++++ \n",
            " +++++ \n",
            "  +++ \n",
            "   + \n"
          ]
        }
      ]
    },
    {
      "cell_type": "code",
      "source": [
        "M = int(input())\n",
        "N = int(input())\n",
        "\n",
        "i = 0\n",
        "while i < M:\n",
        "    j = 1\n",
        "    while j <= N:\n",
        "        print(j, end=\"\")\n",
        "        j += 1\n",
        "    print()\n",
        "    i += 1"
      ],
      "metadata": {
        "colab": {
          "base_uri": "https://localhost:8080/"
        },
        "id": "4fUFEPZTRpz3",
        "outputId": "139dc696-a158-4b68-c0e7-7a30ea8a7536"
      },
      "execution_count": null,
      "outputs": [
        {
          "output_type": "stream",
          "name": "stdout",
          "text": [
            "4\n",
            "5\n",
            "12345\n",
            "12345\n",
            "12345\n",
            "12345\n"
          ]
        }
      ]
    },
    {
      "cell_type": "code",
      "source": [
        "M = int(input())\n",
        "N = int(input())\n",
        "\n",
        "for row in range(M):\n",
        "  for column in range(1, N+1):\n",
        "      print(column, end=\"\")\n",
        "  print()\n"
      ],
      "metadata": {
        "colab": {
          "base_uri": "https://localhost:8080/"
        },
        "id": "GMSJN95f0eHx",
        "outputId": "de39293f-ef66-49a7-f51b-aecaaef4c21b"
      },
      "execution_count": null,
      "outputs": [
        {
          "output_type": "stream",
          "name": "stdout",
          "text": [
            "5\n",
            "6\n",
            "123456\n",
            "123456\n",
            "123456\n",
            "123456\n",
            "123456\n"
          ]
        }
      ]
    },
    {
      "cell_type": "code",
      "source": [
        "N = int(input())\n",
        "\n",
        "i = 1\n",
        "while i <= N:\n",
        "    j = 1\n",
        "    while j <= i:\n",
        "        print(j, end=\"\")\n",
        "        j += 1\n",
        "    print()\n",
        "    i += 1\n"
      ],
      "metadata": {
        "colab": {
          "base_uri": "https://localhost:8080/"
        },
        "id": "w2CcFQQZSnIr",
        "outputId": "c44a6384-7b27-4b81-86be-4b87edc12cb3"
      },
      "execution_count": null,
      "outputs": [
        {
          "output_type": "stream",
          "name": "stdout",
          "text": [
            "6\n",
            "1\n",
            "12\n",
            "123\n",
            "1234\n",
            "12345\n",
            "123456\n"
          ]
        }
      ]
    },
    {
      "cell_type": "code",
      "source": [
        "N = int(input())\n",
        "\n",
        "for i in range(1, N+1):\n",
        "    for j in range(1, i+1):\n",
        "        print(j, end=\"\")\n",
        "    print()\n"
      ],
      "metadata": {
        "colab": {
          "base_uri": "https://localhost:8080/"
        },
        "id": "WVzQTusu1Ah-",
        "outputId": "e382d52f-7922-49d5-b135-79ae5bb1c08d"
      },
      "execution_count": null,
      "outputs": [
        {
          "output_type": "stream",
          "name": "stdout",
          "text": [
            "5\n",
            "1\n",
            "12\n",
            "123\n",
            "1234\n",
            "12345\n"
          ]
        }
      ]
    },
    {
      "cell_type": "markdown",
      "source": [
        "***ASSIGNMENT 04***"
      ],
      "metadata": {
        "id": "QzlhLS0YWdd5"
      }
    },
    {
      "cell_type": "code",
      "source": [
        "value = input()\n",
        "for e in  range(len(value)-1,-1,-1):\n",
        "  print(value[e], end ='')"
      ],
      "metadata": {
        "colab": {
          "base_uri": "https://localhost:8080/"
        },
        "id": "UKs3dA-9Voo1",
        "outputId": "accfe38e-bd4c-4e91-eb13-36020bd67a8b"
      },
      "execution_count": null,
      "outputs": [
        {
          "output_type": "stream",
          "name": "stdout",
          "text": [
            "abcdefghij110\n",
            "011jihgfedcba"
          ]
        }
      ]
    },
    {
      "cell_type": "markdown",
      "source": [
        "**ASSIGNMENT 3 UNGRADED**"
      ],
      "metadata": {
        "id": "gT3DhaypyI5c"
      }
    },
    {
      "cell_type": "code",
      "source": [
        "n = int(input())\n",
        "f_n1 = 0\n",
        "f_n2 = 1\n",
        "while f_n1<=n:\n",
        "    print(f_n1, end=' ')\n",
        "    f_n1 = f_n2\n",
        "    f_n2 = f_n1 + f_n2\n",
        "\n",
        "\n",
        "\n",
        "\n",
        "\n",
        "\n"
      ],
      "metadata": {
        "colab": {
          "base_uri": "https://localhost:8080/"
        },
        "id": "q10txCZGyMfM",
        "outputId": "6af92f19-66bd-47e4-ba2e-13ea90183b7a"
      },
      "execution_count": null,
      "outputs": [
        {
          "output_type": "stream",
          "name": "stdout",
          "text": [
            "10\n",
            "0 1 2 4 8 "
          ]
        }
      ]
    },
    {
      "cell_type": "code",
      "source": [
        "N = int(input())\n",
        "a = 0\n",
        "b = 1\n",
        "while a <= N:\n",
        "    print(a, end=' ')\n",
        "    temp = a\n",
        "    a = b\n",
        "    b = temp + b\n",
        "print()"
      ],
      "metadata": {
        "colab": {
          "base_uri": "https://localhost:8080/"
        },
        "id": "BeyC-H3J1PWY",
        "outputId": "bbd8ff21-9887-49cc-adf8-abf10704eb13"
      },
      "execution_count": null,
      "outputs": [
        {
          "output_type": "stream",
          "name": "stdout",
          "text": [
            "15\n",
            "0 1 1 2 3 5 8 13 \n"
          ]
        }
      ]
    },
    {
      "cell_type": "code",
      "source": [
        "num = int(input())\n",
        "count = 0\n",
        "binary = \"\"\n",
        "while num > 0:\n",
        "  binary = str(num % 2) + binary\n",
        "  num = num // 2\n",
        "if binary == \"\":\n",
        "    binary = \"0\"\n",
        "print(\"The binary representation is:\", binary)\n",
        "\n"
      ],
      "metadata": {
        "colab": {
          "base_uri": "https://localhost:8080/"
        },
        "id": "RezHk8rL5wOk",
        "outputId": "2ece117c-cf87-499c-80c3-b193c0e3968e"
      },
      "execution_count": null,
      "outputs": [
        {
          "output_type": "stream",
          "name": "stdout",
          "text": [
            "13\n",
            "The binary representation is: 1101\n"
          ]
        }
      ]
    },
    {
      "cell_type": "code",
      "source": [
        "binary = input()\n",
        "\n",
        "decimal = 0\n",
        "for i in range(len(binary)):\n",
        "  decimal += int(binary[-i - 1]) * (2 ** i)\n",
        "\n",
        "print(\"The decimal representation is:\", decimal)\n"
      ],
      "metadata": {
        "colab": {
          "base_uri": "https://localhost:8080/"
        },
        "id": "RoYyGFAf5vgE",
        "outputId": "e03d6c2d-f294-4a8e-a908-b3f394a9232a"
      },
      "execution_count": null,
      "outputs": [
        {
          "output_type": "stream",
          "name": "stdout",
          "text": [
            "11101\n",
            "The decimal representation is: 29\n"
          ]
        }
      ]
    },
    {
      "cell_type": "code",
      "source": [
        "start = int(input())\n",
        "end = int(input())\n",
        "divisor = int(input())\n",
        "\n",
        "for i in range(start, end + 1):\n",
        "    product = 1\n",
        "    temp = i\n",
        "    while temp > 0:\n",
        "        product *= temp % 10\n",
        "        temp //= 10\n",
        "    if product % divisor == 0:\n",
        "        print(i)\n"
      ],
      "metadata": {
        "id": "9voaffoc5vcj"
      },
      "execution_count": null,
      "outputs": []
    },
    {
      "cell_type": "code",
      "source": [
        "List_1= [5, 4, 3]\n",
        "List_2= [1, 2]\n",
        "print(List_1+ List_2)"
      ],
      "metadata": {
        "id": "XbDRfnh73Rvk",
        "colab": {
          "base_uri": "https://localhost:8080/"
        },
        "outputId": "f2c03527-39ad-471a-b602-0752b05e1099"
      },
      "execution_count": null,
      "outputs": [
        {
          "output_type": "stream",
          "name": "stdout",
          "text": [
            "[5, 4, 3, 1, 2]\n"
          ]
        }
      ]
    },
    {
      "cell_type": "code",
      "source": [
        "s1 = \"I lovE CSE\"\n",
        "list1= s1.split(\" \")\n",
        "print(list1)"
      ],
      "metadata": {
        "colab": {
          "base_uri": "https://localhost:8080/"
        },
        "id": "r6OCyt1ZkikN",
        "outputId": "66a7b74a-cbd4-45cd-f3fa-770dc1ebae86"
      },
      "execution_count": null,
      "outputs": [
        {
          "output_type": "stream",
          "name": "stdout",
          "text": [
            "['I', 'lovE', 'CSE']\n"
          ]
        }
      ]
    },
    {
      "cell_type": "code",
      "source": [
        "s1 = \"10,9,8,7\"\n",
        "list1= s1.split()\n",
        "#list2= s1.split(\"E\")\n",
        "#list3= s1.split(\"vE\")\n",
        "print(list1)\n",
        "#print(list2)\n",
        "#print(list3)"
      ],
      "metadata": {
        "colab": {
          "base_uri": "https://localhost:8080/"
        },
        "id": "v20oyzSflBmD",
        "outputId": "0a57fd21-75fd-4dfe-f284-204459ae06f1"
      },
      "execution_count": null,
      "outputs": [
        {
          "output_type": "stream",
          "name": "stdout",
          "text": [
            "['10,9,8,7']\n"
          ]
        }
      ]
    },
    {
      "cell_type": "code",
      "source": [
        "s1 = \"10,9,8,7\"\n",
        "for i in s1:\n",
        "  list1=s1.split(\",\")\n",
        "print(list1)"
      ],
      "metadata": {
        "colab": {
          "base_uri": "https://localhost:8080/"
        },
        "id": "iWQVaVT3oqHT",
        "outputId": "7108f15f-1d9d-4c55-ff46-f193cde470ee"
      },
      "execution_count": null,
      "outputs": [
        {
          "output_type": "stream",
          "name": "stdout",
          "text": [
            "['10', '9', '8', '7']\n"
          ]
        }
      ]
    },
    {
      "cell_type": "code",
      "source": [
        "L1 = [1, -1, 2, -2]\n",
        "L2 = L1\n",
        "L3 = L1\n",
        "L4 = L1+ [4]\n",
        "L2[0] += 2\n",
        "L3[-1] -= 2\n",
        "L4[1] = 0\n",
        "L5= L1[ : : -1]\n",
        "print (\"L1:\", L1)\n",
        "print (\"L2:\", L2)\n",
        "print (\"L3:\", L3)\n",
        "print (\"L4:\", L4)\n",
        "print (\"L5:\", L5)"
      ],
      "metadata": {
        "colab": {
          "base_uri": "https://localhost:8080/"
        },
        "id": "oAofGY-Fl3zf",
        "outputId": "3e58c70a-a37a-4c53-f222-e93779100d09"
      },
      "execution_count": null,
      "outputs": [
        {
          "output_type": "stream",
          "name": "stdout",
          "text": [
            "L1: [3, -1, 2, -4]\n",
            "L2: [3, -1, 2, -4]\n",
            "L3: [3, -1, 2, -4]\n",
            "L4: [1, 0, 2, -2, 4]\n",
            "L5: [-4, 2, -1, 3]\n"
          ]
        }
      ]
    },
    {
      "cell_type": "code",
      "source": [
        "List1 = [1, 2, 3]\n",
        "List2 = List1\n",
        "List2[0] += 5\n",
        "\n",
        "List3 = List1 + [4]\n",
        "\n",
        "print (List1)\n",
        "print (List2)\n",
        "print (List3)"
      ],
      "metadata": {
        "colab": {
          "base_uri": "https://localhost:8080/",
          "height": 245
        },
        "id": "QeeqkshLmS_R",
        "outputId": "184b54fa-c41c-479d-aa71-6a4ef0d01dbe"
      },
      "execution_count": null,
      "outputs": [
        {
          "output_type": "error",
          "ename": "TypeError",
          "evalue": "ignored",
          "traceback": [
            "\u001b[0;31m---------------------------------------------------------------------------\u001b[0m",
            "\u001b[0;31mTypeError\u001b[0m                                 Traceback (most recent call last)",
            "\u001b[0;32m<ipython-input-12-a78eb28b63a6>\u001b[0m in \u001b[0;36m<cell line: 3>\u001b[0;34m()\u001b[0m\n\u001b[1;32m      1\u001b[0m \u001b[0mList1\u001b[0m \u001b[0;34m=\u001b[0m \u001b[0;34m[\u001b[0m\u001b[0;36m1\u001b[0m\u001b[0;34m,\u001b[0m \u001b[0;36m2\u001b[0m\u001b[0;34m,\u001b[0m \u001b[0;36m3\u001b[0m\u001b[0;34m]\u001b[0m\u001b[0;34m\u001b[0m\u001b[0;34m\u001b[0m\u001b[0m\n\u001b[1;32m      2\u001b[0m \u001b[0mList2\u001b[0m \u001b[0;34m=\u001b[0m \u001b[0mList1\u001b[0m\u001b[0;34m\u001b[0m\u001b[0;34m\u001b[0m\u001b[0m\n\u001b[0;32m----> 3\u001b[0;31m \u001b[0mList2\u001b[0m\u001b[0;34m[\u001b[0m\u001b[0;36m0\u001b[0m\u001b[0;34m:\u001b[0m\u001b[0;36m2\u001b[0m\u001b[0;34m]\u001b[0m \u001b[0;34m+=\u001b[0m \u001b[0;36m5\u001b[0m\u001b[0;34m\u001b[0m\u001b[0;34m\u001b[0m\u001b[0m\n\u001b[0m\u001b[1;32m      4\u001b[0m \u001b[0;34m\u001b[0m\u001b[0m\n\u001b[1;32m      5\u001b[0m \u001b[0mList3\u001b[0m \u001b[0;34m=\u001b[0m \u001b[0mList1\u001b[0m \u001b[0;34m+\u001b[0m \u001b[0;34m[\u001b[0m\u001b[0;36m4\u001b[0m\u001b[0;34m]\u001b[0m\u001b[0;34m\u001b[0m\u001b[0;34m\u001b[0m\u001b[0m\n",
            "\u001b[0;31mTypeError\u001b[0m: 'int' object is not iterable"
          ]
        }
      ]
    },
    {
      "cell_type": "code",
      "source": [
        "input_string = input(\"Enter a list of numbers separated by commas: \")\n",
        "\n",
        "numbers = [int(x) for x in input_string.split(\",\")]\n",
        "\n",
        "print(\"List of numbers:\", numbers)\n",
        "\n",
        "average = sum(numbers) / len(numbers)\n",
        "\n",
        "new_list = [x for x in numbers if x > average]\n",
        "\n",
        "print(\"New list with numbers greater than the average:\", new_list)\n"
      ],
      "metadata": {
        "colab": {
          "base_uri": "https://localhost:8080/"
        },
        "id": "jPw-mo5qnoCZ",
        "outputId": "7f19793d-9bdb-4890-8ece-f5873678a4fa"
      },
      "execution_count": null,
      "outputs": [
        {
          "output_type": "stream",
          "name": "stdout",
          "text": [
            "Enter a list of numbers separated by commas: 10, 12, 2, 17, 14\n",
            "List of numbers: [10, 12, 2, 17, 14]\n",
            "New list with numbers greater than the average: [12, 17, 14]\n"
          ]
        }
      ]
    },
    {
      "cell_type": "code",
      "source": [
        "# Copy the following two lists directly into your code\n",
        "List1, List2 = [1, 2, 3, 4], [3, 4, 5]\n",
        "\n",
        "# Create a new list with the union of the given lists\n",
        "union = list(set(List1) | set(List2))\n",
        "\n",
        "# Create a new list with the intersection of the given lists\n",
        "intersection = list(set(List1) & set(List2))\n",
        "\n",
        "# Print the union and intersection lists\n",
        "print(\"Union:\", union)\n",
        "print(\"Intersection:\", intersection)\n"
      ],
      "metadata": {
        "colab": {
          "base_uri": "https://localhost:8080/"
        },
        "id": "00cMoYiQn9Tp",
        "outputId": "3ef8e92d-aa5f-40be-924b-1f8b6328fbfa"
      },
      "execution_count": null,
      "outputs": [
        {
          "output_type": "stream",
          "name": "stdout",
          "text": [
            "Union: [1, 2, 3, 4, 5]\n",
            "Intersection: [3, 4]\n"
          ]
        }
      ]
    }
  ]
}