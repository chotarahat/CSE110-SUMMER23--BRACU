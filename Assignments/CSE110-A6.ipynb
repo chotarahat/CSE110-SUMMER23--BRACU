{
  "nbformat": 4,
  "nbformat_minor": 0,
  "metadata": {
    "colab": {
      "provenance": []
    },
    "kernelspec": {
      "name": "python3",
      "display_name": "Python 3"
    },
    "language_info": {
      "name": "python"
    }
  },
  "cells": [
    {
      "cell_type": "markdown",
      "source": [
        "**TASK 1**"
      ],
      "metadata": {
        "id": "_HL0P49y9OxH"
      }
    },
    {
      "cell_type": "code",
      "source": [
        "a_tuple = (\"The Institute\", (\"Best Mystery & Thriller\", \"The Silent Patient\", 68821), 75717,\n",
        "[1, 2, 3, 400, 5, 6, 7], (\"Best Fiction\", \"The Testaments\", 98291))\n",
        "print(a_tuple[3][3])"
      ],
      "metadata": {
        "colab": {
          "base_uri": "https://localhost:8080/"
        },
        "id": "R5DeoZvA9TJf",
        "outputId": "60f32e8a-1fec-42c4-b044-5a4ce90cff34"
      },
      "execution_count": null,
      "outputs": [
        {
          "output_type": "stream",
          "name": "stdout",
          "text": [
            "400\n"
          ]
        }
      ]
    },
    {
      "cell_type": "markdown",
      "source": [
        "**TASK 2**"
      ],
      "metadata": {
        "id": "bVPBLf0E-Jk9"
      }
    },
    {
      "cell_type": "code",
      "source": [
        "given_tuple = (1,2,8,8,88888,3,4)\n",
        "a = len(given_tuple)\n",
        "new_list = []\n",
        "for i in range(2, a-2):\n",
        "    new_list.append(given_tuple[i])\n",
        "new_tuple = tuple(new_list)\n",
        "print(new_tuple)\n",
        "\n",
        "\n"
      ],
      "metadata": {
        "id": "i-XjuFJ8_yEM",
        "colab": {
          "base_uri": "https://localhost:8080/"
        },
        "outputId": "265e446c-8135-4362-9416-2ed9c3a06a7e"
      },
      "execution_count": null,
      "outputs": [
        {
          "output_type": "stream",
          "name": "stdout",
          "text": [
            "(8, 8, 88888)\n"
          ]
        }
      ]
    },
    {
      "cell_type": "code",
      "source": [
        "a = (1,2,8,8,88888,3,4)\n",
        "\n",
        "c = []\n",
        "for i in range(2, (len(a)-2)):\n",
        "    c.append(a[i])\n",
        "new_tuple = tuple(c)\n",
        "print(new_tuple)\n"
      ],
      "metadata": {
        "colab": {
          "base_uri": "https://localhost:8080/"
        },
        "id": "EuDXVi5240ma",
        "outputId": "558c6c63-8fdb-4c33-d9e1-62e351eb12a8"
      },
      "execution_count": null,
      "outputs": [
        {
          "output_type": "stream",
          "name": "stdout",
          "text": [
            "(8, 8, 88888)\n"
          ]
        }
      ]
    },
    {
      "cell_type": "code",
      "source": [
        "input_string = (-10, 20, 25, 30, 40)\n",
        "list1 = []\n",
        "list1=list(input_string)\n",
        "temp=\"\"\n",
        "for i in input_string:\n",
        "    if char == \",\":\n",
        "        list1.append(int(temp))\n",
        "        temp = \"\"\n",
        "    else:\n",
        "      new_list = []\n",
        "      for i in range(2, len(list1)-2):\n",
        "        new_list.append(list1[i])\n",
        "tuple1 = tuple(new_list)\n",
        "print(tuple1)"
      ],
      "metadata": {
        "colab": {
          "base_uri": "https://localhost:8080/",
          "height": 245
        },
        "id": "0iT90cksBO6y",
        "outputId": "1ab4c2c2-70d0-4723-cd1f-c9c752f9c27b"
      },
      "execution_count": null,
      "outputs": [
        {
          "output_type": "error",
          "ename": "NameError",
          "evalue": "ignored",
          "traceback": [
            "\u001b[0;31m---------------------------------------------------------------------------\u001b[0m",
            "\u001b[0;31mNameError\u001b[0m                                 Traceback (most recent call last)",
            "\u001b[0;32m<ipython-input-1-310b1623bfea>\u001b[0m in \u001b[0;36m<cell line: 5>\u001b[0;34m()\u001b[0m\n\u001b[1;32m      4\u001b[0m \u001b[0mtemp\u001b[0m\u001b[0;34m=\u001b[0m\u001b[0;34m\"\"\u001b[0m\u001b[0;34m\u001b[0m\u001b[0;34m\u001b[0m\u001b[0m\n\u001b[1;32m      5\u001b[0m \u001b[0;32mfor\u001b[0m \u001b[0mi\u001b[0m \u001b[0;32min\u001b[0m \u001b[0minput_string\u001b[0m\u001b[0;34m:\u001b[0m\u001b[0;34m\u001b[0m\u001b[0;34m\u001b[0m\u001b[0m\n\u001b[0;32m----> 6\u001b[0;31m     \u001b[0;32mif\u001b[0m \u001b[0mchar\u001b[0m \u001b[0;34m==\u001b[0m \u001b[0;34m\",\"\u001b[0m\u001b[0;34m:\u001b[0m\u001b[0;34m\u001b[0m\u001b[0;34m\u001b[0m\u001b[0m\n\u001b[0m\u001b[1;32m      7\u001b[0m         \u001b[0mlist1\u001b[0m\u001b[0;34m.\u001b[0m\u001b[0mappend\u001b[0m\u001b[0;34m(\u001b[0m\u001b[0mint\u001b[0m\u001b[0;34m(\u001b[0m\u001b[0mtemp\u001b[0m\u001b[0;34m)\u001b[0m\u001b[0;34m)\u001b[0m\u001b[0;34m\u001b[0m\u001b[0;34m\u001b[0m\u001b[0m\n\u001b[1;32m      8\u001b[0m         \u001b[0mtemp\u001b[0m \u001b[0;34m=\u001b[0m \u001b[0;34m\"\"\u001b[0m\u001b[0;34m\u001b[0m\u001b[0;34m\u001b[0m\u001b[0m\n",
            "\u001b[0;31mNameError\u001b[0m: name 'char' is not defined"
          ]
        }
      ]
    },
    {
      "cell_type": "markdown",
      "source": [
        "**TASK 3**"
      ],
      "metadata": {
        "id": "Ct12jl2GD4aF"
      }
    },
    {
      "cell_type": "code",
      "source": [
        "book_info = (\n",
        "(\"Best Mystery & Thriller\",\"The Silent Patient\",68,821),\n",
        "(\"Best Horror\",\"The Institute\",75,717),\n",
        "(\"Best History & Biography\",\"The five\",31,783 ),\n",
        "(\"Best Fiction\",\"The Testaments\",98,291)\n",
        ")\n",
        "print(\"Size of the tuple is: \",len(book_info))\n",
        "for i in book_info:\n",
        "  print(i)\n",
        "\n",
        "\n",
        "\n",
        "print(\"Size of the tuple:\", len(book_info))\n",
        "for i in range(len(book_info)):\n",
        "  print(book_info[i])"
      ],
      "metadata": {
        "colab": {
          "base_uri": "https://localhost:8080/"
        },
        "id": "eXdEFHqiCI6O",
        "outputId": "e2e74f74-b27d-4f7e-8725-06ba727a4243"
      },
      "execution_count": null,
      "outputs": [
        {
          "output_type": "stream",
          "name": "stdout",
          "text": [
            "Size of the tuple is:  4\n",
            "('Best Mystery & Thriller', 'The Silent Patient', 68, 821)\n",
            "('Best Horror', 'The Institute', 75, 717)\n",
            "('Best History & Biography', 'The five', 31, 783)\n",
            "('Best Fiction', 'The Testaments', 98, 291)\n",
            "Size of the tuple: 4\n",
            "('Best Mystery & Thriller', 'The Silent Patient', 68, 821)\n",
            "('Best Horror', 'The Institute', 75, 717)\n",
            "('Best History & Biography', 'The five', 31, 783)\n",
            "('Best Fiction', 'The Testaments', 98, 291)\n"
          ]
        }
      ]
    },
    {
      "cell_type": "markdown",
      "source": [
        "**TASK 4**"
      ],
      "metadata": {
        "id": "jfUqYrEKD6lu"
      }
    },
    {
      "cell_type": "code",
      "source": [
        "book_info = (\n",
        "(\"Best Mystery & Thriller\",\"The Silent Patient\",68821),\n",
        "(\"Best Horror\",\"The Institute\",75717),\n",
        "(\"Best History & Biography\",\"The five\",31783 ),\n",
        "(\"Best Fiction\",\"The Testaments\",98291)\n",
        ")\n",
        "a,b,c,d= book_info\n",
        "print(a[1],\"won the\",a[0],\"category with\",a[2])\n",
        "print(b[1],\"won the\",b[0],\"category with\",b[2])\n",
        "print(c[1],\"won the\",c[0],\"category with\",c[2])\n",
        "print(d[1],\"won the\",d[0],\"category with\",d[2])\n"
      ],
      "metadata": {
        "colab": {
          "base_uri": "https://localhost:8080/"
        },
        "id": "hQ6yfZzGD8Md",
        "outputId": "aadf5ab1-d415-47b9-8516-8a7652014bdb"
      },
      "execution_count": null,
      "outputs": [
        {
          "output_type": "stream",
          "name": "stdout",
          "text": [
            "The Silent Patient won the Best Mystery & Thriller category with 68821\n",
            "The Institute won the Best Horror category with 75717\n",
            "The five won the Best History & Biography category with 31783\n",
            "The Testaments won the Best Fiction category with 98291\n"
          ]
        }
      ]
    },
    {
      "cell_type": "code",
      "source": [
        "book_info = (\n",
        "(\"Best Mystery & Thriller\",\"The Silent Patient\",68821),\n",
        "(\"Best Horror\",\"The Institute\",75717),\n",
        "(\"Best History & Biography\",\"The five\",31783 ),\n",
        "(\"Best Fiction\",\"The Testaments\",98291)\n",
        ")\n",
        "for i in range(len(book_info)):\n",
        "  print(f\"{book_info[i][1]} won the '{book_info[i][0]}' category with {book_info[i][2]} votes\")\n",
        "\n",
        "\n"
      ],
      "metadata": {
        "colab": {
          "base_uri": "https://localhost:8080/"
        },
        "id": "juEtTTT_84Pk",
        "outputId": "0519e502-f8d7-466e-81cb-0ff4e3bf67a9"
      },
      "execution_count": null,
      "outputs": [
        {
          "output_type": "stream",
          "name": "stdout",
          "text": [
            "The Silent Patient won the 'Best Mystery & Thriller' category with 68821 votes\n",
            "The Institute won the 'Best Horror' category with 75717 votes\n",
            "The five won the 'Best History & Biography' category with 31783 votes\n",
            "The Testaments won the 'Best Fiction' category with 98291 votes\n"
          ]
        }
      ]
    },
    {
      "cell_type": "markdown",
      "source": [
        "**Task 5**"
      ],
      "metadata": {
        "id": "327coQwzQnHY"
      }
    },
    {
      "cell_type": "code",
      "source": [
        "given_tuple = (10, 8, 5, 2, 10, 15, 10, 8, 5, 8, 8, 2)\n",
        "#new_tuple = list(given_tuple)\n",
        "\n",
        "count = 0\n",
        "number = int(input())\n",
        "for i in given_tuple:\n",
        "  if i == number:\n",
        "    count+=1\n",
        "print(f\"{number} appears {count} times in the tuple\")"
      ],
      "metadata": {
        "colab": {
          "base_uri": "https://localhost:8080/"
        },
        "id": "EIOKuv4gK09D",
        "outputId": "c770f288-258c-445f-c898-be24f26dbcd8"
      },
      "execution_count": null,
      "outputs": [
        {
          "output_type": "stream",
          "name": "stdout",
          "text": [
            "8\n",
            "8 appears 4 times in the tuple\n"
          ]
        }
      ]
    },
    {
      "cell_type": "code",
      "source": [
        "# Given tuple\n",
        "t = (10, 8, 5, 2, 10, 15, 10, 8, 5, 8, 8, 2)\n",
        "\n",
        "# Take input from user\n",
        "x = int(input(\"Enter a number: \"))\n",
        "\n",
        "# Initialize count to 0\n",
        "count = 0\n",
        "\n",
        "# Iterate through the elements of the tuple\n",
        "for element in t:\n",
        "    # If the element is equal to x, increment count\n",
        "    if element == x:\n",
        "        count += 1\n",
        "\n",
        "# Print the result\n",
        "print(f\"{x} appears {count} times in the tuple\")\n"
      ],
      "metadata": {
        "colab": {
          "base_uri": "https://localhost:8080/"
        },
        "id": "yCX5kGOnAc4z",
        "outputId": "ac4e758a-f35f-43ae-d619-723d7ad65aa0"
      },
      "execution_count": null,
      "outputs": [
        {
          "output_type": "stream",
          "name": "stdout",
          "text": [
            "Enter a number: 8\n",
            "8 appears 4 times in the tuple\n"
          ]
        }
      ]
    },
    {
      "cell_type": "markdown",
      "source": [
        "**TASK 6**"
      ],
      "metadata": {
        "id": "yjmIy6S-RUGO"
      }
    },
    {
      "cell_type": "code",
      "source": [
        "given_tuple = ('a', 'b', 'c', 'd', 'e', 'f', 'g', 'h')\n",
        "a = list(given_tuple)\n",
        "for i in range(-1,-8,-1):\n",
        "  print(a[i])"
      ],
      "metadata": {
        "id": "CI92xgTnMYhR",
        "colab": {
          "base_uri": "https://localhost:8080/"
        },
        "outputId": "45a1b564-d709-4df9-d5f7-97da1eeaeafc"
      },
      "execution_count": null,
      "outputs": [
        {
          "output_type": "stream",
          "name": "stdout",
          "text": [
            "h\n",
            "g\n",
            "f\n",
            "e\n",
            "d\n",
            "c\n",
            "b\n"
          ]
        }
      ]
    },
    {
      "cell_type": "code",
      "source": [
        "given_tuple =  ('a', 'b', 'c', 'd', 'e', 'f', 'g', 'h')\n",
        "a = list(given_tuple)\n",
        "d = []\n",
        "for i in range(-1,-len(a),-1):\n",
        "  d.append(a[i])\n",
        "s = tuple(d)\n",
        "print(s)"
      ],
      "metadata": {
        "colab": {
          "base_uri": "https://localhost:8080/"
        },
        "id": "G4lKOwH_RTm1",
        "outputId": "9315a8b5-6ff3-4ca0-fff5-8d76da4a76ae"
      },
      "execution_count": null,
      "outputs": [
        {
          "output_type": "stream",
          "name": "stdout",
          "text": [
            "('h', 'g', 'f', 'e', 'd', 'c', 'b')\n"
          ]
        }
      ]
    },
    {
      "cell_type": "markdown",
      "source": [
        "**TASK 7**"
      ],
      "metadata": {
        "id": "qCCBNVH9aIqV"
      }
    },
    {
      "cell_type": "code",
      "source": [
        "dict1={'Harry':15, 'Draco':8, 'Nevil':19}\n",
        "dict2={'Ginie':18, 'Luna': 14}\n",
        "\n",
        "\n",
        "marks = {}\n",
        "for i, j in dict1.items():\n",
        "  if i not in marks.keys():\n",
        "    marks[i] = [j]\n",
        "  else:\n",
        "     marks[i].append(j)\n",
        "for i, j in dict2.items():\n",
        "  if i not in marks.keys():\n",
        "    marks[i] = [j]\n",
        "  else:\n",
        "     marks[i].append(j)\n",
        "\n",
        "print((marks))"
      ],
      "metadata": {
        "colab": {
          "base_uri": "https://localhost:8080/",
          "height": 210
        },
        "id": "GQGF-MDBNUQg",
        "outputId": "56c3fbce-a3d0-4dd4-c33d-816dc2ba4abd"
      },
      "execution_count": null,
      "outputs": [
        {
          "output_type": "error",
          "ename": "NameError",
          "evalue": "ignored",
          "traceback": [
            "\u001b[0;31m---------------------------------------------------------------------------\u001b[0m",
            "\u001b[0;31mNameError\u001b[0m                                 Traceback (most recent call last)",
            "\u001b[0;32m<ipython-input-2-f90a4f7a8471>\u001b[0m in \u001b[0;36m<cell line: 16>\u001b[0;34m()\u001b[0m\n\u001b[1;32m     14\u001b[0m   \u001b[0;32melse\u001b[0m\u001b[0;34m:\u001b[0m\u001b[0;34m\u001b[0m\u001b[0;34m\u001b[0m\u001b[0m\n\u001b[1;32m     15\u001b[0m      \u001b[0mmarks\u001b[0m\u001b[0;34m[\u001b[0m\u001b[0mi\u001b[0m\u001b[0;34m]\u001b[0m\u001b[0;34m.\u001b[0m\u001b[0mappend\u001b[0m\u001b[0;34m(\u001b[0m\u001b[0mj\u001b[0m\u001b[0;34m)\u001b[0m\u001b[0;34m\u001b[0m\u001b[0;34m\u001b[0m\u001b[0m\n\u001b[0;32m---> 16\u001b[0;31m \u001b[0mprint\u001b[0m\u001b[0;34m(\u001b[0m\u001b[0mdic\u001b[0m\u001b[0;34m(\u001b[0m\u001b[0mmarks\u001b[0m\u001b[0;34m)\u001b[0m\u001b[0;34m)\u001b[0m\u001b[0;34m\u001b[0m\u001b[0;34m\u001b[0m\u001b[0m\n\u001b[0m",
            "\u001b[0;31mNameError\u001b[0m: name 'dic' is not defined"
          ]
        }
      ]
    },
    {
      "cell_type": "code",
      "source": [
        "dict1={'Harry':15, 'Draco':8, 'Nevil':19}\n",
        "dict2={'Ginie':18, 'Luna': 14}\n",
        "\n",
        "\n",
        "marks = {}\n",
        "for i, j in dict1.items():\n",
        "  if i not in marks.keys():\n",
        "\t    marks[i] = [j]\n",
        "\n",
        "for i, j in dict2.items():\n",
        "  if i not in marks.keys():\n",
        "\t    marks[i] = [j]\n",
        "print(marks)"
      ],
      "metadata": {
        "id": "dolUY8XztDTQ",
        "colab": {
          "base_uri": "https://localhost:8080/"
        },
        "outputId": "f5ee6470-f086-4cfa-d077-1c451f4d605a"
      },
      "execution_count": null,
      "outputs": [
        {
          "output_type": "stream",
          "name": "stdout",
          "text": [
            "{'Harry': [15], 'Draco': [8], 'Nevil': [19], 'Ginie': [18], 'Luna': [14]}\n"
          ]
        }
      ]
    },
    {
      "cell_type": "code",
      "source": [
        "dict1 = {'Harry':15, 'Draco':8, 'Nevil':19}\n",
        "dict2 = {'Ginie':18, 'Luna': 14}\n",
        "\n",
        "marks = {**dict1, **dict2}\n",
        "\n",
        "print(marks)\n"
      ],
      "metadata": {
        "colab": {
          "base_uri": "https://localhost:8080/"
        },
        "id": "cK1up-6XuNGI",
        "outputId": "b2122743-8f2a-4f3a-df91-268f06c60542"
      },
      "execution_count": null,
      "outputs": [
        {
          "output_type": "stream",
          "name": "stdout",
          "text": [
            "{'Harry': 15, 'Draco': 8, 'Nevil': 19, 'Ginie': 18, 'Luna': 14}\n"
          ]
        }
      ]
    },
    {
      "cell_type": "code",
      "source": [
        "\n",
        "d1 = {'A': 90, 'B': 0, 'C': 19}\n",
        "d2 = {\"1dd1\": 18, 'Luna': 14}\n",
        "\n",
        "marks = {}\n",
        "\n",
        "for key, value in d1.items():\n",
        "  marks[key] = value\n",
        "\n",
        "for key, value in d2.items():\n",
        "  marks[key] = value\n",
        "\n",
        "print(marks)\n"
      ],
      "metadata": {
        "colab": {
          "base_uri": "https://localhost:8080/"
        },
        "id": "-vB7H2spaMJw",
        "outputId": "83cff3e6-5815-491b-b8d2-9144e048a2c7"
      },
      "execution_count": null,
      "outputs": [
        {
          "output_type": "stream",
          "name": "stdout",
          "text": [
            "{'A': 90, 'B': 0, 'C': 19, '1dd1': 18, 'Luna': 14}\n"
          ]
        }
      ]
    },
    {
      "cell_type": "markdown",
      "source": [
        "**TASK 8**"
      ],
      "metadata": {
        "id": "fJW_9MCbdT73"
      }
    },
    {
      "cell_type": "code",
      "source": [
        "\n",
        "d = input()\n",
        "\n",
        "#d = dict(item.split(\":\") for item in d.split(\", \"))\n",
        "for item in d.split(\", \"):\n",
        "  d = dict(item.split(\":\"))\n",
        "print(d)\n",
        "total = 0\n",
        "count = 0\n",
        "\n",
        "for value in d.values():\n",
        "    total += int(value)\n",
        "    count += 1\n",
        "\n",
        "average = total // count\n",
        "\n",
        "print(f\"Average is {average}.\")\n"
      ],
      "metadata": {
        "colab": {
          "base_uri": "https://localhost:8080/",
          "height": 262
        },
        "id": "cKaEs8iFdXB0",
        "outputId": "53f48304-3471-4f23-a82c-91f90c87c6d1"
      },
      "execution_count": null,
      "outputs": [
        {
          "name": "stdout",
          "output_type": "stream",
          "text": [
            "Jon:100, Dan:200, Rob:300\n"
          ]
        },
        {
          "output_type": "error",
          "ename": "ValueError",
          "evalue": "ignored",
          "traceback": [
            "\u001b[0;31m---------------------------------------------------------------------------\u001b[0m",
            "\u001b[0;31mValueError\u001b[0m                                Traceback (most recent call last)",
            "\u001b[0;32m<ipython-input-4-53c265eeade9>\u001b[0m in \u001b[0;36m<cell line: 4>\u001b[0;34m()\u001b[0m\n\u001b[1;32m      3\u001b[0m \u001b[0;31m#d = dict(item.split(\":\") for item in d.split(\", \"))\u001b[0m\u001b[0;34m\u001b[0m\u001b[0;34m\u001b[0m\u001b[0m\n\u001b[1;32m      4\u001b[0m \u001b[0;32mfor\u001b[0m \u001b[0mitem\u001b[0m \u001b[0;32min\u001b[0m \u001b[0md\u001b[0m\u001b[0;34m.\u001b[0m\u001b[0msplit\u001b[0m\u001b[0;34m(\u001b[0m\u001b[0;34m\", \"\u001b[0m\u001b[0;34m)\u001b[0m\u001b[0;34m:\u001b[0m\u001b[0;34m\u001b[0m\u001b[0;34m\u001b[0m\u001b[0m\n\u001b[0;32m----> 5\u001b[0;31m   \u001b[0md\u001b[0m \u001b[0;34m=\u001b[0m \u001b[0mdict\u001b[0m\u001b[0;34m(\u001b[0m\u001b[0mitem\u001b[0m\u001b[0;34m.\u001b[0m\u001b[0msplit\u001b[0m\u001b[0;34m(\u001b[0m\u001b[0;34m\":\"\u001b[0m\u001b[0;34m)\u001b[0m\u001b[0;34m)\u001b[0m\u001b[0;34m\u001b[0m\u001b[0;34m\u001b[0m\u001b[0m\n\u001b[0m\u001b[1;32m      6\u001b[0m \u001b[0mprint\u001b[0m\u001b[0;34m(\u001b[0m\u001b[0md\u001b[0m\u001b[0;34m)\u001b[0m\u001b[0;34m\u001b[0m\u001b[0;34m\u001b[0m\u001b[0m\n\u001b[1;32m      7\u001b[0m \u001b[0mtotal\u001b[0m \u001b[0;34m=\u001b[0m \u001b[0;36m0\u001b[0m\u001b[0;34m\u001b[0m\u001b[0;34m\u001b[0m\u001b[0m\n",
            "\u001b[0;31mValueError\u001b[0m: dictionary update sequence element #0 has length 3; 2 is required"
          ]
        }
      ]
    },
    {
      "cell_type": "code",
      "source": [
        "\n",
        "d = input()\n",
        "a ={}\n",
        "d = dict(item.split(\":\") for item in d.split(\", \"))\n",
        "for key,value\n",
        "total = 0\n",
        "count = 0\n",
        "\n",
        "for value in d.values():\n",
        "    total += int(value)\n",
        "    count += 1\n",
        "\n",
        "average = total // count\n",
        "\n",
        "print(f\"Average is {average}.\")\n"
      ],
      "metadata": {
        "id": "uiNZr4ktoPCa"
      },
      "execution_count": null,
      "outputs": []
    },
    {
      "cell_type": "code",
      "source": [
        "d = input()\n",
        "\n",
        "#d = dict(item.split(\":\") for item in d.split(\", \"))\n",
        "for item.split(\":\") in d:\n",
        "  items=d.split(\", \")\n",
        "\n",
        "total = 0\n",
        "count = 0\n",
        "\n",
        "for value in d.values():\n",
        "    total += int(value)\n",
        "    count += 1\n",
        "\n",
        "average = total // count\n",
        "\n",
        "print(f\"Average is {average}.\")\n"
      ],
      "metadata": {
        "colab": {
          "base_uri": "https://localhost:8080/",
          "height": 140
        },
        "id": "w7_5tkEfiWnx",
        "outputId": "66d7ae26-7671-4cc1-cd30-2e48a62b2092"
      },
      "execution_count": null,
      "outputs": [
        {
          "output_type": "error",
          "ename": "SyntaxError",
          "evalue": "ignored",
          "traceback": [
            "\u001b[0;36m  File \u001b[0;32m\"<ipython-input-60-c00187b823ea>\"\u001b[0;36m, line \u001b[0;32m4\u001b[0m\n\u001b[0;31m    for item.split(\":\") in d:\u001b[0m\n\u001b[0m        ^\u001b[0m\n\u001b[0;31mSyntaxError\u001b[0m\u001b[0;31m:\u001b[0m cannot assign to function call\n"
          ]
        }
      ]
    },
    {
      "cell_type": "code",
      "source": [
        "# Take dictionary input from user\n",
        "d = input(\"Enter a dictionary (key:value, key:value, ...): \")\n",
        "\n",
        "# Initialize an empty dictionary\n",
        "result = {}\n",
        "\n",
        "# Split the input string on \", \" to get the individual key-value pairs\n",
        "items = d.split(\", \")\n",
        "\n",
        "# Iterate through the key-value pairs\n",
        "for item in items:\n",
        "    # Split the key-value pair on \":\" to separate the key and value\n",
        "    key, value = item.split(\":\")\n",
        "    # Add the key-value pair to the dictionary\n",
        "    result[key] = value\n",
        "\n",
        "# Print the resulting dictionary\n",
        "print(result)\n"
      ],
      "metadata": {
        "colab": {
          "base_uri": "https://localhost:8080/"
        },
        "id": "6uWDD_6ImL_W",
        "outputId": "cd735cb8-15a5-45f1-9b04-2397bbf801bc"
      },
      "execution_count": null,
      "outputs": [
        {
          "output_type": "stream",
          "name": "stdout",
          "text": [
            "Enter a dictionary (key:value, key:value, ...): Jon:100, Dan:200, Rob:300\n",
            "{'Jon': '100', 'Dan': '200', 'Rob': '300'}\n"
          ]
        }
      ]
    },
    {
      "cell_type": "code",
      "source": [
        "d = input().split(\", \")\n",
        "\n",
        "#d = dict(item.split(\":\") for item in d.split(\", \"))\n",
        "for item in d:\n",
        "  d=item.split(\":\")\n",
        "total = 0\n",
        "count = 0\n",
        "\n",
        "for value in d.values():\n",
        "    total += int(value)\n",
        "    count += 1\n",
        "\n",
        "average = total // count\n",
        "\n",
        "print(f\"Average is {average}.\")\n"
      ],
      "metadata": {
        "colab": {
          "base_uri": "https://localhost:8080/",
          "height": 262
        },
        "id": "izKOYUDRigsV",
        "outputId": "6170b86e-d881-45c6-fc67-a7b881eca022"
      },
      "execution_count": null,
      "outputs": [
        {
          "name": "stdout",
          "output_type": "stream",
          "text": [
            "Jon:100, Dan:200, Rob:300\n"
          ]
        },
        {
          "output_type": "error",
          "ename": "AttributeError",
          "evalue": "ignored",
          "traceback": [
            "\u001b[0;31m---------------------------------------------------------------------------\u001b[0m",
            "\u001b[0;31mAttributeError\u001b[0m                            Traceback (most recent call last)",
            "\u001b[0;32m<ipython-input-55-89739c432d87>\u001b[0m in \u001b[0;36m<cell line: 9>\u001b[0;34m()\u001b[0m\n\u001b[1;32m      7\u001b[0m \u001b[0mcount\u001b[0m \u001b[0;34m=\u001b[0m \u001b[0;36m0\u001b[0m\u001b[0;34m\u001b[0m\u001b[0;34m\u001b[0m\u001b[0m\n\u001b[1;32m      8\u001b[0m \u001b[0md\u001b[0m \u001b[0;34m=\u001b[0m\u001b[0mlist\u001b[0m\u001b[0;34m(\u001b[0m\u001b[0md\u001b[0m\u001b[0;34m)\u001b[0m\u001b[0;34m\u001b[0m\u001b[0;34m\u001b[0m\u001b[0m\n\u001b[0;32m----> 9\u001b[0;31m \u001b[0;32mfor\u001b[0m \u001b[0mvalue\u001b[0m \u001b[0;32min\u001b[0m \u001b[0md\u001b[0m\u001b[0;34m.\u001b[0m\u001b[0mvalues\u001b[0m\u001b[0;34m(\u001b[0m\u001b[0;34m)\u001b[0m\u001b[0;34m:\u001b[0m\u001b[0;34m\u001b[0m\u001b[0;34m\u001b[0m\u001b[0m\n\u001b[0m\u001b[1;32m     10\u001b[0m     \u001b[0mtotal\u001b[0m \u001b[0;34m+=\u001b[0m \u001b[0mint\u001b[0m\u001b[0;34m(\u001b[0m\u001b[0mvalue\u001b[0m\u001b[0;34m)\u001b[0m\u001b[0;34m\u001b[0m\u001b[0;34m\u001b[0m\u001b[0m\n\u001b[1;32m     11\u001b[0m     \u001b[0mcount\u001b[0m \u001b[0;34m+=\u001b[0m \u001b[0;36m1\u001b[0m\u001b[0;34m\u001b[0m\u001b[0;34m\u001b[0m\u001b[0m\n",
            "\u001b[0;31mAttributeError\u001b[0m: 'list' object has no attribute 'values'"
          ]
        }
      ]
    },
    {
      "cell_type": "code",
      "source": [
        "input = input()\n",
        "input.strip(\"{}\")\n",
        "list1 = input.split(\",\")\n",
        "my_dict = {}\n",
        "for i in list:\n",
        "  k,v = i\n",
        "  my_dict\n"
      ],
      "metadata": {
        "id": "tMRSVHwNNUKR"
      },
      "execution_count": null,
      "outputs": []
    },
    {
      "cell_type": "markdown",
      "source": [
        "**TASK 9**"
      ],
      "metadata": {
        "id": "Ar1EFsuuqAjW"
      }
    },
    {
      "cell_type": "code",
      "source": [
        "exam_marks = {'Cierra Vega': 175, 'Alden Cantrell': 200, 'Kierra Gentry': 165, 'Pierre Cox': 190}\n",
        "new_d={}\n",
        "number = int(input())\n",
        "for i in exam_marks.keys():\n",
        "  if exam_marks[i] >= number:\n",
        "    new_d[i]=exam_marks[i]\n",
        "print(new_d)"
      ],
      "metadata": {
        "colab": {
          "base_uri": "https://localhost:8080/"
        },
        "id": "tTWtsNCAqC5d",
        "outputId": "237c13ee-9570-43da-e8ac-b22f86620d09"
      },
      "execution_count": null,
      "outputs": [
        {
          "output_type": "stream",
          "name": "stdout",
          "text": [
            "190\n",
            "{'Alden Cantrell': 200, 'Pierre Cox': 190}\n"
          ]
        }
      ]
    },
    {
      "cell_type": "code",
      "source": [
        "exam_marks = {'Cierra Vega': 175, 'Alden Cantrell': 200, 'Kierra Gentry': 165, 'Pierre Cox': 190}\n",
        "new_d={}\n",
        "number = int(input())\n",
        "for i,j in exam_marks.items():\n",
        "  if j >= number:\n",
        "    new_d[i] = exam_marks[i]\n",
        "print(new_d)"
      ],
      "metadata": {
        "colab": {
          "base_uri": "https://localhost:8080/"
        },
        "id": "uY1F3k2wtiKG",
        "outputId": "dbd593c7-0208-465e-b026-9fdca98b68ab"
      },
      "execution_count": null,
      "outputs": [
        {
          "output_type": "stream",
          "name": "stdout",
          "text": [
            "190\n",
            "{'Alden Cantrell': 200, 'Pierre Cox': 190}\n"
          ]
        }
      ]
    },
    {
      "cell_type": "markdown",
      "source": [
        "**TASK 5**"
      ],
      "metadata": {
        "id": "oy-noFyyRdVw"
      }
    },
    {
      "cell_type": "code",
      "source": [
        "given_tuple = (10, 8, 5, 2, 10, 15, 10, 8, 5, 8, 8, 2)\n",
        "\n",
        "count = 0\n",
        "number = int(input())\n",
        "for i in given_tuple:\n",
        "  if i == number:\n",
        "    count+=1\n",
        "print(count)"
      ],
      "metadata": {
        "colab": {
          "base_uri": "https://localhost:8080/"
        },
        "id": "_k7l184zPlIY",
        "outputId": "e71ddd2b-a64f-4db7-9c08-a6ec252e5b29"
      },
      "execution_count": null,
      "outputs": [
        {
          "output_type": "stream",
          "name": "stdout",
          "text": [
            "5\n",
            "2\n"
          ]
        }
      ]
    },
    {
      "cell_type": "markdown",
      "source": [
        "**TASK 10**"
      ],
      "metadata": {
        "id": "HnuU7SgYuUp9"
      }
    },
    {
      "cell_type": "code",
      "source": [
        "given_dict = {'sci fi': 12, 'mystery': 15, 'horror': 8, 'mythology': 10, 'young_adult': 4, 'adventure':14}\n",
        "for i,j in given_dict.items():\n"
      ],
      "metadata": {
        "id": "_DdccccjuT2n"
      },
      "execution_count": null,
      "outputs": []
    },
    {
      "cell_type": "code",
      "source": [
        "a={'sci fi': 5, 'mystery': 3, 'horror': 14, 'young_adult': 2, 'adventure':9}\n",
        "c = 0\n",
        "for i in a:\n",
        "  b = a[i]\n",
        "  if(b>c):\n",
        "    c = b\n",
        "    d = i\n",
        "  else:\n",
        "    c = c\n",
        "print(f\"The highest selling book genre is '{d}' and the number of books sold are {c}.\")"
      ],
      "metadata": {
        "id": "VbwJwzfRxvB3"
      },
      "execution_count": null,
      "outputs": []
    },
    {
      "cell_type": "markdown",
      "source": [
        "**TASK 11**"
      ],
      "metadata": {
        "id": "WJOFM7HKQwaX"
      }
    },
    {
      "cell_type": "code",
      "source": [
        "input1 = \"Python programming is fun\"\n",
        "my_dict = {}\n",
        "for i in input1:\n",
        "  if i!=\" \":\n",
        "    if i not in my_dict.keys():\n",
        "      my_dict[i] = 1\n",
        "    else:\n",
        "      my_dict[i]+=1\n",
        "print(my_dict)"
      ],
      "metadata": {
        "colab": {
          "base_uri": "https://localhost:8080/"
        },
        "id": "M1_g3vXzQsdX",
        "outputId": "0b4a429c-b71c-438a-d05c-dc6221c806f7"
      },
      "execution_count": null,
      "outputs": [
        {
          "output_type": "stream",
          "name": "stdout",
          "text": [
            "{'P': 1, 'y': 1, 't': 1, 'h': 1, 'o': 2, 'n': 3, 'p': 1, 'r': 2, 'g': 2, 'a': 1, 'm': 2, 'i': 2, 's': 1, 'f': 1, 'u': 1}\n"
          ]
        }
      ]
    },
    {
      "cell_type": "code",
      "source": [
        "string = input()\n",
        "new_d = {}\n",
        "for char in string:\n",
        "    if 'A' <= char <= 'Z' or 'a' <= char <= 'z':\n",
        "        char = char if 'a' <= char <= 'z' else chr(ord(char) + 32)\n",
        "        if char in new_d:\n",
        "            new_d[char] += 1\n",
        "        else:\n",
        "            new_d[char] = 1\n",
        "print(new_d)\n"
      ],
      "metadata": {
        "colab": {
          "base_uri": "https://localhost:8080/"
        },
        "id": "45fkzUySzuC8",
        "outputId": "ea441bcf-943c-4979-ee1b-a6a45de617a0"
      },
      "execution_count": null,
      "outputs": [
        {
          "output_type": "stream",
          "name": "stdout",
          "text": [
            "Enter a string: \"Python programming is fun\"\n",
            "{'p': 2, 'y': 1, 't': 1, 'h': 1, 'o': 2, 'n': 3, 'r': 2, 'g': 2, 'a': 1, 'm': 2, 'i': 2, 's': 1, 'f': 1, 'u': 1}\n"
          ]
        }
      ]
    },
    {
      "cell_type": "markdown",
      "source": [
        "**TASK 12**"
      ],
      "metadata": {
        "id": "yaniPYM806MK"
      }
    },
    {
      "cell_type": "code",
      "source": [
        "dict_1 = {'A': [1, 2, 3], 'b': ['1', '2'], \"c\": [4, 5, 6, 7]}\n"
      ],
      "metadata": {
        "id": "e529Q7pU05ow"
      },
      "execution_count": null,
      "outputs": []
    },
    {
      "cell_type": "code",
      "source": [
        "dict_1 = {'A': [1, 2, 3], 'b': ['1', '2'], \"c\": [4, 5, 6, 7]}\n",
        "total = 0\n",
        "for key in dict_1:\n",
        "    value = dict_1[key]\n",
        "    count = 0\n",
        "    for item in value:\n",
        "        count += 1\n",
        "    total += count\n",
        "print(total)\n"
      ],
      "metadata": {
        "colab": {
          "base_uri": "https://localhost:8080/"
        },
        "id": "-v7SOOhU1ZAN",
        "outputId": "a8551230-214c-4df7-fe98-441a5dc12d59"
      },
      "execution_count": null,
      "outputs": [
        {
          "output_type": "stream",
          "name": "stdout",
          "text": [
            "10\n"
          ]
        }
      ]
    },
    {
      "cell_type": "markdown",
      "source": [
        "**TASK 13**"
      ],
      "metadata": {
        "id": "A_fWimfGRUHQ"
      }
    },
    {
      "cell_type": "code",
      "source": [
        "list_1 = [(\"a\",1),(\"b\",2),(\"a\",3),(\"b\",1),(\"a\",2),(\"c\",1)]\n",
        "\n",
        "dict_1 = {}\n",
        "\n",
        "for i, j in list_1:\n",
        "  if i!=\" \":\n",
        "    if i not in dict_1:\n",
        "      dict_1[i] = [j]\n",
        "    else:\n",
        "      dict_1[i].append(j)\n",
        "print(dict_1)"
      ],
      "metadata": {
        "colab": {
          "base_uri": "https://localhost:8080/"
        },
        "id": "UxRvgxq0RXco",
        "outputId": "2ad3f0cc-6842-4fd2-b615-d1fe8f475e8b"
      },
      "execution_count": null,
      "outputs": [
        {
          "output_type": "stream",
          "name": "stdout",
          "text": [
            "{'a': [1, 3, 2], 'b': [2, 1], 'c': [1]}\n"
          ]
        }
      ]
    },
    {
      "cell_type": "code",
      "source": [
        "given_tuple = ('a', 'b', 'c', 'd', 'e', 'f', 'g', 'h')\n",
        "a = list(given_tuple)\n",
        "for i in range(-1,1,-1):\n",
        "  print(i)"
      ],
      "metadata": {
        "id": "rLVJSZUqqGaJ"
      },
      "execution_count": null,
      "outputs": []
    },
    {
      "cell_type": "code",
      "source": [
        "list1= [(\"a\", 1), (\"b\", 2), (\"a\", 3), (\"b\", 1), (\"a\", 2), (\"c\", 1)]\n",
        "dict1 = {}\n",
        "for i in list1:\n",
        "  dict1[i[0]] = []\n",
        "for r in list1:\n",
        "  dict1[r[0]].append(r[1])\n",
        "print(dict1)"
      ],
      "metadata": {
        "colab": {
          "base_uri": "https://localhost:8080/"
        },
        "id": "uXG4eSsL3U8T",
        "outputId": "d35fd49c-7066-4040-9f9e-311524661f4d"
      },
      "execution_count": null,
      "outputs": [
        {
          "output_type": "stream",
          "name": "stdout",
          "text": [
            "{'a': [1, 3, 2], 'b': [2, 1], 'c': [1]}\n"
          ]
        }
      ]
    }
  ]
}